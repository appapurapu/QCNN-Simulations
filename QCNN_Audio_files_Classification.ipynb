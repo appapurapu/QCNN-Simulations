{
 "cells": [
  {
   "cell_type": "markdown",
   "metadata": {
    "id": "_79Tk6jLGdqI"
   },
   "source": [
    "# Quantum Convolutional Neural Networks (QCNN) for Audio Spectrogram Classification\n",
    "- A Hybrid Approach to Quantum Machine Learning"
   ]
  },
  {
   "cell_type": "markdown",
   "metadata": {
    "id": "OgoWmBVcGdqJ"
   },
   "source": [
    "## Import Libraries\n",
    "This cell imports the necessary libraries:\n",
    "- **NumPy, Matplotlib**: For numerical operations and visualization.\n",
    "- **Librosa**: For audio processing and spectrogram generation.\n",
    "- **PennyLane**: For quantum machine learning and simulation.\n",
    "- **Autograd**: For automatic differentiation."
   ]
  },
  {
   "cell_type": "code",
   "execution_count": 19,
   "metadata": {
    "colab": {
     "base_uri": "https://localhost:8080/",
     "height": 0
    },
    "id": "ycOnbMXKGiTP",
    "outputId": "651eeed9-0492-45f8-d5da-3197d99813e1"
   },
   "outputs": [],
   "source": [
    "\n",
    "# ============================\n",
    "# 1. Import Necessary Libraries\n",
    "# ============================\n",
    "\n",
    "import os\n",
    "import glob\n",
    "import shutil\n",
    "import librosa\n",
    "import librosa.display\n",
    "import numpy as np\n",
    "import matplotlib.pyplot as plt\n",
    "import soundfile as sf\n",
    "from tqdm import tqdm  # For progress bars during generation\n",
    "from sklearn.model_selection import train_test_split\n",
    "from sklearn.metrics import accuracy_score, confusion_matrix, classification_report\n",
    "import tensorflow as tf\n",
    "\n"
   ]
  },
  {
   "cell_type": "code",
   "execution_count": 20,
   "metadata": {
    "id": "eempxxAvGdqK"
   },
   "outputs": [],
   "source": [
    "# ============================\n",
    "# 2. Define Constants and Functions for Audio Generation\n",
    "# ============================\n",
    "\n",
    "# Define constants\n",
    "DATASET_PATH = \"generated_songs\"  # Root directory for generated songs\n",
    "GENRES = [\"indian_classical\", \"western_pop\"]  # List of genres\n",
    "NUM_SAMPLES_PER_GENRE = 100  # Number of samples to generate per genre\n",
    "SAMPLING_RATE = 22050  # Sampling rate\n"
   ]
  },
  {
   "cell_type": "markdown",
   "metadata": {
    "id": "6FejFDReGdqL"
   },
   "source": [
    "## Spectrogram Generation\n",
    "This function generates and visualizes the spectrogram for a given audio files."
   ]
  },
  {
   "cell_type": "code",
   "execution_count": 21,
   "metadata": {
    "id": "P1QG_CXkGdqL"
   },
   "outputs": [],
   "source": [
    "# ============================\n",
    "# 3. Define Functions for Audio Generation\n",
    "# ============================\n",
    "\n",
    "def generate_indian_classical_song(sample_num):\n",
    "    \"\"\"\n",
    "    Generates a more complex Indian Classical song simulation.\n",
    "    \"\"\"\n",
    "    duration = 5  # seconds\n",
    "    t = np.linspace(0, duration, int(SAMPLING_RATE * duration), False)\n",
    "    frequencies = [220, 330, 440]  # A3, E4, A4 notes\n",
    "    audio = sum(0.3 * np.sin(2 * np.pi * f * t) for f in frequencies)\n",
    "    # Add vibrato\n",
    "    vibrato = 0.05 * np.sin(2 * np.pi * 5 * t)  # 5 Hz vibrato\n",
    "    audio *= (1 + vibrato)\n",
    "    # Add background noise\n",
    "    audio += 0.02 * np.random.randn(len(t))\n",
    "    return audio\n",
    "\n",
    "def generate_western_pop_song(sample_num):\n",
    "    \"\"\"\n",
    "    Generates a more complex Western Pop song simulation.\n",
    "    \"\"\"\n",
    "    duration = 5  # seconds\n",
    "    t = np.linspace(0, duration, int(SAMPLING_RATE * duration), False)\n",
    "    frequencies = [554.37, 659.25, 880.00]  # C#5, E5, A5 notes\n",
    "    audio = sum(0.3 * np.sin(2 * np.pi * f * t) for f in frequencies)\n",
    "    # Apply reverb effect (simulated by simple delay)\n",
    "    delay_samples = int(0.2 * SAMPLING_RATE)  # 200ms delay\n",
    "    audio_reverb = np.pad(audio, (delay_samples, 0), mode='constant')[:len(audio)]\n",
    "    audio += 0.2 * audio_reverb\n",
    "    # Add background noise\n",
    "    audio += 0.02 * np.random.randn(len(t))\n",
    "    return audio\n",
    "\n",
    "def normalize_audio(audio_data):\n",
    "    \"\"\"\n",
    "    Normalize audio data to int16 format.\n",
    "    \"\"\"\n",
    "    max_val = np.max(np.abs(audio_data))\n",
    "    if max_val == 0:\n",
    "        return np.zeros_like(audio_data, dtype=np.int16)\n",
    "    audio_normalized = audio_data / max_val  # Normalize to [-1, 1]\n",
    "    audio_int16 = np.int16(audio_normalized * 32767)  # Convert to int16\n",
    "    return audio_int16\n",
    "\n",
    "def save_audio(file_path, audio_data, sampling_rate):\n",
    "    \"\"\"\n",
    "    Save audio data to a .wav file.\n",
    "    \"\"\"\n",
    "    try:\n",
    "        sf.write(file_path, audio_data, sampling_rate)\n",
    "    except Exception as e:\n",
    "        print(f\"Failed to save {file_path}: {e}\")\n",
    "\n",
    "def plot_spectrogram(audio_path, output_dir='spectrograms', save_plot=True):\n",
    "    \"\"\"\n",
    "    Generates and saves a spectrogram for the given audio file.\n",
    "    \"\"\"\n",
    "    try:\n",
    "        # Ensure the output directory exists\n",
    "        if save_plot:\n",
    "            os.makedirs(output_dir, exist_ok=True)\n",
    "        \n",
    "        # Load the audio file\n",
    "        y, sr = librosa.load(audio_path, sr=None)\n",
    "        \n",
    "        # Generate the spectrogram\n",
    "        D = librosa.stft(y)\n",
    "        S_db = librosa.amplitude_to_db(abs(D), ref=np.max)\n",
    "        \n",
    "        # Plot the spectrogram\n",
    "        plt.figure(figsize=(10, 4))\n",
    "        librosa.display.specshow(S_db, sr=sr, x_axis='time', y_axis='log')\n",
    "        plt.colorbar(format='%+2.0f dB')\n",
    "        plt.title(f'Spectrogram for {os.path.basename(audio_path)}')\n",
    "        plt.tight_layout()\n",
    "        \n",
    "        if save_plot:\n",
    "            # Save the plot\n",
    "            base_name = os.path.splitext(os.path.basename(audio_path))[0]\n",
    "            output_path = os.path.join(output_dir, f\"{base_name}_spectrogram.png\")\n",
    "            plt.savefig(output_path)\n",
    "            plt.close()\n",
    "            print(f\"Spectrogram saved to {output_path}\")\n",
    "        else:\n",
    "            # Display the plot\n",
    "            plt.show()\n",
    "            \n",
    "    except Exception as e:\n",
    "        print(f\"Error processing file {audio_path}: {e}\")"
   ]
  },
  {
   "cell_type": "code",
   "execution_count": 22,
   "metadata": {},
   "outputs": [
    {
     "name": "stdout",
     "output_type": "stream",
     "text": [
      "Removed existing directory: generated_songs\n",
      "Dataset directory set to: generated_songs\n",
      "Ensured existence of genre directory: generated_songs/indian_classical\n",
      "Ensured existence of genre directory: generated_songs/western_pop\n",
      "\n",
      "Generating samples for genre: indian_classical\n"
     ]
    },
    {
     "name": "stderr",
     "output_type": "stream",
     "text": [
      "Generating indian_classical samples:   1%|          | 1/100 [00:00<00:14,  6.71it/s]"
     ]
    },
    {
     "name": "stdout",
     "output_type": "stream",
     "text": [
      "Spectrogram saved to spectrograms/indian_classical_sample_1_spectrogram.png\n"
     ]
    },
    {
     "name": "stderr",
     "output_type": "stream",
     "text": [
      "Generating indian_classical samples:   2%|▏         | 2/100 [00:00<00:14,  6.79it/s]"
     ]
    },
    {
     "name": "stdout",
     "output_type": "stream",
     "text": [
      "Spectrogram saved to spectrograms/indian_classical_sample_2_spectrogram.png\n"
     ]
    },
    {
     "name": "stderr",
     "output_type": "stream",
     "text": [
      "Generating indian_classical samples:   3%|▎         | 3/100 [00:00<00:14,  6.85it/s]"
     ]
    },
    {
     "name": "stdout",
     "output_type": "stream",
     "text": [
      "Spectrogram saved to spectrograms/indian_classical_sample_3_spectrogram.png\n"
     ]
    },
    {
     "name": "stderr",
     "output_type": "stream",
     "text": [
      "Generating indian_classical samples:   4%|▍         | 4/100 [00:00<00:13,  6.92it/s]"
     ]
    },
    {
     "name": "stdout",
     "output_type": "stream",
     "text": [
      "Spectrogram saved to spectrograms/indian_classical_sample_4_spectrogram.png\n"
     ]
    },
    {
     "name": "stderr",
     "output_type": "stream",
     "text": [
      "Generating indian_classical samples:   5%|▌         | 5/100 [00:00<00:13,  6.97it/s]"
     ]
    },
    {
     "name": "stdout",
     "output_type": "stream",
     "text": [
      "Spectrogram saved to spectrograms/indian_classical_sample_5_spectrogram.png\n"
     ]
    },
    {
     "name": "stderr",
     "output_type": "stream",
     "text": [
      "Generating indian_classical samples:   6%|▌         | 6/100 [00:00<00:13,  6.90it/s]"
     ]
    },
    {
     "name": "stdout",
     "output_type": "stream",
     "text": [
      "Spectrogram saved to spectrograms/indian_classical_sample_6_spectrogram.png\n"
     ]
    },
    {
     "name": "stderr",
     "output_type": "stream",
     "text": [
      "Generating indian_classical samples:   7%|▋         | 7/100 [00:01<00:13,  6.93it/s]"
     ]
    },
    {
     "name": "stdout",
     "output_type": "stream",
     "text": [
      "Spectrogram saved to spectrograms/indian_classical_sample_7_spectrogram.png\n"
     ]
    },
    {
     "name": "stderr",
     "output_type": "stream",
     "text": [
      "Generating indian_classical samples:   8%|▊         | 8/100 [00:01<00:13,  6.98it/s]"
     ]
    },
    {
     "name": "stdout",
     "output_type": "stream",
     "text": [
      "Spectrogram saved to spectrograms/indian_classical_sample_8_spectrogram.png\n"
     ]
    },
    {
     "name": "stderr",
     "output_type": "stream",
     "text": [
      "Generating indian_classical samples:   9%|▉         | 9/100 [00:01<00:12,  7.03it/s]"
     ]
    },
    {
     "name": "stdout",
     "output_type": "stream",
     "text": [
      "Spectrogram saved to spectrograms/indian_classical_sample_9_spectrogram.png\n"
     ]
    },
    {
     "name": "stderr",
     "output_type": "stream",
     "text": [
      "Generating indian_classical samples:  10%|█         | 10/100 [00:01<00:12,  7.05it/s]"
     ]
    },
    {
     "name": "stdout",
     "output_type": "stream",
     "text": [
      "Spectrogram saved to spectrograms/indian_classical_sample_10_spectrogram.png\n"
     ]
    },
    {
     "name": "stderr",
     "output_type": "stream",
     "text": [
      "Generating indian_classical samples:  11%|█         | 11/100 [00:01<00:12,  6.95it/s]"
     ]
    },
    {
     "name": "stdout",
     "output_type": "stream",
     "text": [
      "Spectrogram saved to spectrograms/indian_classical_sample_11_spectrogram.png\n"
     ]
    },
    {
     "name": "stderr",
     "output_type": "stream",
     "text": [
      "Generating indian_classical samples:  12%|█▏        | 12/100 [00:01<00:12,  6.92it/s]"
     ]
    },
    {
     "name": "stdout",
     "output_type": "stream",
     "text": [
      "Spectrogram saved to spectrograms/indian_classical_sample_12_spectrogram.png\n"
     ]
    },
    {
     "name": "stderr",
     "output_type": "stream",
     "text": [
      "Generating indian_classical samples:  13%|█▎        | 13/100 [00:01<00:12,  6.91it/s]"
     ]
    },
    {
     "name": "stdout",
     "output_type": "stream",
     "text": [
      "Spectrogram saved to spectrograms/indian_classical_sample_13_spectrogram.png\n"
     ]
    },
    {
     "name": "stderr",
     "output_type": "stream",
     "text": [
      "Generating indian_classical samples:  14%|█▍        | 14/100 [00:02<00:12,  6.88it/s]"
     ]
    },
    {
     "name": "stdout",
     "output_type": "stream",
     "text": [
      "Spectrogram saved to spectrograms/indian_classical_sample_14_spectrogram.png\n"
     ]
    },
    {
     "name": "stderr",
     "output_type": "stream",
     "text": [
      "Generating indian_classical samples:  15%|█▌        | 15/100 [00:02<00:12,  6.91it/s]"
     ]
    },
    {
     "name": "stdout",
     "output_type": "stream",
     "text": [
      "Spectrogram saved to spectrograms/indian_classical_sample_15_spectrogram.png\n"
     ]
    },
    {
     "name": "stderr",
     "output_type": "stream",
     "text": [
      "Generating indian_classical samples:  16%|█▌        | 16/100 [00:02<00:12,  6.93it/s]"
     ]
    },
    {
     "name": "stdout",
     "output_type": "stream",
     "text": [
      "Spectrogram saved to spectrograms/indian_classical_sample_16_spectrogram.png\n"
     ]
    },
    {
     "name": "stderr",
     "output_type": "stream",
     "text": [
      "Generating indian_classical samples:  17%|█▋        | 17/100 [00:02<00:11,  6.95it/s]"
     ]
    },
    {
     "name": "stdout",
     "output_type": "stream",
     "text": [
      "Spectrogram saved to spectrograms/indian_classical_sample_17_spectrogram.png\n"
     ]
    },
    {
     "name": "stderr",
     "output_type": "stream",
     "text": [
      "Generating indian_classical samples:  18%|█▊        | 18/100 [00:02<00:11,  7.02it/s]"
     ]
    },
    {
     "name": "stdout",
     "output_type": "stream",
     "text": [
      "Spectrogram saved to spectrograms/indian_classical_sample_18_spectrogram.png\n"
     ]
    },
    {
     "name": "stderr",
     "output_type": "stream",
     "text": [
      "Generating indian_classical samples:  19%|█▉        | 19/100 [00:02<00:11,  7.09it/s]"
     ]
    },
    {
     "name": "stdout",
     "output_type": "stream",
     "text": [
      "Spectrogram saved to spectrograms/indian_classical_sample_19_spectrogram.png\n"
     ]
    },
    {
     "name": "stderr",
     "output_type": "stream",
     "text": [
      "Generating indian_classical samples:  20%|██        | 20/100 [00:02<00:11,  7.04it/s]"
     ]
    },
    {
     "name": "stdout",
     "output_type": "stream",
     "text": [
      "Spectrogram saved to spectrograms/indian_classical_sample_20_spectrogram.png\n"
     ]
    },
    {
     "name": "stderr",
     "output_type": "stream",
     "text": [
      "Generating indian_classical samples:  21%|██        | 21/100 [00:03<00:11,  7.06it/s]"
     ]
    },
    {
     "name": "stdout",
     "output_type": "stream",
     "text": [
      "Spectrogram saved to spectrograms/indian_classical_sample_21_spectrogram.png\n"
     ]
    },
    {
     "name": "stderr",
     "output_type": "stream",
     "text": [
      "Generating indian_classical samples:  22%|██▏       | 22/100 [00:03<00:11,  7.08it/s]"
     ]
    },
    {
     "name": "stdout",
     "output_type": "stream",
     "text": [
      "Spectrogram saved to spectrograms/indian_classical_sample_22_spectrogram.png\n"
     ]
    },
    {
     "name": "stderr",
     "output_type": "stream",
     "text": [
      "Generating indian_classical samples:  23%|██▎       | 23/100 [00:03<00:10,  7.07it/s]"
     ]
    },
    {
     "name": "stdout",
     "output_type": "stream",
     "text": [
      "Spectrogram saved to spectrograms/indian_classical_sample_23_spectrogram.png\n"
     ]
    },
    {
     "name": "stderr",
     "output_type": "stream",
     "text": [
      "Generating indian_classical samples:  24%|██▍       | 24/100 [00:03<00:10,  7.08it/s]"
     ]
    },
    {
     "name": "stdout",
     "output_type": "stream",
     "text": [
      "Spectrogram saved to spectrograms/indian_classical_sample_24_spectrogram.png\n"
     ]
    },
    {
     "name": "stderr",
     "output_type": "stream",
     "text": [
      "Generating indian_classical samples:  25%|██▌       | 25/100 [00:03<00:10,  7.11it/s]"
     ]
    },
    {
     "name": "stdout",
     "output_type": "stream",
     "text": [
      "Spectrogram saved to spectrograms/indian_classical_sample_25_spectrogram.png\n"
     ]
    },
    {
     "name": "stderr",
     "output_type": "stream",
     "text": [
      "Generating indian_classical samples:  27%|██▋       | 27/100 [00:03<00:11,  6.25it/s]"
     ]
    },
    {
     "name": "stdout",
     "output_type": "stream",
     "text": [
      "Spectrogram saved to spectrograms/indian_classical_sample_26_spectrogram.png\n",
      "Spectrogram saved to spectrograms/indian_classical_sample_27_spectrogram.png\n"
     ]
    },
    {
     "name": "stderr",
     "output_type": "stream",
     "text": [
      "Generating indian_classical samples:  29%|██▉       | 29/100 [00:04<00:10,  6.65it/s]"
     ]
    },
    {
     "name": "stdout",
     "output_type": "stream",
     "text": [
      "Spectrogram saved to spectrograms/indian_classical_sample_28_spectrogram.png\n",
      "Spectrogram saved to spectrograms/indian_classical_sample_29_spectrogram.png\n"
     ]
    },
    {
     "name": "stderr",
     "output_type": "stream",
     "text": [
      "Generating indian_classical samples:  31%|███       | 31/100 [00:04<00:09,  6.94it/s]"
     ]
    },
    {
     "name": "stdout",
     "output_type": "stream",
     "text": [
      "Spectrogram saved to spectrograms/indian_classical_sample_30_spectrogram.png\n",
      "Spectrogram saved to spectrograms/indian_classical_sample_31_spectrogram.png\n"
     ]
    },
    {
     "name": "stderr",
     "output_type": "stream",
     "text": [
      "Generating indian_classical samples:  33%|███▎      | 33/100 [00:04<00:09,  7.01it/s]"
     ]
    },
    {
     "name": "stdout",
     "output_type": "stream",
     "text": [
      "Spectrogram saved to spectrograms/indian_classical_sample_32_spectrogram.png\n",
      "Spectrogram saved to spectrograms/indian_classical_sample_33_spectrogram.png\n"
     ]
    },
    {
     "name": "stderr",
     "output_type": "stream",
     "text": [
      "Generating indian_classical samples:  35%|███▌      | 35/100 [00:05<00:09,  7.02it/s]"
     ]
    },
    {
     "name": "stdout",
     "output_type": "stream",
     "text": [
      "Spectrogram saved to spectrograms/indian_classical_sample_34_spectrogram.png\n",
      "Spectrogram saved to spectrograms/indian_classical_sample_35_spectrogram.png\n"
     ]
    },
    {
     "name": "stderr",
     "output_type": "stream",
     "text": [
      "Generating indian_classical samples:  35%|███▌      | 35/100 [00:05<00:09,  6.72it/s]\n"
     ]
    },
    {
     "ename": "KeyboardInterrupt",
     "evalue": "",
     "output_type": "error",
     "traceback": [
      "\u001b[0;31m---------------------------------------------------------------------------\u001b[0m",
      "\u001b[0;31mKeyboardInterrupt\u001b[0m                         Traceback (most recent call last)",
      "Cell \u001b[0;32mIn[22], line 109\u001b[0m\n\u001b[1;32m    106\u001b[0m     \u001b[38;5;28mprint\u001b[39m(\u001b[38;5;124m\"\u001b[39m\u001b[38;5;130;01m\\n\u001b[39;00m\u001b[38;5;124mAll samples generated and saved successfully.\u001b[39m\u001b[38;5;124m\"\u001b[39m)\n\u001b[1;32m    108\u001b[0m \u001b[38;5;66;03m# Execute the audio generation\u001b[39;00m\n\u001b[0;32m--> 109\u001b[0m \u001b[43mgenerate_multiple_samples\u001b[49m\u001b[43m(\u001b[49m\u001b[43m)\u001b[49m\n",
      "Cell \u001b[0;32mIn[22], line 104\u001b[0m, in \u001b[0;36mgenerate_multiple_samples\u001b[0;34m()\u001b[0m\n\u001b[1;32m    102\u001b[0m         save_audio(file_path, audio_normalized, SAMPLING_RATE)\n\u001b[1;32m    103\u001b[0m         \u001b[38;5;66;03m# Optionally, plot spectrogram\u001b[39;00m\n\u001b[0;32m--> 104\u001b[0m         \u001b[43mplot_spectrogram\u001b[49m\u001b[43m(\u001b[49m\u001b[43mfile_path\u001b[49m\u001b[43m)\u001b[49m\n\u001b[1;32m    106\u001b[0m \u001b[38;5;28mprint\u001b[39m(\u001b[38;5;124m\"\u001b[39m\u001b[38;5;130;01m\\n\u001b[39;00m\u001b[38;5;124mAll samples generated and saved successfully.\u001b[39m\u001b[38;5;124m\"\u001b[39m)\n",
      "Cell \u001b[0;32mIn[21], line 83\u001b[0m, in \u001b[0;36mplot_spectrogram\u001b[0;34m(audio_path, output_dir, save_plot)\u001b[0m\n\u001b[1;32m     81\u001b[0m base_name \u001b[38;5;241m=\u001b[39m os\u001b[38;5;241m.\u001b[39mpath\u001b[38;5;241m.\u001b[39msplitext(os\u001b[38;5;241m.\u001b[39mpath\u001b[38;5;241m.\u001b[39mbasename(audio_path))[\u001b[38;5;241m0\u001b[39m]\n\u001b[1;32m     82\u001b[0m output_path \u001b[38;5;241m=\u001b[39m os\u001b[38;5;241m.\u001b[39mpath\u001b[38;5;241m.\u001b[39mjoin(output_dir, \u001b[38;5;124mf\u001b[39m\u001b[38;5;124m\"\u001b[39m\u001b[38;5;132;01m{\u001b[39;00mbase_name\u001b[38;5;132;01m}\u001b[39;00m\u001b[38;5;124m_spectrogram.png\u001b[39m\u001b[38;5;124m\"\u001b[39m)\n\u001b[0;32m---> 83\u001b[0m \u001b[43mplt\u001b[49m\u001b[38;5;241;43m.\u001b[39;49m\u001b[43msavefig\u001b[49m\u001b[43m(\u001b[49m\u001b[43moutput_path\u001b[49m\u001b[43m)\u001b[49m\n\u001b[1;32m     84\u001b[0m plt\u001b[38;5;241m.\u001b[39mclose()\n\u001b[1;32m     85\u001b[0m \u001b[38;5;28mprint\u001b[39m(\u001b[38;5;124mf\u001b[39m\u001b[38;5;124m\"\u001b[39m\u001b[38;5;124mSpectrogram saved to \u001b[39m\u001b[38;5;132;01m{\u001b[39;00moutput_path\u001b[38;5;132;01m}\u001b[39;00m\u001b[38;5;124m\"\u001b[39m)\n",
      "File \u001b[0;32m/opt/anaconda3/envs/conda_venv/lib/python3.11/site-packages/matplotlib/pyplot.py:1229\u001b[0m, in \u001b[0;36msavefig\u001b[0;34m(*args, **kwargs)\u001b[0m\n\u001b[1;32m   1226\u001b[0m \u001b[38;5;66;03m# savefig default implementation has no return, so mypy is unhappy\u001b[39;00m\n\u001b[1;32m   1227\u001b[0m \u001b[38;5;66;03m# presumably this is here because subclasses can return?\u001b[39;00m\n\u001b[1;32m   1228\u001b[0m res \u001b[38;5;241m=\u001b[39m fig\u001b[38;5;241m.\u001b[39msavefig(\u001b[38;5;241m*\u001b[39margs, \u001b[38;5;241m*\u001b[39m\u001b[38;5;241m*\u001b[39mkwargs)  \u001b[38;5;66;03m# type: ignore[func-returns-value]\u001b[39;00m\n\u001b[0;32m-> 1229\u001b[0m \u001b[43mfig\u001b[49m\u001b[38;5;241;43m.\u001b[39;49m\u001b[43mcanvas\u001b[49m\u001b[38;5;241;43m.\u001b[39;49m\u001b[43mdraw_idle\u001b[49m\u001b[43m(\u001b[49m\u001b[43m)\u001b[49m  \u001b[38;5;66;03m# Need this if 'transparent=True', to reset colors.\u001b[39;00m\n\u001b[1;32m   1230\u001b[0m \u001b[38;5;28;01mreturn\u001b[39;00m res\n",
      "File \u001b[0;32m/opt/anaconda3/envs/conda_venv/lib/python3.11/site-packages/matplotlib/backend_bases.py:1905\u001b[0m, in \u001b[0;36mFigureCanvasBase.draw_idle\u001b[0;34m(self, *args, **kwargs)\u001b[0m\n\u001b[1;32m   1903\u001b[0m \u001b[38;5;28;01mif\u001b[39;00m \u001b[38;5;129;01mnot\u001b[39;00m \u001b[38;5;28mself\u001b[39m\u001b[38;5;241m.\u001b[39m_is_idle_drawing:\n\u001b[1;32m   1904\u001b[0m     \u001b[38;5;28;01mwith\u001b[39;00m \u001b[38;5;28mself\u001b[39m\u001b[38;5;241m.\u001b[39m_idle_draw_cntx():\n\u001b[0;32m-> 1905\u001b[0m         \u001b[38;5;28;43mself\u001b[39;49m\u001b[38;5;241;43m.\u001b[39;49m\u001b[43mdraw\u001b[49m\u001b[43m(\u001b[49m\u001b[38;5;241;43m*\u001b[39;49m\u001b[43margs\u001b[49m\u001b[43m,\u001b[49m\u001b[43m \u001b[49m\u001b[38;5;241;43m*\u001b[39;49m\u001b[38;5;241;43m*\u001b[39;49m\u001b[43mkwargs\u001b[49m\u001b[43m)\u001b[49m\n",
      "File \u001b[0;32m/opt/anaconda3/envs/conda_venv/lib/python3.11/site-packages/matplotlib/backends/backend_agg.py:387\u001b[0m, in \u001b[0;36mFigureCanvasAgg.draw\u001b[0;34m(self)\u001b[0m\n\u001b[1;32m    384\u001b[0m \u001b[38;5;66;03m# Acquire a lock on the shared font cache.\u001b[39;00m\n\u001b[1;32m    385\u001b[0m \u001b[38;5;28;01mwith\u001b[39;00m (\u001b[38;5;28mself\u001b[39m\u001b[38;5;241m.\u001b[39mtoolbar\u001b[38;5;241m.\u001b[39m_wait_cursor_for_draw_cm() \u001b[38;5;28;01mif\u001b[39;00m \u001b[38;5;28mself\u001b[39m\u001b[38;5;241m.\u001b[39mtoolbar\n\u001b[1;32m    386\u001b[0m       \u001b[38;5;28;01melse\u001b[39;00m nullcontext()):\n\u001b[0;32m--> 387\u001b[0m     \u001b[38;5;28;43mself\u001b[39;49m\u001b[38;5;241;43m.\u001b[39;49m\u001b[43mfigure\u001b[49m\u001b[38;5;241;43m.\u001b[39;49m\u001b[43mdraw\u001b[49m\u001b[43m(\u001b[49m\u001b[38;5;28;43mself\u001b[39;49m\u001b[38;5;241;43m.\u001b[39;49m\u001b[43mrenderer\u001b[49m\u001b[43m)\u001b[49m\n\u001b[1;32m    388\u001b[0m     \u001b[38;5;66;03m# A GUI class may be need to update a window using this draw, so\u001b[39;00m\n\u001b[1;32m    389\u001b[0m     \u001b[38;5;66;03m# don't forget to call the superclass.\u001b[39;00m\n\u001b[1;32m    390\u001b[0m     \u001b[38;5;28msuper\u001b[39m()\u001b[38;5;241m.\u001b[39mdraw()\n",
      "File \u001b[0;32m/opt/anaconda3/envs/conda_venv/lib/python3.11/site-packages/matplotlib/artist.py:95\u001b[0m, in \u001b[0;36m_finalize_rasterization.<locals>.draw_wrapper\u001b[0;34m(artist, renderer, *args, **kwargs)\u001b[0m\n\u001b[1;32m     93\u001b[0m \u001b[38;5;129m@wraps\u001b[39m(draw)\n\u001b[1;32m     94\u001b[0m \u001b[38;5;28;01mdef\u001b[39;00m \u001b[38;5;21mdraw_wrapper\u001b[39m(artist, renderer, \u001b[38;5;241m*\u001b[39margs, \u001b[38;5;241m*\u001b[39m\u001b[38;5;241m*\u001b[39mkwargs):\n\u001b[0;32m---> 95\u001b[0m     result \u001b[38;5;241m=\u001b[39m \u001b[43mdraw\u001b[49m\u001b[43m(\u001b[49m\u001b[43martist\u001b[49m\u001b[43m,\u001b[49m\u001b[43m \u001b[49m\u001b[43mrenderer\u001b[49m\u001b[43m,\u001b[49m\u001b[43m \u001b[49m\u001b[38;5;241;43m*\u001b[39;49m\u001b[43margs\u001b[49m\u001b[43m,\u001b[49m\u001b[43m \u001b[49m\u001b[38;5;241;43m*\u001b[39;49m\u001b[38;5;241;43m*\u001b[39;49m\u001b[43mkwargs\u001b[49m\u001b[43m)\u001b[49m\n\u001b[1;32m     96\u001b[0m     \u001b[38;5;28;01mif\u001b[39;00m renderer\u001b[38;5;241m.\u001b[39m_rasterizing:\n\u001b[1;32m     97\u001b[0m         renderer\u001b[38;5;241m.\u001b[39mstop_rasterizing()\n",
      "File \u001b[0;32m/opt/anaconda3/envs/conda_venv/lib/python3.11/site-packages/matplotlib/artist.py:72\u001b[0m, in \u001b[0;36mallow_rasterization.<locals>.draw_wrapper\u001b[0;34m(artist, renderer)\u001b[0m\n\u001b[1;32m     69\u001b[0m     \u001b[38;5;28;01mif\u001b[39;00m artist\u001b[38;5;241m.\u001b[39mget_agg_filter() \u001b[38;5;129;01mis\u001b[39;00m \u001b[38;5;129;01mnot\u001b[39;00m \u001b[38;5;28;01mNone\u001b[39;00m:\n\u001b[1;32m     70\u001b[0m         renderer\u001b[38;5;241m.\u001b[39mstart_filter()\n\u001b[0;32m---> 72\u001b[0m     \u001b[38;5;28;01mreturn\u001b[39;00m \u001b[43mdraw\u001b[49m\u001b[43m(\u001b[49m\u001b[43martist\u001b[49m\u001b[43m,\u001b[49m\u001b[43m \u001b[49m\u001b[43mrenderer\u001b[49m\u001b[43m)\u001b[49m\n\u001b[1;32m     73\u001b[0m \u001b[38;5;28;01mfinally\u001b[39;00m:\n\u001b[1;32m     74\u001b[0m     \u001b[38;5;28;01mif\u001b[39;00m artist\u001b[38;5;241m.\u001b[39mget_agg_filter() \u001b[38;5;129;01mis\u001b[39;00m \u001b[38;5;129;01mnot\u001b[39;00m \u001b[38;5;28;01mNone\u001b[39;00m:\n",
      "File \u001b[0;32m/opt/anaconda3/envs/conda_venv/lib/python3.11/site-packages/matplotlib/figure.py:3162\u001b[0m, in \u001b[0;36mFigure.draw\u001b[0;34m(self, renderer)\u001b[0m\n\u001b[1;32m   3159\u001b[0m             \u001b[38;5;66;03m# ValueError can occur when resizing a window.\u001b[39;00m\n\u001b[1;32m   3161\u001b[0m     \u001b[38;5;28mself\u001b[39m\u001b[38;5;241m.\u001b[39mpatch\u001b[38;5;241m.\u001b[39mdraw(renderer)\n\u001b[0;32m-> 3162\u001b[0m     \u001b[43mmimage\u001b[49m\u001b[38;5;241;43m.\u001b[39;49m\u001b[43m_draw_list_compositing_images\u001b[49m\u001b[43m(\u001b[49m\n\u001b[1;32m   3163\u001b[0m \u001b[43m        \u001b[49m\u001b[43mrenderer\u001b[49m\u001b[43m,\u001b[49m\u001b[43m \u001b[49m\u001b[38;5;28;43mself\u001b[39;49m\u001b[43m,\u001b[49m\u001b[43m \u001b[49m\u001b[43martists\u001b[49m\u001b[43m,\u001b[49m\u001b[43m \u001b[49m\u001b[38;5;28;43mself\u001b[39;49m\u001b[38;5;241;43m.\u001b[39;49m\u001b[43msuppressComposite\u001b[49m\u001b[43m)\u001b[49m\n\u001b[1;32m   3165\u001b[0m     renderer\u001b[38;5;241m.\u001b[39mclose_group(\u001b[38;5;124m'\u001b[39m\u001b[38;5;124mfigure\u001b[39m\u001b[38;5;124m'\u001b[39m)\n\u001b[1;32m   3166\u001b[0m \u001b[38;5;28;01mfinally\u001b[39;00m:\n",
      "File \u001b[0;32m/opt/anaconda3/envs/conda_venv/lib/python3.11/site-packages/matplotlib/image.py:132\u001b[0m, in \u001b[0;36m_draw_list_compositing_images\u001b[0;34m(renderer, parent, artists, suppress_composite)\u001b[0m\n\u001b[1;32m    130\u001b[0m \u001b[38;5;28;01mif\u001b[39;00m not_composite \u001b[38;5;129;01mor\u001b[39;00m \u001b[38;5;129;01mnot\u001b[39;00m has_images:\n\u001b[1;32m    131\u001b[0m     \u001b[38;5;28;01mfor\u001b[39;00m a \u001b[38;5;129;01min\u001b[39;00m artists:\n\u001b[0;32m--> 132\u001b[0m         \u001b[43ma\u001b[49m\u001b[38;5;241;43m.\u001b[39;49m\u001b[43mdraw\u001b[49m\u001b[43m(\u001b[49m\u001b[43mrenderer\u001b[49m\u001b[43m)\u001b[49m\n\u001b[1;32m    133\u001b[0m \u001b[38;5;28;01melse\u001b[39;00m:\n\u001b[1;32m    134\u001b[0m     \u001b[38;5;66;03m# Composite any adjacent images together\u001b[39;00m\n\u001b[1;32m    135\u001b[0m     image_group \u001b[38;5;241m=\u001b[39m []\n",
      "File \u001b[0;32m/opt/anaconda3/envs/conda_venv/lib/python3.11/site-packages/matplotlib/artist.py:72\u001b[0m, in \u001b[0;36mallow_rasterization.<locals>.draw_wrapper\u001b[0;34m(artist, renderer)\u001b[0m\n\u001b[1;32m     69\u001b[0m     \u001b[38;5;28;01mif\u001b[39;00m artist\u001b[38;5;241m.\u001b[39mget_agg_filter() \u001b[38;5;129;01mis\u001b[39;00m \u001b[38;5;129;01mnot\u001b[39;00m \u001b[38;5;28;01mNone\u001b[39;00m:\n\u001b[1;32m     70\u001b[0m         renderer\u001b[38;5;241m.\u001b[39mstart_filter()\n\u001b[0;32m---> 72\u001b[0m     \u001b[38;5;28;01mreturn\u001b[39;00m \u001b[43mdraw\u001b[49m\u001b[43m(\u001b[49m\u001b[43martist\u001b[49m\u001b[43m,\u001b[49m\u001b[43m \u001b[49m\u001b[43mrenderer\u001b[49m\u001b[43m)\u001b[49m\n\u001b[1;32m     73\u001b[0m \u001b[38;5;28;01mfinally\u001b[39;00m:\n\u001b[1;32m     74\u001b[0m     \u001b[38;5;28;01mif\u001b[39;00m artist\u001b[38;5;241m.\u001b[39mget_agg_filter() \u001b[38;5;129;01mis\u001b[39;00m \u001b[38;5;129;01mnot\u001b[39;00m \u001b[38;5;28;01mNone\u001b[39;00m:\n",
      "File \u001b[0;32m/opt/anaconda3/envs/conda_venv/lib/python3.11/site-packages/matplotlib/axes/_base.py:3137\u001b[0m, in \u001b[0;36m_AxesBase.draw\u001b[0;34m(self, renderer)\u001b[0m\n\u001b[1;32m   3134\u001b[0m \u001b[38;5;28;01mif\u001b[39;00m artists_rasterized:\n\u001b[1;32m   3135\u001b[0m     _draw_rasterized(\u001b[38;5;28mself\u001b[39m\u001b[38;5;241m.\u001b[39mfigure, artists_rasterized, renderer)\n\u001b[0;32m-> 3137\u001b[0m \u001b[43mmimage\u001b[49m\u001b[38;5;241;43m.\u001b[39;49m\u001b[43m_draw_list_compositing_images\u001b[49m\u001b[43m(\u001b[49m\n\u001b[1;32m   3138\u001b[0m \u001b[43m    \u001b[49m\u001b[43mrenderer\u001b[49m\u001b[43m,\u001b[49m\u001b[43m \u001b[49m\u001b[38;5;28;43mself\u001b[39;49m\u001b[43m,\u001b[49m\u001b[43m \u001b[49m\u001b[43martists\u001b[49m\u001b[43m,\u001b[49m\u001b[43m \u001b[49m\u001b[38;5;28;43mself\u001b[39;49m\u001b[38;5;241;43m.\u001b[39;49m\u001b[43mfigure\u001b[49m\u001b[38;5;241;43m.\u001b[39;49m\u001b[43msuppressComposite\u001b[49m\u001b[43m)\u001b[49m\n\u001b[1;32m   3140\u001b[0m renderer\u001b[38;5;241m.\u001b[39mclose_group(\u001b[38;5;124m'\u001b[39m\u001b[38;5;124maxes\u001b[39m\u001b[38;5;124m'\u001b[39m)\n\u001b[1;32m   3141\u001b[0m \u001b[38;5;28mself\u001b[39m\u001b[38;5;241m.\u001b[39mstale \u001b[38;5;241m=\u001b[39m \u001b[38;5;28;01mFalse\u001b[39;00m\n",
      "File \u001b[0;32m/opt/anaconda3/envs/conda_venv/lib/python3.11/site-packages/matplotlib/image.py:132\u001b[0m, in \u001b[0;36m_draw_list_compositing_images\u001b[0;34m(renderer, parent, artists, suppress_composite)\u001b[0m\n\u001b[1;32m    130\u001b[0m \u001b[38;5;28;01mif\u001b[39;00m not_composite \u001b[38;5;129;01mor\u001b[39;00m \u001b[38;5;129;01mnot\u001b[39;00m has_images:\n\u001b[1;32m    131\u001b[0m     \u001b[38;5;28;01mfor\u001b[39;00m a \u001b[38;5;129;01min\u001b[39;00m artists:\n\u001b[0;32m--> 132\u001b[0m         \u001b[43ma\u001b[49m\u001b[38;5;241;43m.\u001b[39;49m\u001b[43mdraw\u001b[49m\u001b[43m(\u001b[49m\u001b[43mrenderer\u001b[49m\u001b[43m)\u001b[49m\n\u001b[1;32m    133\u001b[0m \u001b[38;5;28;01melse\u001b[39;00m:\n\u001b[1;32m    134\u001b[0m     \u001b[38;5;66;03m# Composite any adjacent images together\u001b[39;00m\n\u001b[1;32m    135\u001b[0m     image_group \u001b[38;5;241m=\u001b[39m []\n",
      "File \u001b[0;32m/opt/anaconda3/envs/conda_venv/lib/python3.11/site-packages/matplotlib/artist.py:74\u001b[0m, in \u001b[0;36mallow_rasterization.<locals>.draw_wrapper\u001b[0;34m(artist, renderer)\u001b[0m\n\u001b[1;32m     72\u001b[0m     \u001b[38;5;28;01mreturn\u001b[39;00m draw(artist, renderer)\n\u001b[1;32m     73\u001b[0m \u001b[38;5;28;01mfinally\u001b[39;00m:\n\u001b[0;32m---> 74\u001b[0m     \u001b[38;5;28;01mif\u001b[39;00m \u001b[43martist\u001b[49m\u001b[38;5;241;43m.\u001b[39;49m\u001b[43mget_agg_filter\u001b[49m\u001b[43m(\u001b[49m\u001b[43m)\u001b[49m \u001b[38;5;129;01mis\u001b[39;00m \u001b[38;5;129;01mnot\u001b[39;00m \u001b[38;5;28;01mNone\u001b[39;00m:\n\u001b[1;32m     75\u001b[0m         renderer\u001b[38;5;241m.\u001b[39mstop_filter(artist\u001b[38;5;241m.\u001b[39mget_agg_filter())\n\u001b[1;32m     76\u001b[0m     \u001b[38;5;28;01mif\u001b[39;00m artist\u001b[38;5;241m.\u001b[39mget_rasterized():\n",
      "File \u001b[0;32m/opt/anaconda3/envs/conda_venv/lib/python3.11/site-packages/matplotlib/artist.py:957\u001b[0m, in \u001b[0;36mArtist.get_agg_filter\u001b[0;34m(self)\u001b[0m\n\u001b[1;32m    953\u001b[0m         _api\u001b[38;5;241m.\u001b[39mwarn_external(\u001b[38;5;124mf\u001b[39m\u001b[38;5;124m\"\u001b[39m\u001b[38;5;124mRasterization of \u001b[39m\u001b[38;5;124m'\u001b[39m\u001b[38;5;132;01m{\u001b[39;00m\u001b[38;5;28mself\u001b[39m\u001b[38;5;132;01m}\u001b[39;00m\u001b[38;5;124m'\u001b[39m\u001b[38;5;124m will be ignored\u001b[39m\u001b[38;5;124m\"\u001b[39m)\n\u001b[1;32m    955\u001b[0m     \u001b[38;5;28mself\u001b[39m\u001b[38;5;241m.\u001b[39m_rasterized \u001b[38;5;241m=\u001b[39m rasterized\n\u001b[0;32m--> 957\u001b[0m \u001b[38;5;28;01mdef\u001b[39;00m \u001b[38;5;21mget_agg_filter\u001b[39m(\u001b[38;5;28mself\u001b[39m):\n\u001b[1;32m    958\u001b[0m \u001b[38;5;250m    \u001b[39m\u001b[38;5;124;03m\"\"\"Return filter function to be used for agg filter.\"\"\"\u001b[39;00m\n\u001b[1;32m    959\u001b[0m     \u001b[38;5;28;01mreturn\u001b[39;00m \u001b[38;5;28mself\u001b[39m\u001b[38;5;241m.\u001b[39m_agg_filter\n",
      "\u001b[0;31mKeyboardInterrupt\u001b[0m: "
     ]
    },
    {
     "data": {
      "image/png": "[encoded data removed]",
      "text/plain": [
       "<Figure size 1000x400 with 2 Axes>"
      ]
     },
     "metadata": {},
     "output_type": "display_data"
    }
   ],
   "source": [
    "def augment_audio_with_noise(file_path, noise_factor=0.005):\n",
    "    \"\"\"\n",
    "    Augments the audio by adding Gaussian noise.\n",
    "    Returns a list containing the augmented file path.\n",
    "    \"\"\"\n",
    "    try:\n",
    "        y, sr = librosa.load(file_path, sr=None)\n",
    "        noise = np.random.randn(len(y))\n",
    "        y_noise = y + noise_factor * noise\n",
    "\n",
    "        # Ensure the augmented audio is still in the valid range\n",
    "        y_noise = y_noise.astype(type(y[0]))\n",
    "\n",
    "        # Save the augmented audio\n",
    "        augmented_file = file_path.replace('.wav', '_noise.wav')\n",
    "        sf.write(augmented_file, y_noise, sr)\n",
    "        return [augmented_file]\n",
    "    except Exception as e:\n",
    "        print(f\"Error augmenting file {file_path}: {e}\")\n",
    "        return []\n",
    "\n",
    "def augment_audio_with_various(file_path):\n",
    "    \"\"\"\n",
    "    Apply multiple augmentation techniques to the audio file.\n",
    "    \"\"\"\n",
    "    augmented_files = []\n",
    "    try:\n",
    "        y, sr = librosa.load(file_path, sr=None)\n",
    "        \n",
    "        # Add Noise\n",
    "        y_noise = y + 0.002 * np.random.randn(len(y))  # Reduced noise_factor\n",
    "        noise_file = file_path.replace('.wav', '_noise.wav')\n",
    "        sf.write(noise_file, y_noise, sr)\n",
    "        augmented_files.append(noise_file)\n",
    "        \n",
    "        # Time Stretch\n",
    "        y_stretch = librosa.effects.time_stretch(y, rate=1.05)  # Less aggressive stretching\n",
    "        stretch_file = file_path.replace('.wav', '_stretch.wav')\n",
    "        sf.write(stretch_file, y_stretch, sr)\n",
    "        augmented_files.append(stretch_file)\n",
    "        \n",
    "        # Pitch Shift\n",
    "        y_pitch = librosa.effects.pitch_shift(y, sr=sr, n_steps=2)  # Smaller pitch shift\n",
    "        pitch_file = file_path.replace('.wav', '_pitch.wav')\n",
    "        sf.write(pitch_file, y_pitch, sr)\n",
    "        augmented_files.append(pitch_file)\n",
    "        \n",
    "    except Exception as e:\n",
    "        print(f\"Error augmenting file {file_path}: {e}\")\n",
    "    \n",
    "    return augmented_files\n",
    "\n",
    "from skimage.transform import resize\n",
    "\n",
    "\n",
    "def generate_multiple_samples():\n",
    "    \"\"\"\n",
    "    Generate and save multiple audio samples for each genre.\n",
    "    Each genre's samples are saved in their respective subdirectories within DATASET_PATH.\n",
    "    \"\"\"\n",
    "    # Clean up the existing dataset directory if it exists\n",
    "    if os.path.exists(DATASET_PATH):\n",
    "        try:\n",
    "            shutil.rmtree(DATASET_PATH)\n",
    "            print(f\"Removed existing directory: {DATASET_PATH}\")\n",
    "        except Exception as e:\n",
    "            print(f\"Error removing directory {DATASET_PATH}: {e}\")\n",
    "            return\n",
    "    \n",
    "    # Ensure the root dataset directory exists\n",
    "    os.makedirs(DATASET_PATH, exist_ok=True)\n",
    "    print(f\"Dataset directory set to: {DATASET_PATH}\")\n",
    "    \n",
    "    # Create subdirectories for each genre\n",
    "    genre_paths = {}\n",
    "    for genre in GENRES:\n",
    "        genre_dir = os.path.join(DATASET_PATH, genre)\n",
    "        os.makedirs(genre_dir, exist_ok=True)\n",
    "        genre_paths[genre] = genre_dir\n",
    "        print(f\"Ensured existence of genre directory: {genre_dir}\")\n",
    "    \n",
    "    # Generate and save samples for each genre\n",
    "    for genre in GENRES:\n",
    "        print(f\"\\nGenerating samples for genre: {genre}\")\n",
    "        for sample_num in tqdm(range(1, NUM_SAMPLES_PER_GENRE + 1), desc=f\"Generating {genre} samples\"):\n",
    "            if genre == \"indian_classical\":\n",
    "                audio_data = generate_indian_classical_song(sample_num)\n",
    "            elif genre == \"western_pop\":\n",
    "                audio_data = generate_western_pop_song(sample_num)\n",
    "            else:\n",
    "                print(f\"Unknown genre '{genre}'. Skipping sample generation.\")\n",
    "                continue  # Skip unknown genres\n",
    "            \n",
    "            # Normalize audio\n",
    "            audio_normalized = normalize_audio(audio_data)\n",
    "            \n",
    "            # Define filename and full path\n",
    "            filename = f\"{genre}_sample_{sample_num}.wav\"\n",
    "            file_path = os.path.join(genre_paths[genre], filename)\n",
    "            \n",
    "            # Save audio file\n",
    "            save_audio(file_path, audio_normalized, SAMPLING_RATE)\n",
    "            # Optionally, plot spectrogram\n",
    "            plot_spectrogram(file_path)\n",
    "    \n",
    "    print(\"\\nAll samples generated and saved successfully.\")\n",
    "\n",
    "# Execute the audio generation\n",
    "generate_multiple_samples()"
   ]
  },
  {
   "cell_type": "markdown",
   "metadata": {
    "id": "3K23WpR5GdqL"
   },
   "source": [
    "## Data Loading and Processing\n",
    "This function processes audio files into normalized spectrograms for training/testing.\n",
    "- **Inputs**:\n",
    "  - `audio_files`: List of audio file paths.\n",
    "  - `labels`: Corresponding binary labels.\n",
    "  - `num_features`: Feature size for quantum embedding.\n",
    "  - `test_split`: Proportion of test data.\n",
    "- **Outputs**: Train/test data splits: `X_train, X_test, Y_train, Y_test`.\n"
   ]
  },
  {
   "cell_type": "code",
   "execution_count": null,
   "metadata": {},
   "outputs": [
    {
     "name": "stdout",
     "output_type": "stream",
     "text": [
      "Found 100 audio files for genre 'indian_classical'.\n",
      "Found 100 audio files for genre 'western_pop'.\n",
      "\n",
      "Total audio files collected: 200\n",
      "Total labels collected: 200\n",
      "File: generated_songs/indian_classical/indian_classical_sample_75.wav, Label: 0\n",
      "File: generated_songs/indian_classical/indian_classical_sample_61.wav, Label: 0\n",
      "File: generated_songs/indian_classical/indian_classical_sample_49.wav, Label: 0\n",
      "File: generated_songs/indian_classical/indian_classical_sample_48.wav, Label: 0\n",
      "File: generated_songs/indian_classical/indian_classical_sample_60.wav, Label: 0\n",
      "File: generated_songs/indian_classical/indian_classical_sample_74.wav, Label: 0\n",
      "File: generated_songs/indian_classical/indian_classical_sample_62.wav, Label: 0\n",
      "File: generated_songs/indian_classical/indian_classical_sample_76.wav, Label: 0\n",
      "File: generated_songs/indian_classical/indian_classical_sample_89.wav, Label: 0\n",
      "File: generated_songs/indian_classical/indian_classical_sample_88.wav, Label: 0\n"
     ]
    }
   ],
   "source": [
    "# List of genres and corresponding labels\n",
    "genre_labels = {\"indian_classical\": 0, \"western_pop\": 1}  # 0: Indian Classical, 1: Western Pop\n",
    "\n",
    "audio_files = []\n",
    "labels = []\n",
    "\n",
    "# Iterate through each genre directory and collect audio files and labels\n",
    "for genre, label in genre_labels.items():\n",
    "    genre_path = os.path.join(DATASET_PATH, genre)\n",
    "    if not os.path.isdir(genre_path):\n",
    "        print(f\"Genre directory {genre_path} does not exist. Skipping.\")\n",
    "        continue\n",
    "    # Find all WAV files in the genre directory\n",
    "    genre_audio_files = glob.glob(os.path.join(genre_path, '*.wav'))\n",
    "    audio_files.extend(genre_audio_files)\n",
    "    labels.extend([label] * len(genre_audio_files))\n",
    "    print(f\"Found {len(genre_audio_files)} audio files for genre '{genre}'.\")\n",
    "\n",
    "print(f\"\\nTotal audio files collected: {len(audio_files)}\")\n",
    "print(f\"Total labels collected: {len(labels)}\")\n",
    "\n",
    "# **Verify Label Alignment:**\n",
    "for i in range(min(10, len(audio_files))):\n",
    "    print(f\"File: {audio_files[i]}, Label: {labels[i]}\")"
   ]
  },
  {
   "cell_type": "markdown",
   "metadata": {
    "id": "ZpT-TJh4GdqM"
   },
   "source": [
    "## Load and Display Spectrograms"
   ]
  },
  {
   "cell_type": "code",
   "execution_count": null,
   "metadata": {
    "colab": {
     "base_uri": "https://localhost:8080/",
     "height": 10898
    },
    "id": "ZvSFCvb8GdqM",
    "outputId": "933ecb72-429b-4054-d72d-716bdf823fd4"
   },
   "outputs": [
    {
     "name": "stdout",
     "output_type": "stream",
     "text": [
      "Training Data Shape: (640, 40, 128, 1), Testing Data Shape: (40, 40, 128, 1)\n",
      "Labels converted to one-hot encoding successfully.\n"
     ]
    }
   ],
   "source": [
    "# ============================\n",
    "# 3. Load and Process Audio Files for CNN\n",
    "# ============================\n",
    "from skimage.transform import resize\n",
    "\n",
    "def data_load_and_process_separate_augmentation(audio_files, labels, num_mfcc=40, img_height=40, img_width=128, test_split=0.2):\n",
    "    \"\"\"\n",
    "    Preprocess audio files with augmentation applied only to the training set.\n",
    "    \"\"\"\n",
    "    X = []\n",
    "    Y = []\n",
    "    for idx, file in enumerate(audio_files):\n",
    "        try:\n",
    "            y, sr = librosa.load(file, sr=None)\n",
    "            mfcc = librosa.feature.mfcc(y=y, sr=sr, n_mfcc=num_mfcc)\n",
    "            mfcc_scaled = librosa.util.normalize(mfcc)\n",
    "            mfcc_resized = resize(mfcc_scaled, (img_height, img_width), mode='constant')\n",
    "            \n",
    "            # Ensure the shape is (img_height, img_width, 1)\n",
    "            if len(mfcc_resized.shape) == 2:\n",
    "                mfcc_resized = mfcc_resized[..., np.newaxis]\n",
    "            elif len(mfcc_resized.shape) == 3:\n",
    "                pass  # Already has channel dimension\n",
    "            else:\n",
    "                print(f\"Unexpected shape {mfcc_resized.shape} for file {file}\")\n",
    "                continue\n",
    "            \n",
    "            X.append(mfcc_resized)\n",
    "            Y.append(labels[idx])\n",
    "        except Exception as e:\n",
    "            print(f\"Error processing file {file}: {e}\")\n",
    "            continue\n",
    "    \n",
    "    X = np.array(X)\n",
    "    Y = np.array(Y)\n",
    "    \n",
    "    # Train-test split with stratification\n",
    "    X_train, X_test, Y_train, Y_test = train_test_split(\n",
    "        X, Y, test_size=test_split, stratify=Y, random_state=42\n",
    "    )\n",
    "    \n",
    "    # Augment training data\n",
    "    augmented_X = []\n",
    "    augmented_Y = []\n",
    "    for i in range(len(X_train)):\n",
    "        file_path = audio_files[i]\n",
    "        augmented_files = augment_audio_with_various(file_path)\n",
    "        for aug_file in augmented_files:\n",
    "            try:\n",
    "                y_aug, sr_aug = librosa.load(aug_file, sr=None)\n",
    "                mfcc_aug = librosa.feature.mfcc(y=y_aug, sr=sr_aug, n_mfcc=num_mfcc)\n",
    "                mfcc_aug_scaled = librosa.util.normalize(mfcc_aug)\n",
    "                mfcc_aug_resized = resize(mfcc_aug_scaled, (img_height, img_width), mode='constant')\n",
    "                \n",
    "                # Ensure the shape is (img_height, img_width, 1)\n",
    "                if len(mfcc_aug_resized.shape) == 2:\n",
    "                    mfcc_aug_resized = mfcc_aug_resized[..., np.newaxis]\n",
    "                elif len(mfcc_aug_resized.shape) == 3:\n",
    "                    pass\n",
    "                else:\n",
    "                    print(f\"Unexpected shape {mfcc_aug_resized.shape} for file {aug_file}\")\n",
    "                    continue\n",
    "                \n",
    "                augmented_X.append(mfcc_aug_resized)\n",
    "                augmented_Y.append(Y_train[i])\n",
    "            except Exception as e:\n",
    "                print(f\"Error processing augmented file {aug_file}: {e}\")\n",
    "                continue\n",
    "    \n",
    "    if augmented_X:\n",
    "        X_train = np.concatenate((X_train, np.array(augmented_X)), axis=0)\n",
    "        Y_train = np.concatenate((Y_train, np.array(augmented_Y)), axis=0)\n",
    "    \n",
    "    # Shuffle training data\n",
    "    shuffle_idx = np.random.permutation(len(X_train))\n",
    "    X_train = X_train[shuffle_idx]\n",
    "    Y_train = Y_train[shuffle_idx]\n",
    "    \n",
    "    return X_train, X_test, Y_train, Y_test\n",
    "\n",
    "# Preprocess data\n",
    "try:\n",
    "    X_train, X_test, Y_train, Y_test = data_load_and_process_separate_augmentation(\n",
    "        audio_files, labels, num_mfcc=40, img_height=40, img_width=128, test_split=0.2\n",
    "    )\n",
    "    print(f\"Training Data Shape: {X_train.shape}, Testing Data Shape: {X_test.shape}\")\n",
    "except Exception as e:\n",
    "    print(f\"Pipeline failed: {e}\")\n",
    "\n",
    "\n",
    "# ============================\n",
    "# 7. Convert Labels to One-Hot Encoding\n",
    "# ============================\n",
    "\n",
    "if 'Y_train' in locals() and 'Y_test' in locals():\n",
    "    num_classes = len(genre_labels)\n",
    "    Y_train_onehot = tf.keras.utils.to_categorical(Y_train, num_classes=num_classes)\n",
    "    Y_test_onehot = tf.keras.utils.to_categorical(Y_test, num_classes=num_classes)\n",
    "    print(\"Labels converted to one-hot encoding successfully.\")\n",
    "else:\n",
    "    print(\"Pipeline failed: cannot access 'Y_train' and 'Y_test' because they are not defined.\")\n"
   ]
  },
  {
   "cell_type": "markdown",
   "metadata": {
    "id": "K5v_qLQ9GdqN"
   },
   "source": [
    "## CNN-based classifier for the spectogram data and find the accuracy results"
   ]
  },
  {
   "cell_type": "markdown",
   "metadata": {
    "id": "RnfMx_b4GdqN"
   },
   "source": [
    "### Augment_audio Method\n",
    "- **Purpose**: To artificially expand the dataset through data augmentation, creating variations of the same audio file (e.g., pitch-shifted, time-stretched).\n",
    "- **Why for CNN**:\n",
    "  - CNNs benefit from diverse training data to prevent overfitting.\n",
    "  - By augmenting the spectrogram inputs, CNNs can learn generalized features.\n",
    "- **Usage**: Augment audio files before converting them to spectrograms and feeding them into the CNN."
   ]
  },
  {
   "cell_type": "markdown",
   "metadata": {},
   "source": [
    "## Build CNN"
   ]
  },
  {
   "cell_type": "code",
   "execution_count": null,
   "metadata": {
    "colab": {
     "base_uri": "https://localhost:8080/",
     "height": 436
    },
    "id": "Ma2TsgXUGdqN",
    "outputId": "1d029bc2-1d03-4dc9-b464-0d760dbe9012"
   },
   "outputs": [],
   "source": [
    "# ============================\n",
    "# 4. Define the CNN Model\n",
    "# ============================\n",
    "\n",
    "def build_simpler_cnn(input_shape):\n",
    "    \"\"\"\n",
    "    Builds a simpler CNN model to prevent overfitting.\n",
    "    \"\"\"\n",
    "    model = tf.keras.Sequential([\n",
    "        tf.keras.layers.Conv2D(32, (3, 3), activation='relu', input_shape=input_shape),\n",
    "        tf.keras.layers.MaxPooling2D((2, 2)),\n",
    "        tf.keras.layers.Dropout(0.3),\n",
    "\n",
    "        tf.keras.layers.Conv2D(64, (3, 3), activation='relu'),\n",
    "        tf.keras.layers.MaxPooling2D((2, 2)),\n",
    "        tf.keras.layers.Dropout(0.3),\n",
    "\n",
    "        tf.keras.layers.Flatten(),\n",
    "        tf.keras.layers.Dense(128, activation='relu'),\n",
    "        tf.keras.layers.Dropout(0.5),\n",
    "        tf.keras.layers.Dense(2, activation='softmax')  # Binary classification\n",
    "    ])\n",
    "\n",
    "    model.compile(optimizer='adam', loss='categorical_crossentropy', metrics=['accuracy'])\n",
    "    return model\n"
   ]
  },
  {
   "cell_type": "code",
   "execution_count": null,
   "metadata": {},
   "outputs": [
    {
     "name": "stdout",
     "output_type": "stream",
     "text": [
      "Found 400 audio files for genre 'indian_classical'.\n",
      "Found 280 audio files for genre 'western_pop'.\n",
      "\n",
      "Total audio files collected: 680\n",
      "Total labels collected: 680\n",
      "File: generated_songs/indian_classical/indian_classical_sample_75.wav, Label: 0\n",
      "File: generated_songs/indian_classical/indian_classical_sample_61.wav, Label: 0\n",
      "File: generated_songs/indian_classical/indian_classical_sample_90_noise.wav, Label: 0\n",
      "File: generated_songs/indian_classical/indian_classical_sample_74_pitch.wav, Label: 0\n",
      "File: generated_songs/indian_classical/indian_classical_sample_59_noise.wav, Label: 0\n",
      "File: generated_songs/indian_classical/indian_classical_sample_49.wav, Label: 0\n",
      "File: generated_songs/indian_classical/indian_classical_sample_39_stretch.wav, Label: 0\n",
      "File: generated_songs/indian_classical/indian_classical_sample_23_noise.wav, Label: 0\n",
      "File: generated_songs/indian_classical/indian_classical_sample_49_stretch.wav, Label: 0\n",
      "File: generated_songs/indian_classical/indian_classical_sample_17_stretch.wav, Label: 0\n",
      "File: generated_songs/indian_classical/indian_classical_sample_37_noise.wav, Label: 0\n",
      "File: generated_songs/indian_classical/indian_classical_sample_67_stretch.wav, Label: 0\n",
      "File: generated_songs/indian_classical/indian_classical_sample_4_noise.wav, Label: 0\n",
      "File: generated_songs/indian_classical/indian_classical_sample_60_pitch.wav, Label: 0\n",
      "File: generated_songs/indian_classical/indian_classical_sample_84_noise.wav, Label: 0\n",
      "File: generated_songs/indian_classical/indian_classical_sample_86_stretch.wav, Label: 0\n",
      "File: generated_songs/indian_classical/indian_classical_sample_16_noise.wav, Label: 0\n",
      "File: generated_songs/indian_classical/indian_classical_sample_8_pitch.wav, Label: 0\n",
      "File: generated_songs/indian_classical/indian_classical_sample_41_pitch.wav, Label: 0\n",
      "File: generated_songs/indian_classical/indian_classical_sample_88_pitch.wav, Label: 0\n",
      "File: generated_songs/indian_classical/indian_classical_sample_78_noise.wav, Label: 0\n",
      "File: generated_songs/indian_classical/indian_classical_sample_55_pitch.wav, Label: 0\n",
      "File: generated_songs/indian_classical/indian_classical_sample_55_stretch.wav, Label: 0\n",
      "File: generated_songs/indian_classical/indian_classical_sample_25_stretch.wav, Label: 0\n",
      "File: generated_songs/indian_classical/indian_classical_sample_48.wav, Label: 0\n",
      "File: generated_songs/indian_classical/indian_classical_sample_60.wav, Label: 0\n",
      "File: generated_songs/indian_classical/indian_classical_sample_74.wav, Label: 0\n",
      "File: generated_songs/indian_classical/indian_classical_sample_40_stretch.wav, Label: 0\n",
      "File: generated_songs/indian_classical/indian_classical_sample_62.wav, Label: 0\n",
      "File: generated_songs/indian_classical/indian_classical_sample_76.wav, Label: 0\n",
      "File: generated_songs/indian_classical/indian_classical_sample_79_pitch.wav, Label: 0\n",
      "File: generated_songs/indian_classical/indian_classical_sample_54_noise.wav, Label: 0\n",
      "File: generated_songs/indian_classical/indian_classical_sample_89.wav, Label: 0\n",
      "File: generated_songs/indian_classical/indian_classical_sample_30_stretch.wav, Label: 0\n",
      "File: generated_songs/indian_classical/indian_classical_sample_93_stretch.wav, Label: 0\n",
      "File: generated_songs/indian_classical/indian_classical_sample_17_pitch.wav, Label: 0\n",
      "File: generated_songs/indian_classical/indian_classical_sample_40_noise.wav, Label: 0\n",
      "File: generated_songs/indian_classical/indian_classical_sample_89_noise.wav, Label: 0\n",
      "File: generated_songs/indian_classical/indian_classical_sample_9_noise.wav, Label: 0\n",
      "File: generated_songs/indian_classical/indian_classical_sample_36_pitch.wav, Label: 0\n",
      "File: generated_songs/indian_classical/indian_classical_sample_85_pitch.wav, Label: 0\n",
      "File: generated_songs/indian_classical/indian_classical_sample_72_stretch.wav, Label: 0\n",
      "File: generated_songs/indian_classical/indian_classical_sample_61_noise.wav, Label: 0\n",
      "File: generated_songs/indian_classical/indian_classical_sample_5_pitch.wav, Label: 0\n",
      "File: generated_songs/indian_classical/indian_classical_sample_6_stretch.wav, Label: 0\n",
      "File: generated_songs/indian_classical/indian_classical_sample_75_noise.wav, Label: 0\n",
      "File: generated_songs/indian_classical/indian_classical_sample_91_pitch.wav, Label: 0\n",
      "File: generated_songs/indian_classical/indian_classical_sample_58_pitch.wav, Label: 0\n",
      "File: generated_songs/indian_classical/indian_classical_sample_88.wav, Label: 0\n",
      "File: generated_songs/indian_classical/indian_classical_sample_22_pitch.wav, Label: 0\n",
      "File: generated_songs/indian_classical/indian_classical_sample_77.wav, Label: 0\n",
      "File: generated_songs/indian_classical/indian_classical_sample_63.wav, Label: 0\n",
      "File: generated_songs/indian_classical/indian_classical_sample_67.wav, Label: 0\n",
      "File: generated_songs/indian_classical/indian_classical_sample_73.wav, Label: 0\n",
      "File: generated_songs/indian_classical/indian_classical_sample_98.wav, Label: 0\n",
      "File: generated_songs/indian_classical/indian_classical_sample_47_pitch.wav, Label: 0\n",
      "File: generated_songs/indian_classical/indian_classical_sample_96_stretch.wav, Label: 0\n",
      "File: generated_songs/indian_classical/indian_classical_sample_10_noise.wav, Label: 0\n",
      "File: generated_songs/indian_classical/indian_classical_sample_29_pitch.wav, Label: 0\n",
      "File: generated_songs/indian_classical/indian_classical_sample_35_stretch.wav, Label: 0\n",
      "File: generated_songs/indian_classical/indian_classical_sample_53_pitch.wav, Label: 0\n",
      "File: generated_songs/indian_classical/indian_classical_sample_45_stretch.wav, Label: 0\n",
      "File: generated_songs/indian_classical/indian_classical_sample_25_noise.wav, Label: 0\n",
      "File: generated_songs/indian_classical/indian_classical_sample_59_stretch.wav, Label: 0\n",
      "File: generated_songs/indian_classical/indian_classical_sample_29_stretch.wav, Label: 0\n",
      "File: generated_songs/indian_classical/indian_classical_sample_3_stretch.wav, Label: 0\n",
      "File: generated_songs/indian_classical/indian_classical_sample_96_noise.wav, Label: 0\n",
      "File: generated_songs/indian_classical/indian_classical_sample_72_pitch.wav, Label: 0\n",
      "File: generated_songs/indian_classical/indian_classical_sample_2_noise.wav, Label: 0\n",
      "File: generated_songs/indian_classical/indian_classical_sample_66_pitch.wav, Label: 0\n",
      "File: generated_songs/indian_classical/indian_classical_sample_77_stretch.wav, Label: 0\n",
      "File: generated_songs/indian_classical/indian_classical_sample_82_noise.wav, Label: 0\n",
      "File: generated_songs/indian_classical/indian_classical_sample_99.wav, Label: 0\n",
      "File: generated_songs/indian_classical/indian_classical_sample_72.wav, Label: 0\n",
      "File: generated_songs/indian_classical/indian_classical_sample_66.wav, Label: 0\n",
      "File: generated_songs/indian_classical/indian_classical_sample_31_noise.wav, Label: 0\n",
      "File: generated_songs/indian_classical/indian_classical_sample_58.wav, Label: 0\n",
      "File: generated_songs/indian_classical/indian_classical_sample_83_pitch.wav, Label: 0\n",
      "File: generated_songs/indian_classical/indian_classical_sample_67_noise.wav, Label: 0\n",
      "File: generated_songs/indian_classical/indian_classical_sample_70.wav, Label: 0\n",
      "File: generated_songs/indian_classical/indian_classical_sample_64.wav, Label: 0\n",
      "File: generated_songs/indian_classical/indian_classical_sample_62_stretch.wav, Label: 0\n",
      "File: generated_songs/indian_classical/indian_classical_sample_3_pitch.wav, Label: 0\n",
      "File: generated_songs/indian_classical/indian_classical_sample_30_pitch.wav, Label: 0\n",
      "File: generated_songs/indian_classical/indian_classical_sample_12_stretch.wav, Label: 0\n",
      "File: generated_songs/indian_classical/indian_classical_sample_24_pitch.wav, Label: 0\n",
      "File: generated_songs/indian_classical/indian_classical_sample_73_noise.wav, Label: 0\n",
      "File: generated_songs/indian_classical/indian_classical_sample_97_pitch.wav, Label: 0\n",
      "File: generated_songs/indian_classical/indian_classical_sample_20_stretch.wav, Label: 0\n",
      "File: generated_songs/indian_classical/indian_classical_sample_28_noise.wav, Label: 0\n",
      "File: generated_songs/indian_classical/indian_classical_sample_52_noise.wav, Label: 0\n",
      "File: generated_songs/indian_classical/indian_classical_sample_50_stretch.wav, Label: 0\n",
      "File: generated_songs/indian_classical/indian_classical_sample_46_noise.wav, Label: 0\n",
      "File: generated_songs/indian_classical/indian_classical_sample_11_pitch.wav, Label: 0\n",
      "File: generated_songs/indian_classical/indian_classical_sample_83_stretch.wav, Label: 0\n",
      "File: generated_songs/indian_classical/indian_classical_sample_65.wav, Label: 0\n",
      "File: generated_songs/indian_classical/indian_classical_sample_71.wav, Label: 0\n",
      "File: generated_songs/indian_classical/indian_classical_sample_59.wav, Label: 0\n",
      "File: generated_songs/indian_classical/indian_classical_sample_16.wav, Label: 0\n",
      "File: generated_songs/indian_classical/indian_classical_sample_36_noise.wav, Label: 0\n",
      "File: generated_songs/indian_classical/indian_classical_sample_5_noise.wav, Label: 0\n",
      "File: generated_songs/indian_classical/indian_classical_sample_80_stretch.wav, Label: 0\n",
      "File: generated_songs/indian_classical/indian_classical_sample_61_pitch.wav, Label: 0\n",
      "File: generated_songs/indian_classical/indian_classical_sample_85_noise.wav, Label: 0\n",
      "File: generated_songs/indian_classical/indian_classical_sample_91_noise.wav, Label: 0\n",
      "File: generated_songs/indian_classical/indian_classical_sample_75_pitch.wav, Label: 0\n",
      "File: generated_songs/indian_classical/indian_classical_sample_58_noise.wav, Label: 0\n",
      "File: generated_songs/indian_classical/indian_classical_sample_9_stretch.wav, Label: 0\n",
      "File: generated_songs/indian_classical/indian_classical_sample_23_stretch.wav, Label: 0\n",
      "File: generated_songs/indian_classical/indian_classical_sample_22_noise.wav, Label: 0\n",
      "File: generated_songs/indian_classical/indian_classical_sample_53_stretch.wav, Label: 0\n",
      "File: generated_songs/indian_classical/indian_classical_sample_79_noise.wav, Label: 0\n",
      "File: generated_songs/indian_classical/indian_classical_sample_54_pitch.wav, Label: 0\n",
      "File: generated_songs/indian_classical/indian_classical_sample_61_stretch.wav, Label: 0\n",
      "File: generated_songs/indian_classical/indian_classical_sample_17_noise.wav, Label: 0\n",
      "File: generated_songs/indian_classical/indian_classical_sample_9_pitch.wav, Label: 0\n",
      "File: generated_songs/indian_classical/indian_classical_sample_11_stretch.wav, Label: 0\n",
      "File: generated_songs/indian_classical/indian_classical_sample_1.wav, Label: 0\n",
      "File: generated_songs/indian_classical/indian_classical_sample_40_pitch.wav, Label: 0\n",
      "File: generated_songs/indian_classical/indian_classical_sample_89_pitch.wav, Label: 0\n",
      "File: generated_songs/indian_classical/indian_classical_sample_17.wav, Label: 0\n",
      "File: generated_songs/indian_classical/indian_classical_sample_16_pitch.wav, Label: 0\n",
      "File: generated_songs/indian_classical/indian_classical_sample_15.wav, Label: 0\n",
      "File: generated_songs/indian_classical/indian_classical_sample_74_stretch.wav, Label: 0\n",
      "File: generated_songs/indian_classical/indian_classical_sample_29.wav, Label: 0\n",
      "File: generated_songs/indian_classical/indian_classical_sample_89_stretch.wav, Label: 0\n",
      "File: generated_songs/indian_classical/indian_classical_sample_3.wav, Label: 0\n",
      "File: generated_songs/indian_classical/indian_classical_sample_41_noise.wav, Label: 0\n",
      "File: generated_songs/indian_classical/indian_classical_sample_88_noise.wav, Label: 0\n",
      "File: generated_songs/indian_classical/indian_classical_sample_8_noise.wav, Label: 0\n",
      "File: generated_songs/indian_classical/indian_classical_sample_78_pitch.wav, Label: 0\n",
      "File: generated_songs/indian_classical/indian_classical_sample_55_noise.wav, Label: 0\n",
      "File: generated_songs/indian_classical/indian_classical_sample_36_stretch.wav, Label: 0\n",
      "File: generated_songs/indian_classical/indian_classical_sample_74_noise.wav, Label: 0\n",
      "File: generated_songs/indian_classical/indian_classical_sample_90_pitch.wav, Label: 0\n",
      "File: generated_songs/indian_classical/indian_classical_sample_59_pitch.wav, Label: 0\n",
      "File: generated_songs/indian_classical/indian_classical_sample_46_stretch.wav, Label: 0\n",
      "File: generated_songs/indian_classical/indian_classical_sample_23_pitch.wav, Label: 0\n",
      "File: generated_songs/indian_classical/indian_classical_sample_37_pitch.wav, Label: 0\n",
      "File: generated_songs/indian_classical/indian_classical_sample_18_stretch.wav, Label: 0\n",
      "File: generated_songs/indian_classical/indian_classical_sample_2.wav, Label: 0\n",
      "File: generated_songs/indian_classical/indian_classical_sample_84_pitch.wav, Label: 0\n",
      "File: generated_songs/indian_classical/indian_classical_sample_60_noise.wav, Label: 0\n",
      "File: generated_songs/indian_classical/indian_classical_sample_95_stretch.wav, Label: 0\n",
      "File: generated_songs/indian_classical/indian_classical_sample_68_stretch.wav, Label: 0\n",
      "File: generated_songs/indian_classical/indian_classical_sample_28.wav, Label: 0\n",
      "File: generated_songs/indian_classical/indian_classical_sample_4_pitch.wav, Label: 0\n",
      "File: generated_songs/indian_classical/indian_classical_sample_14.wav, Label: 0\n",
      "File: generated_songs/indian_classical/indian_classical_sample_38.wav, Label: 0\n",
      "File: generated_songs/indian_classical/indian_classical_sample_5_stretch.wav, Label: 0\n",
      "File: generated_songs/indian_classical/indian_classical_sample_28_pitch.wav, Label: 0\n",
      "File: generated_songs/indian_classical/indian_classical_sample_10.wav, Label: 0\n",
      "File: generated_songs/indian_classical/indian_classical_sample_6.wav, Label: 0\n",
      "File: generated_songs/indian_classical/indian_classical_sample_52_pitch.wav, Label: 0\n",
      "File: generated_songs/indian_classical/indian_classical_sample_46_pitch.wav, Label: 0\n",
      "File: generated_songs/indian_classical/indian_classical_sample_11_noise.wav, Label: 0\n",
      "File: generated_songs/indian_classical/indian_classical_sample_71_stretch.wav, Label: 0\n",
      "File: generated_songs/indian_classical/indian_classical_sample_3_noise.wav, Label: 0\n",
      "File: generated_songs/indian_classical/indian_classical_sample_67_pitch.wav, Label: 0\n",
      "File: generated_songs/indian_classical/indian_classical_sample_83_noise.wav, Label: 0\n",
      "File: generated_songs/indian_classical/indian_classical_sample_90_stretch.wav, Label: 0\n",
      "File: generated_songs/indian_classical/indian_classical_sample_30_noise.wav, Label: 0\n",
      "File: generated_songs/indian_classical/indian_classical_sample_24_noise.wav, Label: 0\n",
      "File: generated_songs/indian_classical/indian_classical_sample_43_stretch.wav, Label: 0\n",
      "File: generated_songs/indian_classical/indian_classical_sample_7.wav, Label: 0\n",
      "File: generated_songs/indian_classical/indian_classical_sample_97_noise.wav, Label: 0\n",
      "File: generated_songs/indian_classical/indian_classical_sample_73_pitch.wav, Label: 0\n",
      "File: generated_songs/indian_classical/indian_classical_sample_11.wav, Label: 0\n",
      "File: generated_songs/indian_classical/indian_classical_sample_33_stretch.wav, Label: 0\n",
      "File: generated_songs/indian_classical/indian_classical_sample_39.wav, Label: 0\n",
      "File: generated_songs/indian_classical/indian_classical_sample_13.wav, Label: 0\n",
      "File: generated_songs/indian_classical/indian_classical_sample_25_pitch.wav, Label: 0\n",
      "File: generated_songs/indian_classical/indian_classical_sample_5.wav, Label: 0\n",
      "File: generated_songs/indian_classical/indian_classical_sample_56_stretch.wav, Label: 0\n",
      "File: generated_songs/indian_classical/indian_classical_sample_26_stretch.wav, Label: 0\n",
      "File: generated_songs/indian_classical/indian_classical_sample_72_noise.wav, Label: 0\n",
      "File: generated_songs/indian_classical/indian_classical_sample_96_pitch.wav, Label: 0\n",
      "File: generated_songs/indian_classical/indian_classical_sample_82_pitch.wav, Label: 0\n",
      "File: generated_songs/indian_classical/indian_classical_sample_66_noise.wav, Label: 0\n",
      "File: generated_songs/indian_classical/indian_classical_sample_78_stretch.wav, Label: 0\n",
      "File: generated_songs/indian_classical/indian_classical_sample_2_pitch.wav, Label: 0\n",
      "File: generated_songs/indian_classical/indian_classical_sample_85_stretch.wav, Label: 0\n",
      "File: generated_songs/indian_classical/indian_classical_sample_31_pitch.wav, Label: 0\n",
      "File: generated_songs/indian_classical/indian_classical_sample_47_noise.wav, Label: 0\n",
      "File: generated_songs/indian_classical/indian_classical_sample_14_stretch.wav, Label: 0\n",
      "File: generated_songs/indian_classical/indian_classical_sample_99_stretch.wav, Label: 0\n",
      "File: generated_songs/indian_classical/indian_classical_sample_10_pitch.wav, Label: 0\n",
      "File: generated_songs/indian_classical/indian_classical_sample_64_stretch.wav, Label: 0\n",
      "File: generated_songs/indian_classical/indian_classical_sample_29_noise.wav, Label: 0\n",
      "File: generated_songs/indian_classical/indian_classical_sample_4.wav, Label: 0\n",
      "File: generated_songs/indian_classical/indian_classical_sample_12.wav, Label: 0\n",
      "File: generated_songs/indian_classical/indian_classical_sample_53_noise.wav, Label: 0\n",
      "File: generated_songs/indian_classical/indian_classical_sample_37.wav, Label: 0\n",
      "File: generated_songs/indian_classical/indian_classical_sample_23.wav, Label: 0\n",
      "File: generated_songs/indian_classical/indian_classical_sample_39_pitch.wav, Label: 0\n",
      "File: generated_songs/indian_classical/indian_classical_sample_14_noise.wav, Label: 0\n",
      "File: generated_songs/indian_classical/indian_classical_sample_51_stretch.wav, Label: 0\n",
      "File: generated_songs/indian_classical/indian_classical_sample_9.wav, Label: 0\n",
      "File: generated_songs/indian_classical/indian_classical_sample_21_stretch.wav, Label: 0\n",
      "File: generated_songs/indian_classical/indian_classical_sample_43_pitch.wav, Label: 0\n",
      "File: generated_songs/indian_classical/indian_classical_sample_82_stretch.wav, Label: 0\n",
      "File: generated_songs/indian_classical/indian_classical_sample_57_pitch.wav, Label: 0\n",
      "File: generated_songs/indian_classical/indian_classical_sample_13_stretch.wav, Label: 0\n",
      "File: generated_songs/indian_classical/indian_classical_sample_92_noise.wav, Label: 0\n",
      "File: generated_songs/indian_classical/indian_classical_sample_76_pitch.wav, Label: 0\n",
      "File: generated_songs/indian_classical/indian_classical_sample_63_stretch.wav, Label: 0\n",
      "File: generated_songs/indian_classical/indian_classical_sample_21_noise.wav, Label: 0\n",
      "File: generated_songs/indian_classical/indian_classical_sample_35_noise.wav, Label: 0\n",
      "File: generated_songs/indian_classical/indian_classical_sample_18_pitch.wav, Label: 0\n",
      "File: generated_songs/indian_classical/indian_classical_sample_8.wav, Label: 0\n",
      "File: generated_songs/indian_classical/indian_classical_sample_62_pitch.wav, Label: 0\n",
      "File: generated_songs/indian_classical/indian_classical_sample_86_noise.wav, Label: 0\n",
      "File: generated_songs/indian_classical/indian_classical_sample_6_noise.wav, Label: 0\n",
      "File: generated_songs/indian_classical/indian_classical_sample_22.wav, Label: 0\n",
      "File: generated_songs/indian_classical/indian_classical_sample_36.wav, Label: 0\n",
      "File: generated_songs/indian_classical/indian_classical_sample_20.wav, Label: 0\n",
      "File: generated_songs/indian_classical/indian_classical_sample_34.wav, Label: 0\n",
      "File: generated_songs/indian_classical/indian_classical_sample_2_stretch.wav, Label: 0\n",
      "File: generated_songs/indian_classical/indian_classical_sample_28_stretch.wav, Label: 0\n",
      "File: generated_songs/indian_classical/indian_classical_sample_34_pitch.wav, Label: 0\n",
      "File: generated_songs/indian_classical/indian_classical_sample_19_noise.wav, Label: 0\n",
      "File: generated_songs/indian_classical/indian_classical_sample_7_pitch.wav, Label: 0\n",
      "File: generated_songs/indian_classical/indian_classical_sample_87_pitch.wav, Label: 0\n",
      "File: generated_songs/indian_classical/indian_classical_sample_63_noise.wav, Label: 0\n",
      "File: generated_songs/indian_classical/indian_classical_sample_58_stretch.wav, Label: 0\n",
      "File: generated_songs/indian_classical/indian_classical_sample_77_noise.wav, Label: 0\n",
      "File: generated_songs/indian_classical/indian_classical_sample_93_pitch.wav, Label: 0\n",
      "File: generated_songs/indian_classical/indian_classical_sample_20_pitch.wav, Label: 0\n",
      "File: generated_songs/indian_classical/indian_classical_sample_76_stretch.wav, Label: 0\n",
      "File: generated_songs/indian_classical/indian_classical_sample_56_noise.wav, Label: 0\n",
      "File: generated_songs/indian_classical/indian_classical_sample_97_stretch.wav, Label: 0\n",
      "File: generated_songs/indian_classical/indian_classical_sample_44_stretch.wav, Label: 0\n",
      "File: generated_songs/indian_classical/indian_classical_sample_38_noise.wav, Label: 0\n",
      "File: generated_songs/indian_classical/indian_classical_sample_15_pitch.wav, Label: 0\n",
      "File: generated_songs/indian_classical/indian_classical_sample_34_stretch.wav, Label: 0\n",
      "File: generated_songs/indian_classical/indian_classical_sample_42_noise.wav, Label: 0\n",
      "File: generated_songs/indian_classical/indian_classical_sample_35.wav, Label: 0\n",
      "File: generated_songs/indian_classical/indian_classical_sample_21.wav, Label: 0\n",
      "File: generated_songs/indian_classical/indian_classical_sample_19.wav, Label: 0\n",
      "File: generated_songs/indian_classical/indian_classical_sample_25.wav, Label: 0\n",
      "File: generated_songs/indian_classical/indian_classical_sample_31.wav, Label: 0\n",
      "File: generated_songs/indian_classical/indian_classical_sample_27_noise.wav, Label: 0\n",
      "File: generated_songs/indian_classical/indian_classical_sample_73_stretch.wav, Label: 0\n",
      "File: generated_songs/indian_classical/indian_classical_sample_94_noise.wav, Label: 0\n",
      "File: generated_songs/indian_classical/indian_classical_sample_70_pitch.wav, Label: 0\n",
      "File: generated_songs/indian_classical/indian_classical_sample_100_pitch.wav, Label: 0\n",
      "File: generated_songs/indian_classical/indian_classical_sample_64_pitch.wav, Label: 0\n",
      "File: generated_songs/indian_classical/indian_classical_sample_80_noise.wav, Label: 0\n",
      "File: generated_songs/indian_classical/indian_classical_sample_49_noise.wav, Label: 0\n",
      "File: generated_songs/indian_classical/indian_classical_sample_7_stretch.wav, Label: 0\n",
      "File: generated_songs/indian_classical/indian_classical_sample_33_noise.wav, Label: 0\n",
      "File: generated_songs/indian_classical/indian_classical_sample_68_noise.wav, Label: 0\n",
      "File: generated_songs/indian_classical/indian_classical_sample_45_pitch.wav, Label: 0\n",
      "File: generated_songs/indian_classical/indian_classical_sample_31_stretch.wav, Label: 0\n",
      "File: generated_songs/indian_classical/indian_classical_sample_12_noise.wav, Label: 0\n",
      "File: generated_songs/indian_classical/indian_classical_sample_41_stretch.wav, Label: 0\n",
      "File: generated_songs/indian_classical/indian_classical_sample_30.wav, Label: 0\n",
      "File: generated_songs/indian_classical/indian_classical_sample_24.wav, Label: 0\n",
      "File: generated_songs/indian_classical/indian_classical_sample_51_pitch.wav, Label: 0\n",
      "File: generated_songs/indian_classical/indian_classical_sample_98_pitch.wav, Label: 0\n",
      "File: generated_songs/indian_classical/indian_classical_sample_92_stretch.wav, Label: 0\n",
      "File: generated_songs/indian_classical/indian_classical_sample_100.wav, Label: 0\n",
      "File: generated_songs/indian_classical/indian_classical_sample_18.wav, Label: 0\n",
      "File: generated_songs/indian_classical/indian_classical_sample_32.wav, Label: 0\n",
      "File: generated_songs/indian_classical/indian_classical_sample_26.wav, Label: 0\n",
      "File: generated_songs/indian_classical/indian_classical_sample_50_noise.wav, Label: 0\n",
      "File: generated_songs/indian_classical/indian_classical_sample_99_noise.wav, Label: 0\n",
      "File: generated_songs/indian_classical/indian_classical_sample_87_stretch.wav, Label: 0\n",
      "File: generated_songs/indian_classical/indian_classical_sample_24_stretch.wav, Label: 0\n",
      "File: generated_songs/indian_classical/indian_classical_sample_69_pitch.wav, Label: 0\n",
      "File: generated_songs/indian_classical/indian_classical_sample_44_noise.wav, Label: 0\n",
      "File: generated_songs/indian_classical/indian_classical_sample_13_pitch.wav, Label: 0\n",
      "File: generated_songs/indian_classical/indian_classical_sample_54_stretch.wav, Label: 0\n",
      "File: generated_songs/indian_classical/indian_classical_sample_48_stretch.wav, Label: 0\n",
      "File: generated_songs/indian_classical/indian_classical_sample_1_pitch.wav, Label: 0\n",
      "File: generated_songs/indian_classical/indian_classical_sample_81_pitch.wav, Label: 0\n",
      "File: generated_songs/indian_classical/indian_classical_sample_65_noise.wav, Label: 0\n",
      "File: generated_songs/indian_classical/indian_classical_sample_48_pitch.wav, Label: 0\n",
      "File: generated_songs/indian_classical/indian_classical_sample_38_stretch.wav, Label: 0\n",
      "File: generated_songs/indian_classical/indian_classical_sample_32_pitch.wav, Label: 0\n",
      "File: generated_songs/indian_classical/indian_classical_sample_26_pitch.wav, Label: 0\n",
      "File: generated_songs/indian_classical/indian_classical_sample_66_stretch.wav, Label: 0\n",
      "File: generated_songs/indian_classical/indian_classical_sample_71_noise.wav, Label: 0\n",
      "File: generated_songs/indian_classical/indian_classical_sample_95_pitch.wav, Label: 0\n",
      "File: generated_songs/indian_classical/indian_classical_sample_27.wav, Label: 0\n",
      "File: generated_songs/indian_classical/indian_classical_sample_33.wav, Label: 0\n",
      "File: generated_songs/indian_classical/indian_classical_sample_16_stretch.wav, Label: 0\n",
      "File: generated_songs/indian_classical/indian_classical_sample_65_stretch.wav, Label: 0\n",
      "File: generated_songs/indian_classical/indian_classical_sample_54.wav, Label: 0\n",
      "File: generated_songs/indian_classical/indian_classical_sample_40.wav, Label: 0\n",
      "File: generated_songs/indian_classical/indian_classical_sample_68.wav, Label: 0\n",
      "File: generated_songs/indian_classical/indian_classical_sample_97.wav, Label: 0\n",
      "File: generated_songs/indian_classical/indian_classical_sample_83.wav, Label: 0\n",
      "File: generated_songs/indian_classical/indian_classical_sample_56_pitch.wav, Label: 0\n",
      "File: generated_songs/indian_classical/indian_classical_sample_98_stretch.wav, Label: 0\n",
      "File: generated_songs/indian_classical/indian_classical_sample_15_stretch.wav, Label: 0\n",
      "File: generated_songs/indian_classical/indian_classical_sample_38_pitch.wav, Label: 0\n",
      "File: generated_songs/indian_classical/indian_classical_sample_15_noise.wav, Label: 0\n",
      "File: generated_songs/indian_classical/indian_classical_sample_42_pitch.wav, Label: 0\n",
      "File: generated_songs/indian_classical/indian_classical_sample_27_stretch.wav, Label: 0\n",
      "File: generated_songs/indian_classical/indian_classical_sample_34_noise.wav, Label: 0\n",
      "File: generated_songs/indian_classical/indian_classical_sample_19_pitch.wav, Label: 0\n",
      "File: generated_songs/indian_classical/indian_classical_sample_63_pitch.wav, Label: 0\n",
      "File: generated_songs/indian_classical/indian_classical_sample_87_noise.wav, Label: 0\n",
      "File: generated_songs/indian_classical/indian_classical_sample_57_stretch.wav, Label: 0\n",
      "File: generated_songs/indian_classical/indian_classical_sample_7_noise.wav, Label: 0\n",
      "File: generated_songs/indian_classical/indian_classical_sample_93_noise.wav, Label: 0\n",
      "File: generated_songs/indian_classical/indian_classical_sample_77_pitch.wav, Label: 0\n",
      "File: generated_songs/indian_classical/indian_classical_sample_84_stretch.wav, Label: 0\n",
      "File: generated_songs/indian_classical/indian_classical_sample_82.wav, Label: 0\n",
      "File: generated_songs/indian_classical/indian_classical_sample_96.wav, Label: 0\n",
      "File: generated_songs/indian_classical/indian_classical_sample_69.wav, Label: 0\n",
      "File: generated_songs/indian_classical/indian_classical_sample_20_noise.wav, Label: 0\n",
      "File: generated_songs/indian_classical/indian_classical_sample_41.wav, Label: 0\n",
      "File: generated_songs/indian_classical/indian_classical_sample_79_stretch.wav, Label: 0\n",
      "File: generated_songs/indian_classical/indian_classical_sample_55.wav, Label: 0\n",
      "File: generated_songs/indian_classical/indian_classical_sample_43.wav, Label: 0\n",
      "File: generated_songs/indian_classical/indian_classical_sample_57.wav, Label: 0\n",
      "File: generated_songs/indian_classical/indian_classical_sample_76_noise.wav, Label: 0\n",
      "File: generated_songs/indian_classical/indian_classical_sample_92_pitch.wav, Label: 0\n",
      "File: generated_songs/indian_classical/indian_classical_sample_80.wav, Label: 0\n",
      "File: generated_songs/indian_classical/indian_classical_sample_94.wav, Label: 0\n",
      "File: generated_songs/indian_classical/indian_classical_sample_91_stretch.wav, Label: 0\n",
      "File: generated_songs/indian_classical/indian_classical_sample_21_pitch.wav, Label: 0\n",
      "File: generated_songs/indian_classical/indian_classical_sample_32_stretch.wav, Label: 0\n",
      "File: generated_songs/indian_classical/indian_classical_sample_35_pitch.wav, Label: 0\n",
      "File: generated_songs/indian_classical/indian_classical_sample_18_noise.wav, Label: 0\n",
      "File: generated_songs/indian_classical/indian_classical_sample_42_stretch.wav, Label: 0\n",
      "File: generated_songs/indian_classical/indian_classical_sample_6_pitch.wav, Label: 0\n",
      "File: generated_songs/indian_classical/indian_classical_sample_86_pitch.wav, Label: 0\n",
      "File: generated_songs/indian_classical/indian_classical_sample_62_noise.wav, Label: 0\n",
      "File: generated_songs/indian_classical/indian_classical_sample_39_noise.wav, Label: 0\n",
      "File: generated_songs/indian_classical/indian_classical_sample_14_pitch.wav, Label: 0\n",
      "File: generated_songs/indian_classical/indian_classical_sample_4_stretch.wav, Label: 0\n",
      "File: generated_songs/indian_classical/indian_classical_sample_43_noise.wav, Label: 0\n",
      "File: generated_songs/indian_classical/indian_classical_sample_57_noise.wav, Label: 0\n",
      "File: generated_songs/indian_classical/indian_classical_sample_70_stretch.wav, Label: 0\n",
      "File: generated_songs/indian_classical/indian_classical_sample_95.wav, Label: 0\n",
      "File: generated_songs/indian_classical/indian_classical_sample_81.wav, Label: 0\n",
      "File: generated_songs/indian_classical/indian_classical_sample_56.wav, Label: 0\n",
      "File: generated_songs/indian_classical/indian_classical_sample_42.wav, Label: 0\n",
      "File: generated_songs/indian_classical/indian_classical_sample_46.wav, Label: 0\n",
      "File: generated_songs/indian_classical/indian_classical_sample_65_pitch.wav, Label: 0\n",
      "File: generated_songs/indian_classical/indian_classical_sample_81_noise.wav, Label: 0\n",
      "File: generated_songs/indian_classical/indian_classical_sample_48_noise.wav, Label: 0\n",
      "File: generated_songs/indian_classical/indian_classical_sample_52.wav, Label: 0\n",
      "File: generated_songs/indian_classical/indian_classical_sample_47_stretch.wav, Label: 0\n",
      "File: generated_songs/indian_classical/indian_classical_sample_1_noise.wav, Label: 0\n",
      "File: generated_songs/indian_classical/indian_classical_sample_85.wav, Label: 0\n",
      "File: generated_songs/indian_classical/indian_classical_sample_91.wav, Label: 0\n",
      "File: generated_songs/indian_classical/indian_classical_sample_32_noise.wav, Label: 0\n",
      "File: generated_songs/indian_classical/indian_classical_sample_37_stretch.wav, Label: 0\n",
      "File: generated_songs/indian_classical/indian_classical_sample_69_stretch.wav, Label: 0\n",
      "File: generated_songs/indian_classical/indian_classical_sample_94_stretch.wav, Label: 0\n",
      "File: generated_songs/indian_classical/indian_classical_sample_26_noise.wav, Label: 0\n",
      "File: generated_songs/indian_classical/indian_classical_sample_19_stretch.wav, Label: 0\n",
      "File: generated_songs/indian_classical/indian_classical_sample_95_noise.wav, Label: 0\n",
      "File: generated_songs/indian_classical/indian_classical_sample_71_pitch.wav, Label: 0\n",
      "File: generated_songs/indian_classical/indian_classical_sample_88_stretch.wav, Label: 0\n",
      "File: generated_songs/indian_classical/indian_classical_sample_50_pitch.wav, Label: 0\n",
      "File: generated_songs/indian_classical/indian_classical_sample_99_pitch.wav, Label: 0\n",
      "File: generated_songs/indian_classical/indian_classical_sample_75_stretch.wav, Label: 0\n",
      "File: generated_songs/indian_classical/indian_classical_sample_1_stretch.wav, Label: 0\n",
      "File: generated_songs/indian_classical/indian_classical_sample_69_noise.wav, Label: 0\n",
      "File: generated_songs/indian_classical/indian_classical_sample_44_pitch.wav, Label: 0\n",
      "File: generated_songs/indian_classical/indian_classical_sample_90.wav, Label: 0\n",
      "File: generated_songs/indian_classical/indian_classical_sample_13_noise.wav, Label: 0\n",
      "File: generated_songs/indian_classical/indian_classical_sample_84.wav, Label: 0\n",
      "File: generated_songs/indian_classical/indian_classical_sample_53.wav, Label: 0\n",
      "File: generated_songs/indian_classical/indian_classical_sample_47.wav, Label: 0\n",
      "File: generated_songs/indian_classical/indian_classical_sample_79.wav, Label: 0\n",
      "File: generated_songs/indian_classical/indian_classical_sample_51.wav, Label: 0\n",
      "File: generated_songs/indian_classical/indian_classical_sample_45.wav, Label: 0\n",
      "File: generated_songs/indian_classical/indian_classical_sample_68_pitch.wav, Label: 0\n",
      "File: generated_songs/indian_classical/indian_classical_sample_45_noise.wav, Label: 0\n",
      "File: generated_songs/indian_classical/indian_classical_sample_92.wav, Label: 0\n",
      "File: generated_songs/indian_classical/indian_classical_sample_86.wav, Label: 0\n",
      "File: generated_songs/indian_classical/indian_classical_sample_12_pitch.wav, Label: 0\n",
      "File: generated_songs/indian_classical/indian_classical_sample_10_stretch.wav, Label: 0\n",
      "File: generated_songs/indian_classical/indian_classical_sample_51_noise.wav, Label: 0\n",
      "File: generated_songs/indian_classical/indian_classical_sample_98_noise.wav, Label: 0\n",
      "File: generated_songs/indian_classical/indian_classical_sample_60_stretch.wav, Label: 0\n",
      "File: generated_songs/indian_classical/indian_classical_sample_27_pitch.wav, Label: 0\n",
      "File: generated_songs/indian_classical/indian_classical_sample_81_stretch.wav, Label: 0\n",
      "File: generated_songs/indian_classical/indian_classical_sample_70_noise.wav, Label: 0\n",
      "File: generated_songs/indian_classical/indian_classical_sample_94_pitch.wav, Label: 0\n",
      "File: generated_songs/indian_classical/indian_classical_sample_100_noise.wav, Label: 0\n",
      "File: generated_songs/indian_classical/indian_classical_sample_52_stretch.wav, Label: 0\n",
      "File: generated_songs/indian_classical/indian_classical_sample_80_pitch.wav, Label: 0\n",
      "File: generated_songs/indian_classical/indian_classical_sample_64_noise.wav, Label: 0\n",
      "File: generated_songs/indian_classical/indian_classical_sample_49_pitch.wav, Label: 0\n",
      "File: generated_songs/indian_classical/indian_classical_sample_100_stretch.wav, Label: 0\n",
      "File: generated_songs/indian_classical/indian_classical_sample_87.wav, Label: 0\n",
      "File: generated_songs/indian_classical/indian_classical_sample_93.wav, Label: 0\n",
      "File: generated_songs/indian_classical/indian_classical_sample_22_stretch.wav, Label: 0\n",
      "File: generated_songs/indian_classical/indian_classical_sample_44.wav, Label: 0\n",
      "File: generated_songs/indian_classical/indian_classical_sample_8_stretch.wav, Label: 0\n",
      "File: generated_songs/indian_classical/indian_classical_sample_50.wav, Label: 0\n",
      "File: generated_songs/indian_classical/indian_classical_sample_78.wav, Label: 0\n",
      "File: generated_songs/indian_classical/indian_classical_sample_33_pitch.wav, Label: 0\n",
      "File: generated_songs/western_pop/western_pop_sample_63_pitch.wav, Label: 1\n",
      "File: generated_songs/western_pop/western_pop_sample_98.wav, Label: 1\n",
      "File: generated_songs/western_pop/western_pop_sample_73.wav, Label: 1\n",
      "File: generated_songs/western_pop/western_pop_sample_67.wav, Label: 1\n",
      "File: generated_songs/western_pop/western_pop_sample_19_pitch.wav, Label: 1\n",
      "File: generated_songs/western_pop/western_pop_sample_34_noise.wav, Label: 1\n",
      "File: generated_songs/western_pop/western_pop_sample_10_stretch.wav, Label: 1\n",
      "File: generated_songs/western_pop/western_pop_sample_3.wav, Label: 1\n",
      "File: generated_songs/western_pop/western_pop_sample_20_noise.wav, Label: 1\n",
      "File: generated_songs/western_pop/western_pop_sample_60_stretch.wav, Label: 1\n",
      "File: generated_songs/western_pop/western_pop_sample_77_pitch.wav, Label: 1\n",
      "File: generated_songs/western_pop/western_pop_sample_7_noise.wav, Label: 1\n",
      "File: generated_songs/western_pop/western_pop_sample_2.wav, Label: 1\n",
      "File: generated_songs/western_pop/western_pop_sample_15_noise.wav, Label: 1\n",
      "File: generated_songs/western_pop/western_pop_sample_22_stretch.wav, Label: 1\n",
      "File: generated_songs/western_pop/western_pop_sample_38_pitch.wav, Label: 1\n",
      "File: generated_songs/western_pop/western_pop_sample_66.wav, Label: 1\n",
      "File: generated_songs/western_pop/western_pop_sample_72.wav, Label: 1\n",
      "File: generated_songs/western_pop/western_pop_sample_99.wav, Label: 1\n",
      "File: generated_songs/western_pop/western_pop_sample_64.wav, Label: 1\n",
      "File: generated_songs/western_pop/western_pop_sample_70.wav, Label: 1\n",
      "File: generated_songs/western_pop/western_pop_sample_58.wav, Label: 1\n",
      "File: generated_songs/western_pop/western_pop_sample_37_stretch.wav, Label: 1\n",
      "File: generated_songs/western_pop/western_pop_sample_14_pitch.wav, Label: 1\n",
      "File: generated_songs/western_pop/western_pop_sample_39_noise.wav, Label: 1\n",
      "File: generated_songs/western_pop/western_pop_sample_5_stretch.wav, Label: 1\n",
      "File: generated_songs/western_pop/western_pop_sample_19_stretch.wav, Label: 1\n",
      "File: generated_songs/western_pop/western_pop_sample_75_stretch.wav, Label: 1\n",
      "File: generated_songs/western_pop/western_pop_sample_6_pitch.wav, Label: 1\n",
      "File: generated_songs/western_pop/western_pop_sample_76_noise.wav, Label: 1\n",
      "File: generated_songs/western_pop/western_pop_sample_1.wav, Label: 1\n",
      "File: generated_songs/western_pop/western_pop_sample_88_stretch.wav, Label: 1\n",
      "File: generated_songs/western_pop/western_pop_sample_62_noise.wav, Label: 1\n",
      "File: generated_songs/western_pop/western_pop_sample_59.wav, Label: 1\n",
      "File: generated_songs/western_pop/western_pop_sample_71.wav, Label: 1\n",
      "File: generated_songs/western_pop/western_pop_sample_65.wav, Label: 1\n",
      "File: generated_songs/western_pop/western_pop_sample_18_noise.wav, Label: 1\n",
      "File: generated_songs/western_pop/western_pop_sample_49.wav, Label: 1\n",
      "File: generated_songs/western_pop/western_pop_sample_61.wav, Label: 1\n",
      "File: generated_songs/western_pop/western_pop_sample_75.wav, Label: 1\n",
      "File: generated_songs/western_pop/western_pop_sample_99_pitch.wav, Label: 1\n",
      "File: generated_songs/western_pop/western_pop_sample_5.wav, Label: 1\n",
      "File: generated_songs/western_pop/western_pop_sample_13_noise.wav, Label: 1\n",
      "File: generated_songs/western_pop/western_pop_sample_32_stretch.wav, Label: 1\n",
      "File: generated_songs/western_pop/western_pop_sample_32_noise.wav, Label: 1\n",
      "File: generated_songs/western_pop/western_pop_sample_48_noise.wav, Label: 1\n",
      "File: generated_songs/western_pop/western_pop_sample_65_pitch.wav, Label: 1\n",
      "File: generated_songs/western_pop/western_pop_sample_4.wav, Label: 1\n",
      "File: generated_songs/western_pop/western_pop_sample_70_stretch.wav, Label: 1\n",
      "File: generated_songs/western_pop/western_pop_sample_1_noise.wav, Label: 1\n",
      "File: generated_songs/western_pop/western_pop_sample_71_pitch.wav, Label: 1\n",
      "File: generated_songs/western_pop/western_pop_sample_74.wav, Label: 1\n",
      "File: generated_songs/western_pop/western_pop_sample_60.wav, Label: 1\n",
      "File: generated_songs/western_pop/western_pop_sample_48.wav, Label: 1\n",
      "File: generated_songs/western_pop/western_pop_sample_26_noise.wav, Label: 1\n",
      "File: generated_songs/western_pop/western_pop_sample_70_noise.wav, Label: 1\n",
      "File: generated_songs/western_pop/western_pop_sample_89.wav, Label: 1\n",
      "File: generated_songs/western_pop/western_pop_sample_98_stretch.wav, Label: 1\n",
      "File: generated_songs/western_pop/western_pop_sample_65_stretch.wav, Label: 1\n",
      "File: generated_songs/western_pop/western_pop_sample_76.wav, Label: 1\n",
      "File: generated_songs/western_pop/western_pop_sample_62.wav, Label: 1\n",
      "File: generated_songs/western_pop/western_pop_sample_27_pitch.wav, Label: 1\n",
      "File: generated_songs/western_pop/western_pop_sample_15_stretch.wav, Label: 1\n",
      "File: generated_songs/western_pop/western_pop_sample_6.wav, Label: 1\n",
      "File: generated_songs/western_pop/western_pop_sample_33_pitch.wav, Label: 1\n",
      "File: generated_songs/western_pop/western_pop_sample_49_pitch.wav, Label: 1\n",
      "File: generated_songs/western_pop/western_pop_sample_64_noise.wav, Label: 1\n",
      "File: generated_songs/western_pop/western_pop_sample_27_stretch.wav, Label: 1\n",
      "File: generated_songs/western_pop/western_pop_sample_12_pitch.wav, Label: 1\n",
      "File: generated_songs/western_pop/western_pop_sample_7.wav, Label: 1\n",
      "File: generated_songs/western_pop/western_pop_sample_98_noise.wav, Label: 1\n",
      "File: generated_songs/western_pop/western_pop_sample_63.wav, Label: 1\n",
      "File: generated_songs/western_pop/western_pop_sample_77.wav, Label: 1\n",
      "File: generated_songs/western_pop/western_pop_sample_88.wav, Label: 1\n",
      "File: generated_songs/western_pop/western_pop_sample_10.wav, Label: 1\n",
      "File: generated_songs/western_pop/western_pop_sample_38.wav, Label: 1\n",
      "File: generated_songs/western_pop/western_pop_sample_6_noise.wav, Label: 1\n",
      "File: generated_songs/western_pop/western_pop_sample_76_pitch.wav, Label: 1\n",
      "File: generated_songs/western_pop/western_pop_sample_62_pitch.wav, Label: 1\n",
      "File: generated_songs/western_pop/western_pop_sample_24_stretch.wav, Label: 1\n",
      "File: generated_songs/western_pop/western_pop_sample_18_pitch.wav, Label: 1\n",
      "File: generated_songs/western_pop/western_pop_sample_48_stretch.wav, Label: 1\n",
      "File: generated_songs/western_pop/western_pop_sample_14_noise.wav, Label: 1\n",
      "File: generated_songs/western_pop/western_pop_sample_39_pitch.wav, Label: 1\n",
      "File: generated_songs/western_pop/western_pop_sample_38_stretch.wav, Label: 1\n",
      "File: generated_songs/western_pop/western_pop_sample_66_stretch.wav, Label: 1\n",
      "File: generated_songs/western_pop/western_pop_sample_39.wav, Label: 1\n",
      "File: generated_songs/western_pop/western_pop_sample_16_stretch.wav, Label: 1\n",
      "File: generated_songs/western_pop/western_pop_sample_11.wav, Label: 1\n",
      "File: generated_songs/western_pop/western_pop_sample_73_stretch.wav, Label: 1\n",
      "File: generated_songs/western_pop/western_pop_sample_13.wav, Label: 1\n",
      "File: generated_songs/western_pop/western_pop_sample_100_stretch.wav, Label: 1\n",
      "File: generated_songs/western_pop/western_pop_sample_15_pitch.wav, Label: 1\n",
      "File: generated_songs/western_pop/western_pop_sample_38_noise.wav, Label: 1\n",
      "File: generated_songs/western_pop/western_pop_sample_31_stretch.wav, Label: 1\n",
      "File: generated_songs/western_pop/western_pop_sample_3_stretch.wav, Label: 1\n",
      "File: generated_songs/western_pop/western_pop_sample_63_noise.wav, Label: 1\n",
      "File: generated_songs/western_pop/western_pop_sample_19_noise.wav, Label: 1\n",
      "File: generated_songs/western_pop/western_pop_sample_34_pitch.wav, Label: 1\n",
      "File: generated_songs/western_pop/western_pop_sample_20_pitch.wav, Label: 1\n",
      "File: generated_songs/western_pop/western_pop_sample_77_noise.wav, Label: 1\n",
      "File: generated_songs/western_pop/western_pop_sample_7_pitch.wav, Label: 1\n",
      "File: generated_songs/western_pop/western_pop_sample_12.wav, Label: 1\n",
      "File: generated_songs/western_pop/western_pop_sample_12_noise.wav, Label: 1\n",
      "File: generated_songs/western_pop/western_pop_sample_28_stretch.wav, Label: 1\n",
      "File: generated_songs/western_pop/western_pop_sample_16.wav, Label: 1\n",
      "File: generated_songs/western_pop/western_pop_sample_58_stretch.wav, Label: 1\n",
      "File: generated_songs/western_pop/western_pop_sample_98_pitch.wav, Label: 1\n",
      "File: generated_songs/western_pop/western_pop_sample_76_stretch.wav, Label: 1\n",
      "File: generated_songs/western_pop/western_pop_sample_70_pitch.wav, Label: 1\n",
      "File: generated_songs/western_pop/western_pop_sample_27_noise.wav, Label: 1\n",
      "File: generated_songs/western_pop/western_pop_sample_33_noise.wav, Label: 1\n",
      "File: generated_songs/western_pop/western_pop_sample_17.wav, Label: 1\n",
      "File: generated_songs/western_pop/western_pop_sample_6_stretch.wav, Label: 1\n",
      "File: generated_songs/western_pop/western_pop_sample_49_noise.wav, Label: 1\n",
      "File: generated_songs/western_pop/western_pop_sample_64_pitch.wav, Label: 1\n",
      "File: generated_songs/western_pop/western_pop_sample_34_stretch.wav, Label: 1\n",
      "File: generated_songs/western_pop/western_pop_sample_29.wav, Label: 1\n",
      "File: generated_songs/western_pop/western_pop_sample_15.wav, Label: 1\n",
      "File: generated_songs/western_pop/western_pop_sample_32_pitch.wav, Label: 1\n",
      "File: generated_songs/western_pop/western_pop_sample_48_pitch.wav, Label: 1\n",
      "File: generated_songs/western_pop/western_pop_sample_65_noise.wav, Label: 1\n",
      "File: generated_songs/western_pop/western_pop_sample_1_pitch.wav, Label: 1\n",
      "File: generated_songs/western_pop/western_pop_sample_71_noise.wav, Label: 1\n",
      "File: generated_songs/western_pop/western_pop_sample_26_pitch.wav, Label: 1\n",
      "File: generated_songs/western_pop/western_pop_sample_99_noise.wav, Label: 1\n",
      "File: generated_songs/western_pop/western_pop_sample_13_stretch.wav, Label: 1\n",
      "File: generated_songs/western_pop/western_pop_sample_63_stretch.wav, Label: 1\n",
      "File: generated_songs/western_pop/western_pop_sample_13_pitch.wav, Label: 1\n",
      "File: generated_songs/western_pop/western_pop_sample_14.wav, Label: 1\n",
      "File: generated_songs/western_pop/western_pop_sample_28.wav, Label: 1\n",
      "File: generated_songs/western_pop/western_pop_sample_31.wav, Label: 1\n",
      "File: generated_songs/western_pop/western_pop_sample_25.wav, Label: 1\n",
      "File: generated_songs/western_pop/western_pop_sample_19.wav, Label: 1\n",
      "File: generated_songs/western_pop/western_pop_sample_26_stretch.wav, Label: 1\n",
      "File: generated_songs/western_pop/western_pop_sample_89_pitch.wav, Label: 1\n",
      "File: generated_songs/western_pop/western_pop_sample_17_noise.wav, Label: 1\n",
      "File: generated_songs/western_pop/western_pop_sample_14_stretch.wav, Label: 1\n",
      "File: generated_songs/western_pop/western_pop_sample_100_noise.wav, Label: 1\n",
      "File: generated_songs/western_pop/western_pop_sample_61_pitch.wav, Label: 1\n",
      "File: generated_songs/western_pop/western_pop_sample_64_stretch.wav, Label: 1\n",
      "File: generated_songs/western_pop/western_pop_sample_99_stretch.wav, Label: 1\n",
      "File: generated_songs/western_pop/western_pop_sample_36_noise.wav, Label: 1\n",
      "File: generated_songs/western_pop/western_pop_sample_22_noise.wav, Label: 1\n",
      "File: generated_songs/western_pop/western_pop_sample_100.wav, Label: 1\n",
      "File: generated_songs/western_pop/western_pop_sample_18.wav, Label: 1\n",
      "File: generated_songs/western_pop/western_pop_sample_58_noise.wav, Label: 1\n",
      "File: generated_songs/western_pop/western_pop_sample_75_pitch.wav, Label: 1\n",
      "File: generated_songs/western_pop/western_pop_sample_5_noise.wav, Label: 1\n",
      "File: generated_songs/western_pop/western_pop_sample_24.wav, Label: 1\n",
      "File: generated_songs/western_pop/western_pop_sample_30.wav, Label: 1\n",
      "File: generated_songs/western_pop/western_pop_sample_23_pitch.wav, Label: 1\n",
      "File: generated_songs/western_pop/western_pop_sample_26.wav, Label: 1\n",
      "File: generated_songs/western_pop/western_pop_sample_32.wav, Label: 1\n",
      "File: generated_songs/western_pop/western_pop_sample_4_pitch.wav, Label: 1\n",
      "File: generated_songs/western_pop/western_pop_sample_59_pitch.wav, Label: 1\n",
      "File: generated_songs/western_pop/western_pop_sample_74_noise.wav, Label: 1\n",
      "File: generated_songs/western_pop/western_pop_sample_60_noise.wav, Label: 1\n",
      "File: generated_songs/western_pop/western_pop_sample_71_stretch.wav, Label: 1\n",
      "File: generated_songs/western_pop/western_pop_sample_37_pitch.wav, Label: 1\n",
      "File: generated_songs/western_pop/western_pop_sample_88_noise.wav, Label: 1\n",
      "File: generated_songs/western_pop/western_pop_sample_16_pitch.wav, Label: 1\n",
      "File: generated_songs/western_pop/western_pop_sample_33.wav, Label: 1\n",
      "File: generated_songs/western_pop/western_pop_sample_33_stretch.wav, Label: 1\n",
      "File: generated_songs/western_pop/western_pop_sample_27.wav, Label: 1\n",
      "File: generated_songs/western_pop/western_pop_sample_1_stretch.wav, Label: 1\n",
      "File: generated_songs/western_pop/western_pop_sample_89_stretch.wav, Label: 1\n",
      "File: generated_songs/western_pop/western_pop_sample_74_stretch.wav, Label: 1\n",
      "File: generated_songs/western_pop/western_pop_sample_23.wav, Label: 1\n",
      "File: generated_songs/western_pop/western_pop_sample_37.wav, Label: 1\n",
      "File: generated_songs/western_pop/western_pop_sample_30_noise.wav, Label: 1\n",
      "File: generated_songs/western_pop/western_pop_sample_67_pitch.wav, Label: 1\n",
      "File: generated_songs/western_pop/western_pop_sample_3_noise.wav, Label: 1\n",
      "File: generated_songs/western_pop/western_pop_sample_73_pitch.wav, Label: 1\n",
      "File: generated_songs/western_pop/western_pop_sample_24_noise.wav, Label: 1\n",
      "File: generated_songs/western_pop/western_pop_sample_4_stretch.wav, Label: 1\n",
      "File: generated_songs/western_pop/western_pop_sample_36_stretch.wav, Label: 1\n",
      "File: generated_songs/western_pop/western_pop_sample_28_pitch.wav, Label: 1\n",
      "File: generated_songs/western_pop/western_pop_sample_18_stretch.wav, Label: 1\n",
      "File: generated_songs/western_pop/western_pop_sample_11_noise.wav, Label: 1\n",
      "File: generated_songs/western_pop/western_pop_sample_36.wav, Label: 1\n",
      "File: generated_songs/western_pop/western_pop_sample_22.wav, Label: 1\n",
      "File: generated_songs/western_pop/western_pop_sample_10_pitch.wav, Label: 1\n",
      "File: generated_songs/western_pop/western_pop_sample_34.wav, Label: 1\n",
      "File: generated_songs/western_pop/western_pop_sample_20.wav, Label: 1\n",
      "File: generated_songs/western_pop/western_pop_sample_23_stretch.wav, Label: 1\n",
      "File: generated_songs/western_pop/western_pop_sample_29_noise.wav, Label: 1\n",
      "File: generated_songs/western_pop/western_pop_sample_72_noise.wav, Label: 1\n",
      "File: generated_songs/western_pop/western_pop_sample_2_pitch.wav, Label: 1\n",
      "File: generated_songs/western_pop/western_pop_sample_25_pitch.wav, Label: 1\n",
      "File: generated_songs/western_pop/western_pop_sample_31_pitch.wav, Label: 1\n",
      "File: generated_songs/western_pop/western_pop_sample_61_stretch.wav, Label: 1\n",
      "File: generated_songs/western_pop/western_pop_sample_21.wav, Label: 1\n",
      "File: generated_songs/western_pop/western_pop_sample_35.wav, Label: 1\n",
      "File: generated_songs/western_pop/western_pop_sample_66_noise.wav, Label: 1\n",
      "File: generated_songs/western_pop/western_pop_sample_11_stretch.wav, Label: 1\n",
      "File: generated_songs/western_pop/western_pop_sample_91.wav, Label: 1\n",
      "File: generated_songs/western_pop/western_pop_sample_62_stretch.wav, Label: 1\n",
      "File: generated_songs/western_pop/western_pop_sample_85.wav, Label: 1\n",
      "File: generated_songs/western_pop/western_pop_sample_52.wav, Label: 1\n",
      "File: generated_songs/western_pop/western_pop_sample_88_pitch.wav, Label: 1\n",
      "File: generated_songs/western_pop/western_pop_sample_46.wav, Label: 1\n",
      "File: generated_songs/western_pop/western_pop_sample_12_stretch.wav, Label: 1\n",
      "File: generated_songs/western_pop/western_pop_sample_16_noise.wav, Label: 1\n",
      "File: generated_songs/western_pop/western_pop_sample_23_noise.wav, Label: 1\n",
      "File: generated_songs/western_pop/western_pop_sample_20_stretch.wav, Label: 1\n",
      "File: generated_songs/western_pop/western_pop_sample_4_noise.wav, Label: 1\n",
      "File: generated_songs/western_pop/western_pop_sample_59_noise.wav, Label: 1\n",
      "File: generated_songs/western_pop/western_pop_sample_74_pitch.wav, Label: 1\n",
      "File: generated_songs/western_pop/western_pop_sample_60_pitch.wav, Label: 1\n",
      "File: generated_songs/western_pop/western_pop_sample_47.wav, Label: 1\n",
      "File: generated_songs/western_pop/western_pop_sample_53.wav, Label: 1\n",
      "File: generated_songs/western_pop/western_pop_sample_84.wav, Label: 1\n",
      "File: generated_songs/western_pop/western_pop_sample_90.wav, Label: 1\n",
      "File: generated_songs/western_pop/western_pop_sample_37_noise.wav, Label: 1\n",
      "File: generated_songs/western_pop/western_pop_sample_100_pitch.wav, Label: 1\n",
      "File: generated_songs/western_pop/western_pop_sample_86.wav, Label: 1\n",
      "File: generated_songs/western_pop/western_pop_sample_92.wav, Label: 1\n",
      "File: generated_songs/western_pop/western_pop_sample_61_noise.wav, Label: 1\n",
      "File: generated_songs/western_pop/western_pop_sample_45.wav, Label: 1\n",
      "File: generated_songs/western_pop/western_pop_sample_51.wav, Label: 1\n",
      "File: generated_songs/western_pop/western_pop_sample_79.wav, Label: 1\n",
      "File: generated_songs/western_pop/western_pop_sample_36_pitch.wav, Label: 1\n",
      "File: generated_songs/western_pop/western_pop_sample_9.wav, Label: 1\n",
      "File: generated_songs/western_pop/western_pop_sample_22_pitch.wav, Label: 1\n",
      "File: generated_songs/western_pop/western_pop_sample_7_stretch.wav, Label: 1\n",
      "File: generated_songs/western_pop/western_pop_sample_58_pitch.wav, Label: 1\n",
      "File: generated_songs/western_pop/western_pop_sample_75_noise.wav, Label: 1\n",
      "File: generated_songs/western_pop/western_pop_sample_5_pitch.wav, Label: 1\n",
      "File: generated_songs/western_pop/western_pop_sample_59_stretch.wav, Label: 1\n",
      "File: generated_songs/western_pop/western_pop_sample_29_stretch.wav, Label: 1\n",
      "File: generated_songs/western_pop/western_pop_sample_8.wav, Label: 1\n",
      "File: generated_songs/western_pop/western_pop_sample_77_stretch.wav, Label: 1\n",
      "File: generated_songs/western_pop/western_pop_sample_89_noise.wav, Label: 1\n",
      "File: generated_songs/western_pop/western_pop_sample_17_pitch.wav, Label: 1\n",
      "File: generated_songs/western_pop/western_pop_sample_78.wav, Label: 1\n",
      "File: generated_songs/western_pop/western_pop_sample_50.wav, Label: 1\n",
      "File: generated_songs/western_pop/western_pop_sample_44.wav, Label: 1\n",
      "File: generated_songs/western_pop/western_pop_sample_93.wav, Label: 1\n",
      "File: generated_songs/western_pop/western_pop_sample_87.wav, Label: 1\n",
      "File: generated_songs/western_pop/western_pop_sample_72_pitch.wav, Label: 1\n",
      "File: generated_songs/western_pop/western_pop_sample_2_noise.wav, Label: 1\n",
      "File: generated_songs/western_pop/western_pop_sample_83.wav, Label: 1\n",
      "File: generated_songs/western_pop/western_pop_sample_97.wav, Label: 1\n",
      "File: generated_songs/western_pop/western_pop_sample_68.wav, Label: 1\n",
      "File: generated_songs/western_pop/western_pop_sample_40.wav, Label: 1\n",
      "File: generated_songs/western_pop/western_pop_sample_54.wav, Label: 1\n",
      "File: generated_songs/western_pop/western_pop_sample_25_noise.wav, Label: 1\n",
      "File: generated_songs/western_pop/western_pop_sample_2_stretch.wav, Label: 1\n",
      "File: generated_songs/western_pop/western_pop_sample_30_stretch.wav, Label: 1\n",
      "File: generated_songs/western_pop/western_pop_sample_31_noise.wav, Label: 1\n",
      "File: generated_songs/western_pop/western_pop_sample_66_pitch.wav, Label: 1\n",
      "File: generated_songs/western_pop/western_pop_sample_10_noise.wav, Label: 1\n",
      "File: generated_songs/western_pop/western_pop_sample_72_stretch.wav, Label: 1\n",
      "File: generated_songs/western_pop/western_pop_sample_55.wav, Label: 1\n",
      "File: generated_songs/western_pop/western_pop_sample_41.wav, Label: 1\n",
      "File: generated_songs/western_pop/western_pop_sample_69.wav, Label: 1\n",
      "File: generated_songs/western_pop/western_pop_sample_29_pitch.wav, Label: 1\n",
      "File: generated_songs/western_pop/western_pop_sample_96.wav, Label: 1\n",
      "File: generated_songs/western_pop/western_pop_sample_82.wav, Label: 1\n",
      "File: generated_songs/western_pop/western_pop_sample_94.wav, Label: 1\n",
      "File: generated_songs/western_pop/western_pop_sample_80.wav, Label: 1\n",
      "File: generated_songs/western_pop/western_pop_sample_39_stretch.wav, Label: 1\n",
      "File: generated_songs/western_pop/western_pop_sample_57.wav, Label: 1\n",
      "File: generated_songs/western_pop/western_pop_sample_43.wav, Label: 1\n",
      "File: generated_songs/western_pop/western_pop_sample_49_stretch.wav, Label: 1\n",
      "File: generated_songs/western_pop/western_pop_sample_28_noise.wav, Label: 1\n",
      "File: generated_songs/western_pop/western_pop_sample_11_pitch.wav, Label: 1\n",
      "File: generated_songs/western_pop/western_pop_sample_17_stretch.wav, Label: 1\n",
      "File: generated_songs/western_pop/western_pop_sample_67_stretch.wav, Label: 1\n",
      "File: generated_songs/western_pop/western_pop_sample_30_pitch.wav, Label: 1\n",
      "File: generated_songs/western_pop/western_pop_sample_67_noise.wav, Label: 1\n",
      "File: generated_songs/western_pop/western_pop_sample_3_pitch.wav, Label: 1\n",
      "File: generated_songs/western_pop/western_pop_sample_73_noise.wav, Label: 1\n",
      "File: generated_songs/western_pop/western_pop_sample_42.wav, Label: 1\n",
      "File: generated_songs/western_pop/western_pop_sample_56.wav, Label: 1\n",
      "File: generated_songs/western_pop/western_pop_sample_81.wav, Label: 1\n",
      "File: generated_songs/western_pop/western_pop_sample_24_pitch.wav, Label: 1\n",
      "File: generated_songs/western_pop/western_pop_sample_25_stretch.wav, Label: 1\n",
      "File: generated_songs/western_pop/western_pop_sample_95.wav, Label: 1\n"
     ]
    }
   ],
   "source": [
    "# ============================\n",
    "# 5. Collect Audio Files and Assign Labels\n",
    "# ============================\n",
    "\n",
    "# List of genres and corresponding labels\n",
    "genre_labels = {\"indian_classical\": 0, \"western_pop\": 1}  # 0: Indian Classical, 1: Western Pop\n",
    "\n",
    "audio_files = []\n",
    "labels = []\n",
    "\n",
    "# Iterate through each genre directory and collect audio files and labels\n",
    "for genre, label in genre_labels.items():\n",
    "    genre_path = os.path.join(DATASET_PATH, genre)\n",
    "    if not os.path.isdir(genre_path):\n",
    "        print(f\"Genre directory {genre_path} does not exist. Skipping.\")\n",
    "        continue\n",
    "    # Find all WAV files in the genre directory\n",
    "    genre_audio_files = glob.glob(os.path.join(genre_path, '*.wav'))\n",
    "    audio_files.extend(genre_audio_files)\n",
    "    labels.extend([label] * len(genre_audio_files))\n",
    "    print(f\"Found {len(genre_audio_files)} audio files for genre '{genre}'.\")\n",
    "\n",
    "print(f\"\\nTotal audio files collected: {len(audio_files)}\")\n",
    "print(f\"Total labels collected: {len(labels)}\")\n",
    "\n",
    "# **Verify Label Alignment:**\n",
    "for i in range(len(audio_files)):\n",
    "    print(f\"File: {audio_files[i]}, Label: {labels[i]}\")"
   ]
  },
  {
   "cell_type": "code",
   "execution_count": null,
   "metadata": {},
   "outputs": [
    {
     "name": "stdout",
     "output_type": "stream",
     "text": [
      "Pipeline failed: name 'data_load_and_process' is not defined\n",
      "Epoch 1/50\n",
      "32/32 [==============================] - 0s 11ms/step - loss: 0.6775 - accuracy: 0.6191 - val_loss: 0.6538 - val_accuracy: 0.6172\n",
      "Epoch 2/50\n",
      "22/32 [===================>..........] - ETA: 0s - loss: 0.6422 - accuracy: 0.6761"
     ]
    },
    {
     "name": "stderr",
     "output_type": "stream",
     "text": [
      "/opt/anaconda3/envs/conda_venv/lib/python3.11/site-packages/keras/src/engine/training.py:3103: UserWarning: You are saving your model as an HDF5 file via `model.save()`. This file format is considered legacy. We recommend using instead the native Keras format, e.g. `model.save('my_model.keras')`.\n",
      "  saving_api.save_model(\n"
     ]
    },
    {
     "name": "stdout",
     "output_type": "stream",
     "text": [
      "32/32 [==============================] - 0s 9ms/step - loss: 0.6426 - accuracy: 0.6660 - val_loss: 0.6519 - val_accuracy: 0.6172\n",
      "Epoch 3/50\n",
      "32/32 [==============================] - 0s 8ms/step - loss: 0.6467 - accuracy: 0.6621 - val_loss: 0.6585 - val_accuracy: 0.6172\n",
      "Epoch 4/50\n",
      "32/32 [==============================] - 0s 9ms/step - loss: 0.6385 - accuracy: 0.6621 - val_loss: 0.6501 - val_accuracy: 0.6172\n",
      "Epoch 5/50\n",
      "32/32 [==============================] - 0s 9ms/step - loss: 0.6307 - accuracy: 0.6621 - val_loss: 0.6506 - val_accuracy: 0.6172\n",
      "Epoch 6/50\n",
      "32/32 [==============================] - 0s 9ms/step - loss: 0.6471 - accuracy: 0.6562 - val_loss: 0.6467 - val_accuracy: 0.6172\n",
      "Epoch 7/50\n",
      "32/32 [==============================] - 0s 9ms/step - loss: 0.6438 - accuracy: 0.6621 - val_loss: 0.6533 - val_accuracy: 0.6172\n",
      "Epoch 8/50\n",
      "32/32 [==============================] - 0s 9ms/step - loss: 0.6494 - accuracy: 0.6602 - val_loss: 0.6484 - val_accuracy: 0.6172\n",
      "Epoch 9/50\n",
      "32/32 [==============================] - 0s 9ms/step - loss: 0.6322 - accuracy: 0.6641 - val_loss: 0.6468 - val_accuracy: 0.6172\n",
      "Epoch 10/50\n",
      "32/32 [==============================] - 0s 10ms/step - loss: 0.6326 - accuracy: 0.6621 - val_loss: 0.6472 - val_accuracy: 0.6172\n",
      "Epoch 11/50\n",
      "32/32 [==============================] - 0s 11ms/step - loss: 0.6307 - accuracy: 0.6680 - val_loss: 0.6580 - val_accuracy: 0.6172\n",
      "Final CNN Accuracy: 100.00%\n",
      "2/2 [==============================] - 0s 2ms/step\n",
      "Final CNN Accuracy using sklearn: 100.00%\n"
     ]
    },
    {
     "data": {
      "image/png": "[encoded data removed]",
      "text/plain": [
       "<Figure size 1200x400 with 2 Axes>"
      ]
     },
     "metadata": {},
     "output_type": "display_data"
    },
    {
     "name": "stdout",
     "output_type": "stream",
     "text": [
      "Confusion Matrix:\n",
      "[[20  0]\n",
      " [ 0 20]]\n",
      "\n",
      "Classification Report:\n",
      "                  precision    recall  f1-score   support\n",
      "\n",
      "indian_classical       1.00      1.00      1.00        20\n",
      "     western_pop       1.00      1.00      1.00        20\n",
      "\n",
      "        accuracy                           1.00        40\n",
      "       macro avg       1.00      1.00      1.00        40\n",
      "    weighted avg       1.00      1.00      1.00        40\n",
      "\n"
     ]
    }
   ],
   "source": [
    "# ============================\n",
    "# 6. Preprocess Data\n",
    "# ============================\n",
    "\n",
    "# Preprocess data\n",
    "try:\n",
    "    X_train, X_test, Y_train, Y_test = data_load_and_process(audio_files, labels, num_mfcc=40, img_height=40, img_width=128, test_split=0.2)\n",
    "    print(f\"Training Data Shape: {X_train.shape}, Testing Data Shape: {X_test.shape}\")\n",
    "except Exception as e:\n",
    "    print(f\"Pipeline failed: {e}\")\n",
    "\n",
    "# ============================\n",
    "# 7. Convert Labels to One-Hot Encoding\n",
    "# ============================\n",
    "\n",
    "num_classes = len(genre_labels)\n",
    "Y_train_onehot = tf.keras.utils.to_categorical(Y_train, num_classes=num_classes)\n",
    "Y_test_onehot = tf.keras.utils.to_categorical(Y_test, num_classes=num_classes)\n",
    "\n",
    "# ============================\n",
    "# 8. Build and Compile the CNN Model\n",
    "# ============================\n",
    "cnn_model = build_simpler_cnn(X_train.shape[1:])\n",
    "cnn_model.compile(optimizer='adam', loss='categorical_crossentropy', metrics=['accuracy'])\n",
    "# ============================\n",
    "# 9. Define Callbacks\n",
    "# ============================\n",
    "\n",
    "early_stop = tf.keras.callbacks.EarlyStopping(monitor='val_loss', patience=5, restore_best_weights=True)\n",
    "checkpoint = tf.keras.callbacks.ModelCheckpoint('best_cnn_model.h5', monitor='val_loss', save_best_only=True)\n",
    "\n",
    "# ============================\n",
    "# 10. Train the CNN Model\n",
    "# ============================\n",
    "\n",
    "history = cnn_model.fit(\n",
    "    X_train, Y_train_onehot,\n",
    "    epochs=50,\n",
    "    batch_size=16,\n",
    "    validation_split=0.2,\n",
    "    callbacks=[early_stop, checkpoint],\n",
    "    verbose=1\n",
    ")\n",
    "\n",
    "# ============================\n",
    "# 11. Evaluate the CNN Model\n",
    "# ============================\n",
    "\n",
    "# Evaluate the CNN model\n",
    "loss, accuracy = cnn_model.evaluate(X_test, Y_test_onehot, verbose=0)\n",
    "print(f\"Final CNN Accuracy: {accuracy * 100:.2f}%\")\n",
    "\n",
    "# Predictions and accuracy\n",
    "Y_pred = np.argmax(cnn_model.predict(X_test), axis=1)\n",
    "Y_true = np.argmax(Y_test_onehot, axis=1)\n",
    "final_accuracy = accuracy_score(Y_true, Y_pred)\n",
    "print(f\"Final CNN Accuracy using sklearn: {final_accuracy * 100:.2f}%\")\n",
    "\n",
    "# ============================\n",
    "# 12. Plot Training History\n",
    "# ============================\n",
    "\n",
    "# Plot Training History\n",
    "plt.figure(figsize=(12, 4))\n",
    "\n",
    "# Plot Accuracy\n",
    "plt.subplot(1, 2, 1)\n",
    "plt.plot(history.history['accuracy'], label='Train Accuracy')\n",
    "plt.plot(history.history['val_accuracy'], label='Validation Accuracy')\n",
    "plt.title('Model Accuracy over Epochs')\n",
    "plt.xlabel('Epoch')\n",
    "plt.ylabel('Accuracy')\n",
    "plt.legend()\n",
    "\n",
    "# Plot Loss\n",
    "plt.subplot(1, 2, 2)\n",
    "plt.plot(history.history['loss'], label='Train Loss')\n",
    "plt.plot(history.history['val_loss'], label='Validation Loss')\n",
    "plt.title('Model Loss over Epochs')\n",
    "plt.xlabel('Epoch')\n",
    "plt.ylabel('Loss')\n",
    "plt.legend()\n",
    "\n",
    "plt.tight_layout()\n",
    "plt.show()\n",
    "\n",
    "# ============================\n",
    "# 13. Display Confusion Matrix and Classification Report\n",
    "# ============================\n",
    "\n",
    "cm = confusion_matrix(Y_true, Y_pred)\n",
    "print(\"Confusion Matrix:\")\n",
    "print(cm)\n",
    "\n",
    "print(\"\\nClassification Report:\")\n",
    "print(classification_report(Y_true, Y_pred, target_names=genre_labels.keys()))"
   ]
  },
  {
   "cell_type": "markdown",
   "metadata": {
    "id": "h-ZrOUM3GdqO"
   },
   "source": [
    "## Data Preprocessing for Quantum Models\n",
    "Processes audio data into spectrograms, normalizes them, and splits them into training and testing datasets, preparing them for QCNN input"
   ]
  },
  {
   "cell_type": "code",
   "execution_count": null,
   "metadata": {
    "id": "OdePPgezJjSU"
   },
   "outputs": [],
   "source": [
    "def data_load_and_process(audio_files=None, labels=None, num_features=256, test_split=0.2):\n",
    "    import numpy as np\n",
    "    import librosa\n",
    "\n",
    "    spectrograms = []\n",
    "    for file in audio_files:\n",
    "        try:\n",
    "            y, sr = librosa.load(file, sr=None)\n",
    "            D = librosa.stft(y)\n",
    "            S_db = librosa.amplitude_to_db(np.abs(D), ref=np.max)\n",
    "\n",
    "            S_flattened = S_db.flatten()\n",
    "            if len(S_flattened) >= num_features:\n",
    "                S_resized = S_flattened[:num_features]\n",
    "            else:\n",
    "                S_resized = np.pad(S_flattened, (0, num_features - len(S_flattened)), mode='constant')\n",
    "\n",
    "            S_normalized = S_resized / np.linalg.norm(S_resized)\n",
    "            spectrograms.append(S_normalized)\n",
    "        except Exception as e:\n",
    "            print(f\"Error processing file {file}: {e}\")\n",
    "            continue\n",
    "\n",
    "    X = np.array(spectrograms)\n",
    "    if len(labels) == 2:  # If binary labels are provided\n",
    "        labels = np.tile(labels, len(X) // len(labels) + 1)[:len(X)]\n",
    "\n",
    "    Y = np.array(labels)\n",
    "    split_index = int(len(X) * (1 - test_split))\n",
    "    X_train, X_test = X[:split_index], X[split_index:]\n",
    "    Y_train, Y_test = Y[:split_index], Y[split_index:]\n",
    "\n",
    "    return X_train, X_test, Y_train, Y_test\n"
   ]
  },
  {
   "cell_type": "markdown",
   "metadata": {
    "id": "KMk9ndwhGdqO"
   },
   "source": [
    "## Quantum Circuit Components\n",
    "Defines modular building blocks for the Quantum Convolutional Neural Network (QCNN), including:\n",
    "- **Unitary gates**: E.g., `U_TTN`.\n",
    "- **Convolutional layers**: Apply quantum operations.\n",
    "- **Pooling layers**: Reduce quantum states."
   ]
  },
  {
   "cell_type": "code",
   "execution_count": null,
   "metadata": {
    "id": "tY78fd86GdqO"
   },
   "outputs": [],
   "source": [
    "# Quantum Circuit Components\n",
    "def U_TTN(params, wires):\n",
    "    qml.RY(params[0], wires=wires[0])\n",
    "    qml.RY(params[1], wires=wires[1])\n",
    "    qml.CNOT(wires=[wires[0], wires[1]])\n",
    "\n",
    "def U_5(params, wires):  # 10 params\n",
    "    qml.RX(params[0], wires=wires[0])\n",
    "    qml.RX(params[1], wires=wires[1])\n",
    "    qml.RZ(params[2], wires=wires[0])\n",
    "    qml.RZ(params[3], wires=wires[1])\n",
    "    qml.CRZ(params[4], wires=[wires[1], wires[0]])\n",
    "    qml.CRZ(params[5], wires=[wires[0], wires[1]])\n",
    "    qml.RX(params[6], wires=wires[0])\n",
    "    qml.RX(params[7], wires=wires[1])\n",
    "    qml.RZ(params[8], wires=wires[0])\n",
    "    qml.RZ(params[9], wires=wires[1])\n",
    "\n",
    "\n",
    "def U_6(params, wires):  # 10 params\n",
    "    qml.RX(params[0], wires=wires[0])\n",
    "    qml.RX(params[1], wires=wires[1])\n",
    "    qml.RZ(params[2], wires=wires[0])\n",
    "    qml.RZ(params[3], wires=wires[1])\n",
    "    qml.CRX(params[4], wires=[wires[1], wires[0]])\n",
    "    qml.CRX(params[5], wires=[wires[0], wires[1]])\n",
    "    qml.RX(params[6], wires=wires[0])\n",
    "    qml.RX(params[7], wires=wires[1])\n",
    "    qml.RZ(params[8], wires=wires[0])\n",
    "    qml.RZ(params[9], wires=wires[1])\n",
    "\n",
    "\n",
    "def U_9(params, wires):  # 2 params\n",
    "    qml.Hadamard(wires=wires[0])\n",
    "    qml.Hadamard(wires=wires[1])\n",
    "    qml.CZ(wires=[wires[0], wires[1]])\n",
    "    qml.RX(params[0], wires=wires[0])\n",
    "    qml.RX(params[1], wires=wires[1])\n",
    "\n",
    "\n",
    "def U_13(params, wires):  # 6 params\n",
    "    qml.RY(params[0], wires=wires[0])\n",
    "    qml.RY(params[1], wires=wires[1])\n",
    "    qml.CRZ(params[2], wires=[wires[1], wires[0]])\n",
    "    qml.RY(params[3], wires=wires[0])\n",
    "    qml.RY(params[4], wires=wires[1])\n",
    "    qml.CRZ(params[5], wires=[wires[0], wires[1]])\n",
    "\n",
    "\n",
    "def U_14(params, wires):  # 6 params\n",
    "    qml.RY(params[0], wires=wires[0])\n",
    "    qml.RY(params[1], wires=wires[1])\n",
    "    qml.CRX(params[2], wires=[wires[1], wires[0]])\n",
    "    qml.RY(params[3], wires=wires[0])\n",
    "    qml.RY(params[4], wires=wires[1])\n",
    "    qml.CRX(params[5], wires=[wires[0], wires[1]])\n",
    "\n",
    "\n",
    "def U_15(params, wires):  # 4 params\n",
    "    qml.RY(params[0], wires=wires[0])\n",
    "    qml.RY(params[1], wires=wires[1])\n",
    "    qml.CNOT(wires=[wires[1], wires[0]])\n",
    "    qml.RY(params[2], wires=wires[0])\n",
    "    qml.RY(params[3], wires=wires[1])\n",
    "    qml.CNOT(wires=[wires[0], wires[1]])\n",
    "\n",
    "\n",
    "def U_SO4(params, wires):  # 6 params\n",
    "    qml.RY(params[0], wires=wires[0])\n",
    "    qml.RY(params[1], wires=wires[1])\n",
    "    qml.CNOT(wires=[wires[0], wires[1]])\n",
    "    qml.RY(params[2], wires=wires[0])\n",
    "    qml.RY(params[3], wires=wires[1])\n",
    "    qml.CNOT(wires=[wires[0], wires[1]])\n",
    "    qml.RY(params[4], wires=wires[0])\n",
    "    qml.RY(params[5], wires=wires[1])\n",
    "\n",
    "\n",
    "def U_SU4(params, wires): # 15 params\n",
    "    qml.U3(params[0], params[1], params[2], wires=wires[0])\n",
    "    qml.U3(params[3], params[4], params[5], wires=wires[1])\n",
    "    qml.CNOT(wires=[wires[0], wires[1]])\n",
    "    qml.RY(params[6], wires=wires[0])\n",
    "    qml.RZ(params[7], wires=wires[1])\n",
    "    qml.CNOT(wires=[wires[1], wires[0]])\n",
    "    qml.RY(params[8], wires=wires[0])\n",
    "    qml.CNOT(wires=[wires[0], wires[1]])\n",
    "    qml.U3(params[9], params[10], params[11], wires=wires[0])\n",
    "    qml.U3(params[12], params[13], params[14], wires=wires[1])\n",
    "\n",
    "# Quantum Circuits for Convolutional layers\n",
    "def conv_layer1(U, params):\n",
    "    U(params, wires=[0, 7])\n",
    "    for i in range(0, 8, 2):\n",
    "        U(params, wires=[i, i + 1])\n",
    "    for i in range(1, 7, 2):\n",
    "        U(params, wires=[i, i + 1])\n",
    "\n",
    "def conv_layer2(U, params):\n",
    "    U(params, wires=[0, 6])\n",
    "    U(params, wires=[0, 2])\n",
    "    U(params, wires=[4, 6])\n",
    "    U(params, wires=[2, 4])\n",
    "\n",
    "def conv_layer3(U, params):\n",
    "    U(params, wires=[0,4])"
   ]
  },
  {
   "cell_type": "markdown",
   "metadata": {
    "id": "nW_bNb0rGdqO"
   },
   "source": [
    "## Define Pooling Strategies\n",
    "Pooling layers reduce the size of the quantum data, similar to classical pooling in CNNs."
   ]
  },
  {
   "cell_type": "code",
   "execution_count": null,
   "metadata": {
    "id": "I8Pvik0YGdqP"
   },
   "outputs": [],
   "source": [
    "# Pooling layers\n",
    "\n",
    "def Pooling_ansatz1(params, wires):\n",
    "    qml.CRZ(params[0], wires=[wires[0], wires[1]])\n",
    "    qml.PauliX(wires=wires[0])\n",
    "    qml.CRX(params[1], wires=[wires[0], wires[1]])\n",
    "\n",
    "def pooling_layer1(V, params):\n",
    "    for i in range(0, 8, 2):\n",
    "        V(params, wires=[i + 1, i])\n",
    "\n",
    "def pooling_layer2(V, params):\n",
    "    V(params, wires=[2,0])\n",
    "    V(params, wires=[6,4])\n",
    "\n",
    "def pooling_layer3(V, params):\n",
    "    V(params, wires=[0,4])"
   ]
  },
  {
   "cell_type": "markdown",
   "metadata": {
    "id": "BuDyNcLsGdqP"
   },
   "source": [
    "## QCNN Structure\n",
    "Defines the full QCNN architecture, including convolutional and pooling layers."
   ]
  },
  {
   "cell_type": "code",
   "execution_count": null,
   "metadata": {
    "id": "CYwmGYKFGdqP"
   },
   "outputs": [],
   "source": [
    "def QCNN_structure(U, params, U_params):\n",
    "    param1 = params[0:U_params]\n",
    "    param2 = params[U_params: 2 * U_params]\n",
    "    param3 = params[2 * U_params: 3 * U_params]\n",
    "    param4 = params[3 * U_params: 3 * U_params + 2]\n",
    "    param5 = params[3 * U_params + 2: 3 * U_params + 4]\n",
    "    param6 = params[3 * U_params + 4: 3 * U_params + 6]\n",
    "\n",
    "    conv_layer1(U, param1)\n",
    "    pooling_layer1(Pooling_ansatz1, param4)\n",
    "    conv_layer2(U, param2)\n",
    "    pooling_layer2(Pooling_ansatz1, param5)\n",
    "    conv_layer3(U, param3)\n",
    "    pooling_layer3(Pooling_ansatz1, param6)\n",
    "\n",
    "def QCNN_structure_without_pooling(U, params, U_params):\n",
    "    param1 = params[0:U_params]\n",
    "    param2 = params[U_params: 2 * U_params]\n",
    "    param3 = params[2 * U_params: 3 * U_params]\n",
    "\n",
    "    conv_layer1(U, param1)\n",
    "    conv_layer2(U, param2)\n",
    "    conv_layer3(U, param3)\n",
    "\n",
    "def QCNN_1D_circuit(U, params, U_params):\n",
    "    param1 = params[0: U_params]\n",
    "    param2 = params[U_params: 2*U_params]\n",
    "    param3 = params[2*U_params: 3*U_params]\n",
    "\n",
    "    for i in range(0, 8, 2):\n",
    "        U(param1, wires=[i, i + 1])\n",
    "    for i in range(1, 7, 2):\n",
    "        U(param1, wires=[i, i + 1])\n",
    "\n",
    "    U(param2, wires=[2,3])\n",
    "    U(param2, wires=[4,5])\n",
    "    U(param3, wires=[3,4])"
   ]
  },
  {
   "cell_type": "markdown",
   "metadata": {
    "id": "BXM0EZmxGdqP"
   },
   "source": [
    "## QCNN Circuit\n",
    "Implements the QCNN with amplitude embedding and modular structure. The output is based on the cost function:\n",
    "- **Cross-entropy**: Returns probabilities.\n",
    "- **Mean-squared error**: Returns expectation value."
   ]
  },
  {
   "cell_type": "markdown",
   "metadata": {
    "id": "CApchJ8AGdqP"
   },
   "source": [
    "## The dev variable initializes a quantum device. In this example \"default.qubit\" with 8 wires is used."
   ]
  },
  {
   "cell_type": "code",
   "execution_count": null,
   "metadata": {
    "id": "AU3Usb--GdqP"
   },
   "outputs": [],
   "source": [
    "import pennylane as qml\n",
    "import pennylane as qml\n",
    "from pennylane.templates.embeddings import AmplitudeEmbedding\n",
    "\n",
    "# Define the QCNN quantum node\n",
    "dev = qml.device('default.qubit', wires = 8)\n",
    "@qml.qnode(dev)\n",
    "def QCNN(X, params, U, U_params, cost_fn='cross_entropy'):\n",
    "\n",
    "    # Data Embedding - Consider Amplitude Embedding\n",
    "    AmplitudeEmbedding(X, wires=range(8), normalize=True)\n",
    "\n",
    "    # Quantum Convolutional Neural Network\n",
    "    if U == 'U_TTN':\n",
    "        QCNN_structure(U_TTN, params, U_params)\n",
    "    elif U == 'U_5':\n",
    "        QCNN_structure(U_5, params, U_params)\n",
    "    elif U == 'U_6':\n",
    "        QCNN_structure(U_6, params, U_params)\n",
    "    elif U == 'U_9':\n",
    "        QCNN_structure(U_9, params, U_params)\n",
    "    elif U == 'U_13':\n",
    "        QCNN_structure(U_13, params, U_params)\n",
    "    elif U == 'U_14':\n",
    "        QCNN_structure(U_14, params, U_params)\n",
    "    elif U == 'U_15':\n",
    "        QCNN_structure(U_15, params, U_params)\n",
    "    elif U == 'U_SO4':\n",
    "        QCNN_structure(U_SO4, params, U_params)\n",
    "    elif U == 'U_SU4':\n",
    "        QCNN_structure(U_SU4, params, U_params)\n",
    "    elif U == 'U_SU4_no_pooling':\n",
    "        QCNN_structure_without_pooling(U_SU4, params, U_params)\n",
    "    elif U == 'U_SU4_1D':\n",
    "        QCNN_1D_circuit(U_SU4, params, U_params)\n",
    "    elif U == 'U_9_1D':\n",
    "        QCNN_1D_circuit(U_9, params, U_params)\n",
    "    else:\n",
    "        print(\"Invalid Unitary Ansatze\")\n",
    "        return False\n",
    "\n",
    "    if cost_fn == 'mse':\n",
    "        result = qml.expval(qml.PauliZ(4))\n",
    "    elif cost_fn == 'cross_entropy':\n",
    "        result = qml.probs(wires=4)\n",
    "    return result"
   ]
  },
  {
   "cell_type": "markdown",
   "metadata": {
    "id": "WqpwuxWaGdqP"
   },
   "source": [
    "## QCNN Training\n",
    "Defines the training loop for QCNN using the Nesterov Momentum Optimizer.\n",
    "- **Input**: Training data, QCNN parameters.\n",
    "- **Output**: Loss history, trained parameters."
   ]
  },
  {
   "cell_type": "markdown",
   "metadata": {
    "id": "axooP3UbLWTJ"
   },
   "source": []
  },
  {
   "cell_type": "markdown",
   "metadata": {
    "id": "p-NZZ6WmGdqP"
   },
   "source": [
    "## This cell contains functions for computing loss, training the circuit, and tracking the loss history."
   ]
  },
  {
   "cell_type": "code",
   "execution_count": null,
   "metadata": {
    "id": "Xz61p93lGdqQ"
   },
   "outputs": [],
   "source": [
    "# Implementation of Quantum circuit training procedure\n",
    "from pennylane import numpy as pnp\n",
    "import autograd.numpy as anp\n",
    "\n",
    "# Define loss functions\n",
    "def square_loss(labels, predictions):\n",
    "    loss = 0\n",
    "    for l, p in zip(labels, predictions):\n",
    "        loss = loss + (l - p) ** 2\n",
    "    loss = loss / len(labels)\n",
    "    return loss\n",
    "\n",
    "def cross_entropy(labels, predictions):\n",
    "    \"\"\"\n",
    "    Calculate cross-entropy loss between labels and predictions.\n",
    "\n",
    "    Args:\n",
    "        labels (list): True labels.\n",
    "        predictions (list): Predicted probabilities.\n",
    "\n",
    "    Returns:\n",
    "        float: Cross-entropy loss.\n",
    "    \"\"\"\n",
    "    loss = 0\n",
    "    for l, p in zip(labels, predictions):\n",
    "        # Ensure index access and valid probabilities\n",
    "        c_entropy = l * (anp.log(p[0])) + (1 - l) * anp.log(1 - p[1])\n",
    "        loss += c_entropy\n",
    "    return -1 * loss\n",
    "\n",
    "def cost(params, X, Y, U, U_params, cost_fn):\n",
    "    predictions = [QCNN(x, params, U, U_params, cost_fn) for x in X]\n",
    "    if cost_fn == 'mse':\n",
    "        return square_loss(Y, predictions)\n",
    "    elif cost_fn == 'cross_entropy':\n",
    "        return cross_entropy(Y, predictions)\n",
    "\n",
    "def circuit_training(X_train, Y_train, U, U_params, cost_fn):\n",
    "    params = pnp.random.randn(U_params * 3 + 6, requires_grad=True)\n",
    "    opt = qml.NesterovMomentumOptimizer(stepsize=0.01)\n",
    "    loss_history = []\n",
    "\n",
    "    for _ in range(200):\n",
    "        batch_index = pnp.random.randint(0, len(X_train), (25,))\n",
    "        X_batch = [X_train[i] for i in batch_index]\n",
    "        Y_batch = [Y_train[i] for i in batch_index]\n",
    "        params, cost_val = opt.step_and_cost(lambda v: cost(v, X_batch, Y_batch, U, U_params, cost_fn), params)\n",
    "        loss_history.append(cost_val)\n",
    "    return loss_history, params"
   ]
  },
  {
   "cell_type": "markdown",
   "metadata": {
    "id": "fwsvsQW7GdqQ"
   },
   "source": [
    "## QCNN Benchmarking\n",
    "Runs training and evaluation for different QCNN architectures (unitaries).\n",
    "- **Input**: List of unitary ansatze and cost functions.\n",
    "- **Output**: Training loss and accuracy."
   ]
  },
  {
   "cell_type": "code",
   "execution_count": null,
   "metadata": {
    "id": "_Dc_6L0hGdqQ"
   },
   "outputs": [],
   "source": [
    "def accuracy_test(predictions, labels, cost_fn):\n",
    "    if cost_fn == 'mse':\n",
    "        acc = 0\n",
    "        for l, p in zip(labels, predictions):\n",
    "            if np.abs(l - p) < 0.5:\n",
    "                acc = acc + 1\n",
    "        return acc / len(labels)\n",
    "\n",
    "    elif cost_fn == 'cross_entropy':\n",
    "        acc = 0\n",
    "        for l,p in zip(labels, predictions):\n",
    "            if p[0] > p[1]:\n",
    "                P = 0\n",
    "            else:\n",
    "                P = 1\n",
    "            if P == l:\n",
    "                acc = acc + 1\n",
    "        return acc / len(labels)\n",
    "\n",
    "def Benchmarking(Unitaries, U_num_params, cost_fn):\n",
    "    for i, U in enumerate(Unitaries):\n",
    "        X_train, X_test, Y_train, Y_test = data_load_and_process(audio_files, labels)\n",
    "        loss_history, trained_params = circuit_training(X_train, Y_train, U, U_num_params[i], cost_fn)\n",
    "        predictions = [QCNN(x, trained_params, U, U_num_params[i], cost_fn) for x in X_test]\n",
    "        accuracy = accuracy_test(predictions, Y_test, cost_fn)\n",
    "        print(f\"Accuracy for {U}: {accuracy}\")"
   ]
  },
  {
   "cell_type": "markdown",
   "metadata": {
    "id": "yfW39ol1GdqQ"
   },
   "source": [
    "## Actual Training\n",
    "- Run the QCNN circuit with multiple unitary parametrized gates, evaluate the cross-entropy loss, and benchmark their performance on the provided dataset."
   ]
  },
  {
   "cell_type": "code",
   "execution_count": null,
   "metadata": {
    "colab": {
     "base_uri": "https://localhost:8080/",
     "height": 0
    },
    "id": "gyu1dm_bGdqQ",
    "outputId": "ccf779b8-01c7-4740-9920-7ef9827ed3bf"
   },
   "outputs": [
    {
     "name": "stdout",
     "output_type": "stream",
     "text": [
      "=== QCNN Benchmarking ===\n",
      "\n",
      "--- Benchmarking for Unitary: U_SU4 ---\n"
     ]
    },
    {
     "name": "stderr",
     "output_type": "stream",
     "text": [
      "/opt/anaconda3/envs/conda_venv/lib/python3.11/site-packages/autograd/numpy/numpy_vjps.py:698: ComplexWarning: Casting complex values to real discards the imaginary part\n",
      "  onp.add.at(A, idx, x)\n"
     ]
    },
    {
     "name": "stdout",
     "output_type": "stream",
     "text": [
      "Final Accuracy for U_SU4: 0.00%\n",
      "Loss History for U_SU4: [0.3313054676240832, 0.3122758304281716, 0.3180162406541528, 0.33262124163258067, 0.33361128157302666] (last 5 iterations)\n",
      "--------------------------------------------------\n",
      "\n",
      "--- Benchmarking for Unitary: U_SU4_1D ---\n",
      "Final Accuracy for U_SU4_1D: 0.00%\n",
      "Loss History for U_SU4_1D: [0.3185221062905271, 0.31357309666562005, 0.3126226000758553, 0.29841937621744885, 0.3098076871567388] (last 5 iterations)\n",
      "--------------------------------------------------\n",
      "\n",
      "--- Benchmarking for Unitary: U_SU4_no_pooling ---\n",
      "Final Accuracy for U_SU4_no_pooling: 0.00%\n",
      "Loss History for U_SU4_no_pooling: [0.20336267987938195, 0.21925389872203124, 0.1912601844132249, 0.20759216454892893, 0.1873963751950059] (last 5 iterations)\n",
      "--------------------------------------------------\n",
      "\n",
      "--- Benchmarking for Unitary: U_9_1D ---\n",
      "Final Accuracy for U_9_1D: 16.91%\n",
      "Loss History for U_9_1D: [17.112791385077596, 16.959706265009412, 17.010547215845428, 16.815744874386205, 17.016972513146833] (last 5 iterations)\n",
      "--------------------------------------------------\n"
     ]
    }
   ],
   "source": [
    "def Benchmarking(Unitaries, U_num_params, cost_fn):\n",
    "    \"\"\"\n",
    "    Benchmark the QCNN performance for different unitary ansatze.\n",
    "\n",
    "    Args:\n",
    "        Unitaries (list): List of unitary ansatze names.\n",
    "        U_num_params (list): List of parameter counts corresponding to each unitary.\n",
    "        cost_fn (str): Loss function to use ('mse' or 'cross_entropy').\n",
    "\n",
    "    Returns:\n",
    "        None: Prints loss history and accuracy for each unitary ansatz.\n",
    "    \"\"\"\n",
    "    print(\"=== QCNN Benchmarking ===\")\n",
    "    for i, U in enumerate(Unitaries):\n",
    "        print(f\"\\n--- Benchmarking for Unitary: {U} ---\")\n",
    "\n",
    "        # Load and preprocess the dataset\n",
    "        X_train, X_test, Y_train, Y_test = data_load_and_process(audio_files, labels)\n",
    "\n",
    "        # Train the QCNN circuit\n",
    "        loss_history, trained_params = circuit_training(X_train, Y_train, U, U_num_params[i], cost_fn)\n",
    "\n",
    "        # Evaluate the model on the test set\n",
    "        predictions = [QCNN(x, trained_params, U, U_num_params[i], cost_fn) for x in X_test]\n",
    "        accuracy = accuracy_test(predictions, Y_test, cost_fn)\n",
    "\n",
    "        # Display results\n",
    "        print(f\"Final Accuracy for {U}: {accuracy * 100:.2f}%\")\n",
    "        print(f\"Loss History for {U}: {loss_history[-5:]} (last 5 iterations)\")\n",
    "        print(\"-\" * 50)\n",
    "\n",
    "# Define parameters for benchmarking\n",
    "Unitaries = ['U_SU4', 'U_SU4_1D', 'U_SU4_no_pooling', 'U_9_1D']\n",
    "U_num_params = [15, 15, 15, 2]\n",
    "cost_fn = 'cross_entropy'\n",
    "\n",
    "# Run benchmarking\n",
    "Benchmarking(Unitaries, U_num_params, cost_fn=cost_fn)"
   ]
  }
 ],
 "metadata": {
  "colab": {
   "provenance": []
  },
  "kernelspec": {
   "display_name": "conda_venv",
   "language": "python",
   "name": "python3"
  },
  "language_info": {
   "codemirror_mode": {
    "name": "ipython",
    "version": 3
   },
   "file_extension": ".py",
   "mimetype": "text/x-python",
   "name": "python",
   "nbconvert_exporter": "python",
   "pygments_lexer": "ipython3",
   "version": "3.11.11"
  }
 },
 "nbformat": 4,
 "nbformat_minor": 0
}
