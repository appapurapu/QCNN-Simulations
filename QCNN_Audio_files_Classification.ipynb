{
 "cells": [
  {
   "cell_type": "markdown",
   "metadata": {
    "id": "_79Tk6jLGdqI"
   },
   "source": [
    "# Quantum Convolutional Neural Networks (QCNN) for Audio Spectrogram Classification\n",
    "- A Hybrid Approach to Quantum Machine Learning"
   ]
  },
  {
   "cell_type": "markdown",
   "metadata": {
    "id": "OgoWmBVcGdqJ"
   },
   "source": [
    "## Import Libraries\n",
    "This cell imports the necessary libraries:\n",
    "- **NumPy, Matplotlib**: For numerical operations and visualization.\n",
    "- **Librosa**: For audio processing and spectrogram generation.\n",
    "- **PennyLane**: For quantum machine learning and simulation.\n",
    "- **Autograd**: For automatic differentiation."
   ]
  },
  {
   "cell_type": "code",
   "execution_count": 10,
   "metadata": {
    "colab": {
     "base_uri": "https://localhost:8080/",
     "height": 0
    },
    "id": "ycOnbMXKGiTP",
    "outputId": "651eeed9-0492-45f8-d5da-3197d99813e1"
   },
   "outputs": [],
   "source": [
    "\n",
    "# ============================\n",
    "# 1. Import Necessary Libraries\n",
    "# ============================\n",
    "\n",
    "import os\n",
    "import glob\n",
    "import shutil\n",
    "import librosa\n",
    "import librosa.display\n",
    "import numpy as np\n",
    "import matplotlib.pyplot as plt\n",
    "import soundfile as sf\n",
    "from tqdm import tqdm  # For progress bars during generation\n",
    "from sklearn.model_selection import train_test_split\n",
    "from sklearn.metrics import accuracy_score, confusion_matrix, classification_report\n",
    "import tensorflow as tf\n",
    "\n"
   ]
  },
  {
   "cell_type": "code",
   "execution_count": null,
   "metadata": {
    "id": "eempxxAvGdqK"
   },
   "outputs": [],
   "source": [
    "# ============================\n",
    "# 2. Define Constants and Functions for Audio Generation\n",
    "# ============================\n",
    "\n",
    "# Define constants\n",
    "DATASET_PATH = \"generated_songs\"  # Root directory for generated songs\n",
    "GENRES = [\"indian_classical\", \"western_pop\"]  # List of genres\n",
    "NUM_SAMPLES_PER_GENRE = 100  # Number of samples to generate per genre\n",
    "SAMPLING_RATE = 22050  # Sampling rate\n"
   ]
  },
  {
   "cell_type": "markdown",
   "metadata": {
    "id": "6FejFDReGdqL"
   },
   "source": [
    "## Spectrogram Generation\n",
    "This function generates and visualizes the spectrogram for a given audio files."
   ]
  },
  {
   "cell_type": "code",
   "execution_count": 12,
   "metadata": {
    "id": "P1QG_CXkGdqL"
   },
   "outputs": [],
   "source": [
    "# ============================\n",
    "# 3. Define Functions for Audio Generation\n",
    "# ============================\n",
    "\n",
    "def generate_indian_classical_song(sample_num):\n",
    "    \"\"\"\n",
    "    Generates a more complex Indian Classical song simulation.\n",
    "    \"\"\"\n",
    "    duration = 5  # seconds\n",
    "    t = np.linspace(0, duration, int(SAMPLING_RATE * duration), False)\n",
    "    frequencies = [220, 330, 440]  # A3, E4, A4 notes\n",
    "    audio = sum(0.3 * np.sin(2 * np.pi * f * t) for f in frequencies)\n",
    "    # Add vibrato\n",
    "    vibrato = 0.05 * np.sin(2 * np.pi * 5 * t)  # 5 Hz vibrato\n",
    "    audio *= (1 + vibrato)\n",
    "    # Add background noise\n",
    "    audio += 0.02 * np.random.randn(len(t))\n",
    "    return audio\n",
    "\n",
    "def generate_western_pop_song(sample_num):\n",
    "    \"\"\"\n",
    "    Generates a more complex Western Pop song simulation.\n",
    "    \"\"\"\n",
    "    duration = 5  # seconds\n",
    "    t = np.linspace(0, duration, int(SAMPLING_RATE * duration), False)\n",
    "    frequencies = [554.37, 659.25, 880.00]  # C#5, E5, A5 notes\n",
    "    audio = sum(0.3 * np.sin(2 * np.pi * f * t) for f in frequencies)\n",
    "    # Apply reverb effect (simulated by simple delay)\n",
    "    delay_samples = int(0.2 * SAMPLING_RATE)  # 200ms delay\n",
    "    audio_reverb = np.pad(audio, (delay_samples, 0), mode='constant')[:len(audio)]\n",
    "    audio += 0.2 * audio_reverb\n",
    "    # Add background noise\n",
    "    audio += 0.02 * np.random.randn(len(t))\n",
    "    return audio\n",
    "\n",
    "def normalize_audio(audio_data):\n",
    "    \"\"\"\n",
    "    Normalize audio data to int16 format.\n",
    "    \"\"\"\n",
    "    max_val = np.max(np.abs(audio_data))\n",
    "    if max_val == 0:\n",
    "        return np.zeros_like(audio_data, dtype=np.int16)\n",
    "    audio_normalized = audio_data / max_val  # Normalize to [-1, 1]\n",
    "    audio_int16 = np.int16(audio_normalized * 32767)  # Convert to int16\n",
    "    return audio_int16\n",
    "\n",
    "def save_audio(file_path, audio_data, sampling_rate):\n",
    "    \"\"\"\n",
    "    Save audio data to a .wav file.\n",
    "    \"\"\"\n",
    "    try:\n",
    "        sf.write(file_path, audio_data, sampling_rate)\n",
    "    except Exception as e:\n",
    "        print(f\"Failed to save {file_path}: {e}\")\n",
    "\n",
    "def plot_spectrogram(audio_path, output_dir='spectrograms', save_plot=True):\n",
    "    \"\"\"\n",
    "    Generates and saves a spectrogram for the given audio file.\n",
    "    \"\"\"\n",
    "    try:\n",
    "        # Ensure the output directory exists\n",
    "        if save_plot:\n",
    "            os.makedirs(output_dir, exist_ok=True)\n",
    "        \n",
    "        # Load the audio file\n",
    "        y, sr = librosa.load(audio_path, sr=None)\n",
    "        \n",
    "        # Generate the spectrogram\n",
    "        D = librosa.stft(y)\n",
    "        S_db = librosa.amplitude_to_db(abs(D), ref=np.max)\n",
    "        \n",
    "        # Plot the spectrogram\n",
    "        plt.figure(figsize=(10, 4))\n",
    "        librosa.display.specshow(S_db, sr=sr, x_axis='time', y_axis='log')\n",
    "        plt.colorbar(format='%+2.0f dB')\n",
    "        plt.title(f'Spectrogram for {os.path.basename(audio_path)}')\n",
    "        plt.tight_layout()\n",
    "        \n",
    "        if save_plot:\n",
    "            # Save the plot\n",
    "            base_name = os.path.splitext(os.path.basename(audio_path))[0]\n",
    "            output_path = os.path.join(output_dir, f\"{base_name}_spectrogram.png\")\n",
    "            plt.savefig(output_path)\n",
    "            plt.close()\n",
    "            print(f\"Spectrogram saved to {output_path}\")\n",
    "        else:\n",
    "            # Display the plot\n",
    "            plt.show()\n",
    "            \n",
    "    except Exception as e:\n",
    "        print(f\"Error processing file {audio_path}: {e}\")"
   ]
  },
  {
   "cell_type": "code",
   "execution_count": 13,
   "metadata": {},
   "outputs": [
    {
     "name": "stdout",
     "output_type": "stream",
     "text": [
      "Removed existing directory: generated_songs\n",
      "Dataset directory set to: generated_songs\n",
      "Ensured existence of genre directory: generated_songs/indian_classical\n",
      "Ensured existence of genre directory: generated_songs/western_pop\n",
      "\n",
      "Generating samples for genre: indian_classical\n"
     ]
    },
    {
     "name": "stderr",
     "output_type": "stream",
     "text": [
      "Generating indian_classical samples:  10%|█         | 1/10 [00:00<00:01,  5.62it/s]"
     ]
    },
    {
     "name": "stdout",
     "output_type": "stream",
     "text": [
      "Spectrogram saved to spectrograms/indian_classical_sample_1_spectrogram.png\n"
     ]
    },
    {
     "name": "stderr",
     "output_type": "stream",
     "text": [
      "Generating indian_classical samples:  20%|██        | 2/10 [00:00<00:01,  6.11it/s]"
     ]
    },
    {
     "name": "stdout",
     "output_type": "stream",
     "text": [
      "Spectrogram saved to spectrograms/indian_classical_sample_2_spectrogram.png\n"
     ]
    },
    {
     "name": "stderr",
     "output_type": "stream",
     "text": [
      "Generating indian_classical samples:  30%|███       | 3/10 [00:00<00:01,  6.25it/s]"
     ]
    },
    {
     "name": "stdout",
     "output_type": "stream",
     "text": [
      "Spectrogram saved to spectrograms/indian_classical_sample_3_spectrogram.png\n"
     ]
    },
    {
     "name": "stderr",
     "output_type": "stream",
     "text": [
      "Generating indian_classical samples:  40%|████      | 4/10 [00:00<00:00,  6.35it/s]"
     ]
    },
    {
     "name": "stdout",
     "output_type": "stream",
     "text": [
      "Spectrogram saved to spectrograms/indian_classical_sample_4_spectrogram.png\n"
     ]
    },
    {
     "name": "stderr",
     "output_type": "stream",
     "text": [
      "Generating indian_classical samples:  50%|█████     | 5/10 [00:00<00:00,  6.22it/s]"
     ]
    },
    {
     "name": "stdout",
     "output_type": "stream",
     "text": [
      "Spectrogram saved to spectrograms/indian_classical_sample_5_spectrogram.png\n"
     ]
    },
    {
     "name": "stderr",
     "output_type": "stream",
     "text": [
      "Generating indian_classical samples:  60%|██████    | 6/10 [00:00<00:00,  5.89it/s]"
     ]
    },
    {
     "name": "stdout",
     "output_type": "stream",
     "text": [
      "Spectrogram saved to spectrograms/indian_classical_sample_6_spectrogram.png\n"
     ]
    },
    {
     "name": "stderr",
     "output_type": "stream",
     "text": [
      "Generating indian_classical samples:  70%|███████   | 7/10 [00:01<00:00,  6.15it/s]"
     ]
    },
    {
     "name": "stdout",
     "output_type": "stream",
     "text": [
      "Spectrogram saved to spectrograms/indian_classical_sample_7_spectrogram.png\n"
     ]
    },
    {
     "name": "stderr",
     "output_type": "stream",
     "text": [
      "Generating indian_classical samples:  80%|████████  | 8/10 [00:01<00:00,  6.29it/s]"
     ]
    },
    {
     "name": "stdout",
     "output_type": "stream",
     "text": [
      "Spectrogram saved to spectrograms/indian_classical_sample_8_spectrogram.png\n"
     ]
    },
    {
     "name": "stderr",
     "output_type": "stream",
     "text": [
      "Generating indian_classical samples:  90%|█████████ | 9/10 [00:01<00:00,  6.44it/s]"
     ]
    },
    {
     "name": "stdout",
     "output_type": "stream",
     "text": [
      "Spectrogram saved to spectrograms/indian_classical_sample_9_spectrogram.png\n"
     ]
    },
    {
     "name": "stderr",
     "output_type": "stream",
     "text": [
      "Generating indian_classical samples: 100%|██████████| 10/10 [00:01<00:00,  6.30it/s]\n"
     ]
    },
    {
     "name": "stdout",
     "output_type": "stream",
     "text": [
      "Spectrogram saved to spectrograms/indian_classical_sample_10_spectrogram.png\n",
      "\n",
      "Generating samples for genre: western_pop\n"
     ]
    },
    {
     "name": "stderr",
     "output_type": "stream",
     "text": [
      "Generating western_pop samples:  10%|█         | 1/10 [00:00<00:01,  6.97it/s]"
     ]
    },
    {
     "name": "stdout",
     "output_type": "stream",
     "text": [
      "Spectrogram saved to spectrograms/western_pop_sample_1_spectrogram.png\n"
     ]
    },
    {
     "name": "stderr",
     "output_type": "stream",
     "text": [
      "Generating western_pop samples:  20%|██        | 2/10 [00:00<00:01,  6.90it/s]"
     ]
    },
    {
     "name": "stdout",
     "output_type": "stream",
     "text": [
      "Spectrogram saved to spectrograms/western_pop_sample_2_spectrogram.png\n"
     ]
    },
    {
     "name": "stderr",
     "output_type": "stream",
     "text": [
      "Generating western_pop samples:  30%|███       | 3/10 [00:00<00:01,  6.86it/s]"
     ]
    },
    {
     "name": "stdout",
     "output_type": "stream",
     "text": [
      "Spectrogram saved to spectrograms/western_pop_sample_3_spectrogram.png\n"
     ]
    },
    {
     "name": "stderr",
     "output_type": "stream",
     "text": [
      "Generating western_pop samples:  40%|████      | 4/10 [00:00<00:00,  6.67it/s]"
     ]
    },
    {
     "name": "stdout",
     "output_type": "stream",
     "text": [
      "Spectrogram saved to spectrograms/western_pop_sample_4_spectrogram.png\n"
     ]
    },
    {
     "name": "stderr",
     "output_type": "stream",
     "text": [
      "Generating western_pop samples:  50%|█████     | 5/10 [00:00<00:00,  6.68it/s]"
     ]
    },
    {
     "name": "stdout",
     "output_type": "stream",
     "text": [
      "Spectrogram saved to spectrograms/western_pop_sample_5_spectrogram.png\n"
     ]
    },
    {
     "name": "stderr",
     "output_type": "stream",
     "text": [
      "Generating western_pop samples:  60%|██████    | 6/10 [00:00<00:00,  6.76it/s]"
     ]
    },
    {
     "name": "stdout",
     "output_type": "stream",
     "text": [
      "Spectrogram saved to spectrograms/western_pop_sample_6_spectrogram.png\n"
     ]
    },
    {
     "name": "stderr",
     "output_type": "stream",
     "text": [
      "Generating western_pop samples:  70%|███████   | 7/10 [00:01<00:00,  6.84it/s]"
     ]
    },
    {
     "name": "stdout",
     "output_type": "stream",
     "text": [
      "Spectrogram saved to spectrograms/western_pop_sample_7_spectrogram.png\n"
     ]
    },
    {
     "name": "stderr",
     "output_type": "stream",
     "text": [
      "Generating western_pop samples:  80%|████████  | 8/10 [00:01<00:00,  6.85it/s]"
     ]
    },
    {
     "name": "stdout",
     "output_type": "stream",
     "text": [
      "Spectrogram saved to spectrograms/western_pop_sample_8_spectrogram.png\n"
     ]
    },
    {
     "name": "stderr",
     "output_type": "stream",
     "text": [
      "Generating western_pop samples: 100%|██████████| 10/10 [00:01<00:00,  6.53it/s]"
     ]
    },
    {
     "name": "stdout",
     "output_type": "stream",
     "text": [
      "Spectrogram saved to spectrograms/western_pop_sample_9_spectrogram.png\n",
      "Spectrogram saved to spectrograms/western_pop_sample_10_spectrogram.png\n",
      "\n",
      "All samples generated and saved successfully.\n"
     ]
    },
    {
     "name": "stderr",
     "output_type": "stream",
     "text": [
      "\n"
     ]
    }
   ],
   "source": [
    "def augment_audio_with_noise(file_path, noise_factor=0.005):\n",
    "    \"\"\"\n",
    "    Augments the audio by adding Gaussian noise.\n",
    "    Returns a list containing the augmented file path.\n",
    "    \"\"\"\n",
    "    try:\n",
    "        y, sr = librosa.load(file_path, sr=None)\n",
    "        noise = np.random.randn(len(y))\n",
    "        y_noise = y + noise_factor * noise\n",
    "\n",
    "        # Ensure the augmented audio is still in the valid range\n",
    "        y_noise = y_noise.astype(type(y[0]))\n",
    "\n",
    "        # Save the augmented audio\n",
    "        augmented_file = file_path.replace('.wav', '_noise.wav')\n",
    "        sf.write(augmented_file, y_noise, sr)\n",
    "        return [augmented_file]\n",
    "    except Exception as e:\n",
    "        print(f\"Error augmenting file {file_path}: {e}\")\n",
    "        return []\n",
    "\n",
    "def augment_audio_with_various(file_path):\n",
    "    \"\"\"\n",
    "    Apply multiple augmentation techniques to the audio file.\n",
    "    \"\"\"\n",
    "    augmented_files = []\n",
    "    try:\n",
    "        y, sr = librosa.load(file_path, sr=None)\n",
    "        \n",
    "        # Add Noise\n",
    "        y_noise = y + 0.002 * np.random.randn(len(y))  # Reduced noise_factor\n",
    "        noise_file = file_path.replace('.wav', '_noise.wav')\n",
    "        sf.write(noise_file, y_noise, sr)\n",
    "        augmented_files.append(noise_file)\n",
    "        \n",
    "        # Time Stretch\n",
    "        y_stretch = librosa.effects.time_stretch(y, rate=1.05)  # Less aggressive stretching\n",
    "        stretch_file = file_path.replace('.wav', '_stretch.wav')\n",
    "        sf.write(stretch_file, y_stretch, sr)\n",
    "        augmented_files.append(stretch_file)\n",
    "        \n",
    "        # Pitch Shift\n",
    "        y_pitch = librosa.effects.pitch_shift(y, sr=sr, n_steps=2)  # Smaller pitch shift\n",
    "        pitch_file = file_path.replace('.wav', '_pitch.wav')\n",
    "        sf.write(pitch_file, y_pitch, sr)\n",
    "        augmented_files.append(pitch_file)\n",
    "        \n",
    "    except Exception as e:\n",
    "        print(f\"Error augmenting file {file_path}: {e}\")\n",
    "    \n",
    "    return augmented_files\n",
    "\n",
    "from skimage.transform import resize\n",
    "\n",
    "\n",
    "def generate_multiple_samples():\n",
    "    \"\"\"\n",
    "    Generate and save multiple audio samples for each genre.\n",
    "    Each genre's samples are saved in their respective subdirectories within DATASET_PATH.\n",
    "    \"\"\"\n",
    "    # Clean up the existing dataset directory if it exists\n",
    "    if os.path.exists(DATASET_PATH):\n",
    "        try:\n",
    "            shutil.rmtree(DATASET_PATH)\n",
    "            print(f\"Removed existing directory: {DATASET_PATH}\")\n",
    "        except Exception as e:\n",
    "            print(f\"Error removing directory {DATASET_PATH}: {e}\")\n",
    "            return\n",
    "    \n",
    "    # Ensure the root dataset directory exists\n",
    "    os.makedirs(DATASET_PATH, exist_ok=True)\n",
    "    print(f\"Dataset directory set to: {DATASET_PATH}\")\n",
    "    \n",
    "    # Create subdirectories for each genre\n",
    "    genre_paths = {}\n",
    "    for genre in GENRES:\n",
    "        genre_dir = os.path.join(DATASET_PATH, genre)\n",
    "        os.makedirs(genre_dir, exist_ok=True)\n",
    "        genre_paths[genre] = genre_dir\n",
    "        print(f\"Ensured existence of genre directory: {genre_dir}\")\n",
    "    \n",
    "    # Generate and save samples for each genre\n",
    "    for genre in GENRES:\n",
    "        print(f\"\\nGenerating samples for genre: {genre}\")\n",
    "        for sample_num in tqdm(range(1, NUM_SAMPLES_PER_GENRE + 1), desc=f\"Generating {genre} samples\"):\n",
    "            if genre == \"indian_classical\":\n",
    "                audio_data = generate_indian_classical_song(sample_num)\n",
    "            elif genre == \"western_pop\":\n",
    "                audio_data = generate_western_pop_song(sample_num)\n",
    "            else:\n",
    "                print(f\"Unknown genre '{genre}'. Skipping sample generation.\")\n",
    "                continue  # Skip unknown genres\n",
    "            \n",
    "            # Normalize audio\n",
    "            audio_normalized = normalize_audio(audio_data)\n",
    "            \n",
    "            # Define filename and full path\n",
    "            filename = f\"{genre}_sample_{sample_num}.wav\"\n",
    "            file_path = os.path.join(genre_paths[genre], filename)\n",
    "            \n",
    "            # Save audio file\n",
    "            save_audio(file_path, audio_normalized, SAMPLING_RATE)\n",
    "            # Optionally, plot spectrogram\n",
    "            plot_spectrogram(file_path)\n",
    "    \n",
    "    print(\"\\nAll samples generated and saved successfully.\")\n",
    "\n",
    "# Execute the audio generation\n",
    "generate_multiple_samples()"
   ]
  },
  {
   "cell_type": "markdown",
   "metadata": {
    "id": "3K23WpR5GdqL"
   },
   "source": [
    "## Data Loading and Processing\n",
    "This function processes audio files into normalized spectrograms for training/testing.\n",
    "- **Inputs**:\n",
    "  - `audio_files`: List of audio file paths.\n",
    "  - `labels`: Corresponding binary labels.\n",
    "  - `num_features`: Feature size for quantum embedding.\n",
    "  - `test_split`: Proportion of test data.\n",
    "- **Outputs**: Train/test data splits: `X_train, X_test, Y_train, Y_test`.\n"
   ]
  },
  {
   "cell_type": "code",
   "execution_count": 14,
   "metadata": {},
   "outputs": [
    {
     "name": "stdout",
     "output_type": "stream",
     "text": [
      "Found 10 audio files for genre 'indian_classical'.\n",
      "Found 10 audio files for genre 'western_pop'.\n",
      "\n",
      "Total audio files collected: 20\n",
      "Total labels collected: 20\n",
      "File: generated_songs/indian_classical/indian_classical_sample_1.wav, Label: 0\n",
      "File: generated_songs/indian_classical/indian_classical_sample_3.wav, Label: 0\n",
      "File: generated_songs/indian_classical/indian_classical_sample_2.wav, Label: 0\n",
      "File: generated_songs/indian_classical/indian_classical_sample_10.wav, Label: 0\n",
      "File: generated_songs/indian_classical/indian_classical_sample_6.wav, Label: 0\n",
      "File: generated_songs/indian_classical/indian_classical_sample_7.wav, Label: 0\n",
      "File: generated_songs/indian_classical/indian_classical_sample_5.wav, Label: 0\n",
      "File: generated_songs/indian_classical/indian_classical_sample_4.wav, Label: 0\n",
      "File: generated_songs/indian_classical/indian_classical_sample_9.wav, Label: 0\n",
      "File: generated_songs/indian_classical/indian_classical_sample_8.wav, Label: 0\n"
     ]
    }
   ],
   "source": [
    "# List of genres and corresponding labels\n",
    "genre_labels = {\"indian_classical\": 0, \"western_pop\": 1}  # 0: Indian Classical, 1: Western Pop\n",
    "\n",
    "audio_files = []\n",
    "labels = []\n",
    "\n",
    "# Iterate through each genre directory and collect audio files and labels\n",
    "for genre, label in genre_labels.items():\n",
    "    genre_path = os.path.join(DATASET_PATH, genre)\n",
    "    if not os.path.isdir(genre_path):\n",
    "        print(f\"Genre directory {genre_path} does not exist. Skipping.\")\n",
    "        continue\n",
    "    # Find all WAV files in the genre directory\n",
    "    genre_audio_files = glob.glob(os.path.join(genre_path, '*.wav'))\n",
    "    audio_files.extend(genre_audio_files)\n",
    "    labels.extend([label] * len(genre_audio_files))\n",
    "    print(f\"Found {len(genre_audio_files)} audio files for genre '{genre}'.\")\n",
    "\n",
    "print(f\"\\nTotal audio files collected: {len(audio_files)}\")\n",
    "print(f\"Total labels collected: {len(labels)}\")\n",
    "\n",
    "# **Verify Label Alignment:**\n",
    "for i in range(min(10, len(audio_files))):\n",
    "    print(f\"File: {audio_files[i]}, Label: {labels[i]}\")"
   ]
  },
  {
   "cell_type": "markdown",
   "metadata": {
    "id": "ZpT-TJh4GdqM"
   },
   "source": [
    "## Load and Display Spectrograms"
   ]
  },
  {
   "cell_type": "code",
   "execution_count": 15,
   "metadata": {
    "colab": {
     "base_uri": "https://localhost:8080/",
     "height": 10898
    },
    "id": "ZvSFCvb8GdqM",
    "outputId": "933ecb72-429b-4054-d72d-716bdf823fd4"
   },
   "outputs": [
    {
     "name": "stdout",
     "output_type": "stream",
     "text": [
      "Training Data Shape: (64, 40, 128, 1), Testing Data Shape: (4, 40, 128, 1)\n",
      "Labels converted to one-hot encoding successfully.\n"
     ]
    }
   ],
   "source": [
    "# ============================\n",
    "# 3. Load and Process Audio Files for CNN\n",
    "# ============================\n",
    "from skimage.transform import resize\n",
    "\n",
    "def data_load_and_process_separate_augmentation(audio_files, labels, num_mfcc=40, img_height=40, img_width=128, test_split=0.2):\n",
    "    \"\"\"\n",
    "    Preprocess audio files with augmentation applied only to the training set.\n",
    "    \"\"\"\n",
    "    X = []\n",
    "    Y = []\n",
    "    for idx, file in enumerate(audio_files):\n",
    "        try:\n",
    "            y, sr = librosa.load(file, sr=None)\n",
    "            mfcc = librosa.feature.mfcc(y=y, sr=sr, n_mfcc=num_mfcc)\n",
    "            mfcc_scaled = librosa.util.normalize(mfcc)\n",
    "            mfcc_resized = resize(mfcc_scaled, (img_height, img_width), mode='constant')\n",
    "            \n",
    "            # Ensure the shape is (img_height, img_width, 1)\n",
    "            if len(mfcc_resized.shape) == 2:\n",
    "                mfcc_resized = mfcc_resized[..., np.newaxis]\n",
    "            elif len(mfcc_resized.shape) == 3:\n",
    "                pass  # Already has channel dimension\n",
    "            else:\n",
    "                print(f\"Unexpected shape {mfcc_resized.shape} for file {file}\")\n",
    "                continue\n",
    "            \n",
    "            X.append(mfcc_resized)\n",
    "            Y.append(labels[idx])\n",
    "        except Exception as e:\n",
    "            print(f\"Error processing file {file}: {e}\")\n",
    "            continue\n",
    "    \n",
    "    X = np.array(X)\n",
    "    Y = np.array(Y)\n",
    "    \n",
    "    # Train-test split with stratification\n",
    "    X_train, X_test, Y_train, Y_test = train_test_split(\n",
    "        X, Y, test_size=test_split, stratify=Y, random_state=42\n",
    "    )\n",
    "    \n",
    "    # Augment training data\n",
    "    augmented_X = []\n",
    "    augmented_Y = []\n",
    "    for i in range(len(X_train)):\n",
    "        file_path = audio_files[i]\n",
    "        augmented_files = augment_audio_with_various(file_path)\n",
    "        for aug_file in augmented_files:\n",
    "            try:\n",
    "                y_aug, sr_aug = librosa.load(aug_file, sr=None)\n",
    "                mfcc_aug = librosa.feature.mfcc(y=y_aug, sr=sr_aug, n_mfcc=num_mfcc)\n",
    "                mfcc_aug_scaled = librosa.util.normalize(mfcc_aug)\n",
    "                mfcc_aug_resized = resize(mfcc_aug_scaled, (img_height, img_width), mode='constant')\n",
    "                \n",
    "                # Ensure the shape is (img_height, img_width, 1)\n",
    "                if len(mfcc_aug_resized.shape) == 2:\n",
    "                    mfcc_aug_resized = mfcc_aug_resized[..., np.newaxis]\n",
    "                elif len(mfcc_aug_resized.shape) == 3:\n",
    "                    pass\n",
    "                else:\n",
    "                    print(f\"Unexpected shape {mfcc_aug_resized.shape} for file {aug_file}\")\n",
    "                    continue\n",
    "                \n",
    "                augmented_X.append(mfcc_aug_resized)\n",
    "                augmented_Y.append(Y_train[i])\n",
    "            except Exception as e:\n",
    "                print(f\"Error processing augmented file {aug_file}: {e}\")\n",
    "                continue\n",
    "    \n",
    "    if augmented_X:\n",
    "        X_train = np.concatenate((X_train, np.array(augmented_X)), axis=0)\n",
    "        Y_train = np.concatenate((Y_train, np.array(augmented_Y)), axis=0)\n",
    "    \n",
    "    # Shuffle training data\n",
    "    shuffle_idx = np.random.permutation(len(X_train))\n",
    "    X_train = X_train[shuffle_idx]\n",
    "    Y_train = Y_train[shuffle_idx]\n",
    "    \n",
    "    return X_train, X_test, Y_train, Y_test\n",
    "\n",
    "# Preprocess data\n",
    "try:\n",
    "    X_train, X_test, Y_train, Y_test = data_load_and_process_separate_augmentation(\n",
    "        audio_files, labels, num_mfcc=40, img_height=40, img_width=128, test_split=0.2\n",
    "    )\n",
    "    print(f\"Training Data Shape: {X_train.shape}, Testing Data Shape: {X_test.shape}\")\n",
    "except Exception as e:\n",
    "    print(f\"Pipeline failed: {e}\")\n",
    "\n",
    "\n",
    "# ============================\n",
    "# 7. Convert Labels to One-Hot Encoding\n",
    "# ============================\n",
    "\n",
    "if 'Y_train' in locals() and 'Y_test' in locals():\n",
    "    num_classes = len(genre_labels)\n",
    "    Y_train_onehot = tf.keras.utils.to_categorical(Y_train, num_classes=num_classes)\n",
    "    Y_test_onehot = tf.keras.utils.to_categorical(Y_test, num_classes=num_classes)\n",
    "    print(\"Labels converted to one-hot encoding successfully.\")\n",
    "else:\n",
    "    print(\"Pipeline failed: cannot access 'Y_train' and 'Y_test' because they are not defined.\")\n"
   ]
  },
  {
   "cell_type": "markdown",
   "metadata": {
    "id": "K5v_qLQ9GdqN"
   },
   "source": [
    "## CNN-based classifier for the spectogram data and find the accuracy results"
   ]
  },
  {
   "cell_type": "markdown",
   "metadata": {
    "id": "RnfMx_b4GdqN"
   },
   "source": [
    "### Augment_audio Method\n",
    "- **Purpose**: To artificially expand the dataset through data augmentation, creating variations of the same audio file (e.g., pitch-shifted, time-stretched).\n",
    "- **Why for CNN**:\n",
    "  - CNNs benefit from diverse training data to prevent overfitting.\n",
    "  - By augmenting the spectrogram inputs, CNNs can learn generalized features.\n",
    "- **Usage**: Augment audio files before converting them to spectrograms and feeding them into the CNN."
   ]
  },
  {
   "cell_type": "markdown",
   "metadata": {},
   "source": [
    "## Build CNN"
   ]
  },
  {
   "cell_type": "code",
   "execution_count": 16,
   "metadata": {
    "colab": {
     "base_uri": "https://localhost:8080/",
     "height": 436
    },
    "id": "Ma2TsgXUGdqN",
    "outputId": "1d029bc2-1d03-4dc9-b464-0d760dbe9012"
   },
   "outputs": [],
   "source": [
    "# ============================\n",
    "# 4. Define the CNN Model\n",
    "# ============================\n",
    "\n",
    "def build_simpler_cnn(input_shape):\n",
    "    \"\"\"\n",
    "    Builds a simpler CNN model to prevent overfitting.\n",
    "    \"\"\"\n",
    "    model = tf.keras.Sequential([\n",
    "        tf.keras.layers.Conv2D(32, (3, 3), activation='relu', input_shape=input_shape),\n",
    "        tf.keras.layers.MaxPooling2D((2, 2)),\n",
    "        tf.keras.layers.Dropout(0.3),\n",
    "\n",
    "        tf.keras.layers.Conv2D(64, (3, 3), activation='relu'),\n",
    "        tf.keras.layers.MaxPooling2D((2, 2)),\n",
    "        tf.keras.layers.Dropout(0.3),\n",
    "\n",
    "        tf.keras.layers.Flatten(),\n",
    "        tf.keras.layers.Dense(128, activation='relu'),\n",
    "        tf.keras.layers.Dropout(0.5),\n",
    "        tf.keras.layers.Dense(2, activation='softmax')  # Binary classification\n",
    "    ])\n",
    "\n",
    "    model.compile(optimizer='adam', loss='categorical_crossentropy', metrics=['accuracy'])\n",
    "    return model\n"
   ]
  },
  {
   "cell_type": "code",
   "execution_count": 17,
   "metadata": {},
   "outputs": [
    {
     "name": "stdout",
     "output_type": "stream",
     "text": [
      "Found 40 audio files for genre 'indian_classical'.\n",
      "Found 28 audio files for genre 'western_pop'.\n",
      "\n",
      "Total audio files collected: 68\n",
      "Total labels collected: 68\n",
      "File: generated_songs/indian_classical/indian_classical_sample_4_noise.wav, Label: 0\n",
      "File: generated_songs/indian_classical/indian_classical_sample_8_pitch.wav, Label: 0\n",
      "File: generated_songs/indian_classical/indian_classical_sample_9_noise.wav, Label: 0\n",
      "File: generated_songs/indian_classical/indian_classical_sample_5_pitch.wav, Label: 0\n",
      "File: generated_songs/indian_classical/indian_classical_sample_6_stretch.wav, Label: 0\n",
      "File: generated_songs/indian_classical/indian_classical_sample_10_noise.wav, Label: 0\n",
      "File: generated_songs/indian_classical/indian_classical_sample_3_stretch.wav, Label: 0\n",
      "File: generated_songs/indian_classical/indian_classical_sample_2_noise.wav, Label: 0\n",
      "File: generated_songs/indian_classical/indian_classical_sample_3_pitch.wav, Label: 0\n",
      "File: generated_songs/indian_classical/indian_classical_sample_5_noise.wav, Label: 0\n"
     ]
    }
   ],
   "source": [
    "# ============================\n",
    "# 5. Collect Audio Files and Assign Labels\n",
    "# ============================\n",
    "\n",
    "# List of genres and corresponding labels\n",
    "genre_labels = {\"indian_classical\": 0, \"western_pop\": 1}  # 0: Indian Classical, 1: Western Pop\n",
    "\n",
    "audio_files = []\n",
    "labels = []\n",
    "\n",
    "# Iterate through each genre directory and collect audio files and labels\n",
    "for genre, label in genre_labels.items():\n",
    "    genre_path = os.path.join(DATASET_PATH, genre)\n",
    "    if not os.path.isdir(genre_path):\n",
    "        print(f\"Genre directory {genre_path} does not exist. Skipping.\")\n",
    "        continue\n",
    "    # Find all WAV files in the genre directory\n",
    "    genre_audio_files = glob.glob(os.path.join(genre_path, '*.wav'))\n",
    "    audio_files.extend(genre_audio_files)\n",
    "    labels.extend([label] * len(genre_audio_files))\n",
    "    print(f\"Found {len(genre_audio_files)} audio files for genre '{genre}'.\")\n",
    "\n",
    "print(f\"\\nTotal audio files collected: {len(audio_files)}\")\n",
    "print(f\"Total labels collected: {len(labels)}\")\n",
    "\n",
    "# **Verify Label Alignment:**\n",
    "for i in range(min(10, len(audio_files))):\n",
    "    print(f\"File: {audio_files[i]}, Label: {labels[i]}\")"
   ]
  },
  {
   "cell_type": "code",
   "execution_count": 18,
   "metadata": {},
   "outputs": [
    {
     "name": "stdout",
     "output_type": "stream",
     "text": [
      "Pipeline failed: name 'data_load_and_process' is not defined\n",
      "Epoch 1/50\n",
      "4/4 [==============================] - 0s 37ms/step - loss: 0.8188 - accuracy: 0.4706 - val_loss: 0.6855 - val_accuracy: 0.5385\n",
      "Epoch 2/50\n",
      "4/4 [==============================] - 0s 17ms/step - loss: 0.7231 - accuracy: 0.5098 - val_loss: 0.6845 - val_accuracy: 0.5385\n",
      "Epoch 3/50\n",
      "4/4 [==============================] - 0s 14ms/step - loss: 0.7276 - accuracy: 0.3922 - val_loss: 0.6905 - val_accuracy: 0.5385\n",
      "Epoch 4/50\n",
      "4/4 [==============================] - 0s 14ms/step - loss: 0.6956 - accuracy: 0.4902 - val_loss: 0.6927 - val_accuracy: 0.5385\n",
      "Epoch 5/50\n"
     ]
    },
    {
     "name": "stderr",
     "output_type": "stream",
     "text": [
      "/opt/anaconda3/envs/conda_venv/lib/python3.11/site-packages/keras/src/engine/training.py:3103: UserWarning: You are saving your model as an HDF5 file via `model.save()`. This file format is considered legacy. We recommend using instead the native Keras format, e.g. `model.save('my_model.keras')`.\n",
      "  saving_api.save_model(\n"
     ]
    },
    {
     "name": "stdout",
     "output_type": "stream",
     "text": [
      "4/4 [==============================] - 0s 13ms/step - loss: 0.6930 - accuracy: 0.4706 - val_loss: 0.6932 - val_accuracy: 0.4615\n",
      "Epoch 6/50\n",
      "4/4 [==============================] - 0s 12ms/step - loss: 0.6949 - accuracy: 0.4902 - val_loss: 0.6930 - val_accuracy: 0.5385\n",
      "Epoch 7/50\n",
      "4/4 [==============================] - 0s 13ms/step - loss: 0.6868 - accuracy: 0.5294 - val_loss: 0.6932 - val_accuracy: 0.4615\n",
      "Final CNN Accuracy: 50.00%\n",
      "1/1 [==============================] - 0s 32ms/step\n",
      "Final CNN Accuracy using sklearn: 50.00%\n"
     ]
    },
    {
     "data": {
      "image/png": "[encoded data removed]",
      "text/plain": [
       "<Figure size 1200x400 with 2 Axes>"
      ]
     },
     "metadata": {},
     "output_type": "display_data"
    },
    {
     "name": "stdout",
     "output_type": "stream",
     "text": [
      "Confusion Matrix:\n",
      "[[0 2]\n",
      " [0 2]]\n",
      "\n",
      "Classification Report:\n",
      "                  precision    recall  f1-score   support\n",
      "\n",
      "indian_classical       0.00      0.00      0.00         2\n",
      "     western_pop       0.50      1.00      0.67         2\n",
      "\n",
      "        accuracy                           0.50         4\n",
      "       macro avg       0.25      0.50      0.33         4\n",
      "    weighted avg       0.25      0.50      0.33         4\n",
      "\n"
     ]
    },
    {
     "name": "stderr",
     "output_type": "stream",
     "text": [
      "/opt/anaconda3/envs/conda_venv/lib/python3.11/site-packages/sklearn/metrics/_classification.py:1531: UndefinedMetricWarning: Precision is ill-defined and being set to 0.0 in labels with no predicted samples. Use `zero_division` parameter to control this behavior.\n",
      "  _warn_prf(average, modifier, f\"{metric.capitalize()} is\", len(result))\n",
      "/opt/anaconda3/envs/conda_venv/lib/python3.11/site-packages/sklearn/metrics/_classification.py:1531: UndefinedMetricWarning: Precision is ill-defined and being set to 0.0 in labels with no predicted samples. Use `zero_division` parameter to control this behavior.\n",
      "  _warn_prf(average, modifier, f\"{metric.capitalize()} is\", len(result))\n",
      "/opt/anaconda3/envs/conda_venv/lib/python3.11/site-packages/sklearn/metrics/_classification.py:1531: UndefinedMetricWarning: Precision is ill-defined and being set to 0.0 in labels with no predicted samples. Use `zero_division` parameter to control this behavior.\n",
      "  _warn_prf(average, modifier, f\"{metric.capitalize()} is\", len(result))\n"
     ]
    }
   ],
   "source": [
    "# ============================\n",
    "# 6. Preprocess Data\n",
    "# ============================\n",
    "\n",
    "# Preprocess data\n",
    "try:\n",
    "    X_train, X_test, Y_train, Y_test = data_load_and_process(audio_files, labels, num_mfcc=40, img_height=40, img_width=128, test_split=0.2)\n",
    "    print(f\"Training Data Shape: {X_train.shape}, Testing Data Shape: {X_test.shape}\")\n",
    "except Exception as e:\n",
    "    print(f\"Pipeline failed: {e}\")\n",
    "\n",
    "# ============================\n",
    "# 7. Convert Labels to One-Hot Encoding\n",
    "# ============================\n",
    "\n",
    "num_classes = len(genre_labels)\n",
    "Y_train_onehot = tf.keras.utils.to_categorical(Y_train, num_classes=num_classes)\n",
    "Y_test_onehot = tf.keras.utils.to_categorical(Y_test, num_classes=num_classes)\n",
    "\n",
    "# ============================\n",
    "# 8. Build and Compile the CNN Model\n",
    "# ============================\n",
    "cnn_model = build_simpler_cnn(X_train.shape[1:])\n",
    "cnn_model.compile(optimizer='adam', loss='categorical_crossentropy', metrics=['accuracy'])\n",
    "# ============================\n",
    "# 9. Define Callbacks\n",
    "# ============================\n",
    "\n",
    "early_stop = tf.keras.callbacks.EarlyStopping(monitor='val_loss', patience=5, restore_best_weights=True)\n",
    "checkpoint = tf.keras.callbacks.ModelCheckpoint('best_cnn_model.h5', monitor='val_loss', save_best_only=True)\n",
    "\n",
    "# ============================\n",
    "# 10. Train the CNN Model\n",
    "# ============================\n",
    "\n",
    "history = cnn_model.fit(\n",
    "    X_train, Y_train_onehot,\n",
    "    epochs=50,\n",
    "    batch_size=16,\n",
    "    validation_split=0.2,\n",
    "    callbacks=[early_stop, checkpoint],\n",
    "    verbose=1\n",
    ")\n",
    "\n",
    "# ============================\n",
    "# 11. Evaluate the CNN Model\n",
    "# ============================\n",
    "\n",
    "# Evaluate the CNN model\n",
    "loss, accuracy = cnn_model.evaluate(X_test, Y_test_onehot, verbose=0)\n",
    "print(f\"Final CNN Accuracy: {accuracy * 100:.2f}%\")\n",
    "\n",
    "# Predictions and accuracy\n",
    "Y_pred = np.argmax(cnn_model.predict(X_test), axis=1)\n",
    "Y_true = np.argmax(Y_test_onehot, axis=1)\n",
    "final_accuracy = accuracy_score(Y_true, Y_pred)\n",
    "print(f\"Final CNN Accuracy using sklearn: {final_accuracy * 100:.2f}%\")\n",
    "\n",
    "# ============================\n",
    "# 12. Plot Training History\n",
    "# ============================\n",
    "\n",
    "# Plot Training History\n",
    "plt.figure(figsize=(12, 4))\n",
    "\n",
    "# Plot Accuracy\n",
    "plt.subplot(1, 2, 1)\n",
    "plt.plot(history.history['accuracy'], label='Train Accuracy')\n",
    "plt.plot(history.history['val_accuracy'], label='Validation Accuracy')\n",
    "plt.title('Model Accuracy over Epochs')\n",
    "plt.xlabel('Epoch')\n",
    "plt.ylabel('Accuracy')\n",
    "plt.legend()\n",
    "\n",
    "# Plot Loss\n",
    "plt.subplot(1, 2, 2)\n",
    "plt.plot(history.history['loss'], label='Train Loss')\n",
    "plt.plot(history.history['val_loss'], label='Validation Loss')\n",
    "plt.title('Model Loss over Epochs')\n",
    "plt.xlabel('Epoch')\n",
    "plt.ylabel('Loss')\n",
    "plt.legend()\n",
    "\n",
    "plt.tight_layout()\n",
    "plt.show()\n",
    "\n",
    "# ============================\n",
    "# 13. Display Confusion Matrix and Classification Report\n",
    "# ============================\n",
    "\n",
    "cm = confusion_matrix(Y_true, Y_pred)\n",
    "print(\"Confusion Matrix:\")\n",
    "print(cm)\n",
    "\n",
    "print(\"\\nClassification Report:\")\n",
    "print(classification_report(Y_true, Y_pred, target_names=genre_labels.keys()))"
   ]
  },
  {
   "cell_type": "markdown",
   "metadata": {
    "id": "h-ZrOUM3GdqO"
   },
   "source": [
    "## Data Preprocessing for Quantum Models\n",
    "Processes audio data into spectrograms, normalizes them, and splits them into training and testing datasets, preparing them for QCNN input"
   ]
  },
  {
   "cell_type": "code",
   "execution_count": 19,
   "metadata": {
    "id": "OdePPgezJjSU"
   },
   "outputs": [],
   "source": [
    "def data_load_and_process(audio_files=None, labels=None, num_features=256, test_split=0.2):\n",
    "    import numpy as np\n",
    "    import librosa\n",
    "\n",
    "    spectrograms = []\n",
    "    for file in audio_files:\n",
    "        try:\n",
    "            y, sr = librosa.load(file, sr=None)\n",
    "            D = librosa.stft(y)\n",
    "            S_db = librosa.amplitude_to_db(np.abs(D), ref=np.max)\n",
    "\n",
    "            S_flattened = S_db.flatten()\n",
    "            if len(S_flattened) >= num_features:\n",
    "                S_resized = S_flattened[:num_features]\n",
    "            else:\n",
    "                S_resized = np.pad(S_flattened, (0, num_features - len(S_flattened)), mode='constant')\n",
    "\n",
    "            S_normalized = S_resized / np.linalg.norm(S_resized)\n",
    "            spectrograms.append(S_normalized)\n",
    "        except Exception as e:\n",
    "            print(f\"Error processing file {file}: {e}\")\n",
    "            continue\n",
    "\n",
    "    X = np.array(spectrograms)\n",
    "    if len(labels) == 2:  # If binary labels are provided\n",
    "        labels = np.tile(labels, len(X) // len(labels) + 1)[:len(X)]\n",
    "\n",
    "    Y = np.array(labels)\n",
    "    split_index = int(len(X) * (1 - test_split))\n",
    "    X_train, X_test = X[:split_index], X[split_index:]\n",
    "    Y_train, Y_test = Y[:split_index], Y[split_index:]\n",
    "\n",
    "    return X_train, X_test, Y_train, Y_test\n"
   ]
  },
  {
   "cell_type": "markdown",
   "metadata": {
    "id": "KMk9ndwhGdqO"
   },
   "source": [
    "## Quantum Circuit Components\n",
    "Defines modular building blocks for the Quantum Convolutional Neural Network (QCNN), including:\n",
    "- **Unitary gates**: E.g., `U_TTN`.\n",
    "- **Convolutional layers**: Apply quantum operations.\n",
    "- **Pooling layers**: Reduce quantum states."
   ]
  },
  {
   "cell_type": "code",
   "execution_count": 20,
   "metadata": {
    "id": "tY78fd86GdqO"
   },
   "outputs": [],
   "source": [
    "# Quantum Circuit Components\n",
    "def U_TTN(params, wires):\n",
    "    qml.RY(params[0], wires=wires[0])\n",
    "    qml.RY(params[1], wires=wires[1])\n",
    "    qml.CNOT(wires=[wires[0], wires[1]])\n",
    "\n",
    "def U_5(params, wires):  # 10 params\n",
    "    qml.RX(params[0], wires=wires[0])\n",
    "    qml.RX(params[1], wires=wires[1])\n",
    "    qml.RZ(params[2], wires=wires[0])\n",
    "    qml.RZ(params[3], wires=wires[1])\n",
    "    qml.CRZ(params[4], wires=[wires[1], wires[0]])\n",
    "    qml.CRZ(params[5], wires=[wires[0], wires[1]])\n",
    "    qml.RX(params[6], wires=wires[0])\n",
    "    qml.RX(params[7], wires=wires[1])\n",
    "    qml.RZ(params[8], wires=wires[0])\n",
    "    qml.RZ(params[9], wires=wires[1])\n",
    "\n",
    "\n",
    "def U_6(params, wires):  # 10 params\n",
    "    qml.RX(params[0], wires=wires[0])\n",
    "    qml.RX(params[1], wires=wires[1])\n",
    "    qml.RZ(params[2], wires=wires[0])\n",
    "    qml.RZ(params[3], wires=wires[1])\n",
    "    qml.CRX(params[4], wires=[wires[1], wires[0]])\n",
    "    qml.CRX(params[5], wires=[wires[0], wires[1]])\n",
    "    qml.RX(params[6], wires=wires[0])\n",
    "    qml.RX(params[7], wires=wires[1])\n",
    "    qml.RZ(params[8], wires=wires[0])\n",
    "    qml.RZ(params[9], wires=wires[1])\n",
    "\n",
    "\n",
    "def U_9(params, wires):  # 2 params\n",
    "    qml.Hadamard(wires=wires[0])\n",
    "    qml.Hadamard(wires=wires[1])\n",
    "    qml.CZ(wires=[wires[0], wires[1]])\n",
    "    qml.RX(params[0], wires=wires[0])\n",
    "    qml.RX(params[1], wires=wires[1])\n",
    "\n",
    "\n",
    "def U_13(params, wires):  # 6 params\n",
    "    qml.RY(params[0], wires=wires[0])\n",
    "    qml.RY(params[1], wires=wires[1])\n",
    "    qml.CRZ(params[2], wires=[wires[1], wires[0]])\n",
    "    qml.RY(params[3], wires=wires[0])\n",
    "    qml.RY(params[4], wires=wires[1])\n",
    "    qml.CRZ(params[5], wires=[wires[0], wires[1]])\n",
    "\n",
    "\n",
    "def U_14(params, wires):  # 6 params\n",
    "    qml.RY(params[0], wires=wires[0])\n",
    "    qml.RY(params[1], wires=wires[1])\n",
    "    qml.CRX(params[2], wires=[wires[1], wires[0]])\n",
    "    qml.RY(params[3], wires=wires[0])\n",
    "    qml.RY(params[4], wires=wires[1])\n",
    "    qml.CRX(params[5], wires=[wires[0], wires[1]])\n",
    "\n",
    "\n",
    "def U_15(params, wires):  # 4 params\n",
    "    qml.RY(params[0], wires=wires[0])\n",
    "    qml.RY(params[1], wires=wires[1])\n",
    "    qml.CNOT(wires=[wires[1], wires[0]])\n",
    "    qml.RY(params[2], wires=wires[0])\n",
    "    qml.RY(params[3], wires=wires[1])\n",
    "    qml.CNOT(wires=[wires[0], wires[1]])\n",
    "\n",
    "\n",
    "def U_SO4(params, wires):  # 6 params\n",
    "    qml.RY(params[0], wires=wires[0])\n",
    "    qml.RY(params[1], wires=wires[1])\n",
    "    qml.CNOT(wires=[wires[0], wires[1]])\n",
    "    qml.RY(params[2], wires=wires[0])\n",
    "    qml.RY(params[3], wires=wires[1])\n",
    "    qml.CNOT(wires=[wires[0], wires[1]])\n",
    "    qml.RY(params[4], wires=wires[0])\n",
    "    qml.RY(params[5], wires=wires[1])\n",
    "\n",
    "\n",
    "def U_SU4(params, wires): # 15 params\n",
    "    qml.U3(params[0], params[1], params[2], wires=wires[0])\n",
    "    qml.U3(params[3], params[4], params[5], wires=wires[1])\n",
    "    qml.CNOT(wires=[wires[0], wires[1]])\n",
    "    qml.RY(params[6], wires=wires[0])\n",
    "    qml.RZ(params[7], wires=wires[1])\n",
    "    qml.CNOT(wires=[wires[1], wires[0]])\n",
    "    qml.RY(params[8], wires=wires[0])\n",
    "    qml.CNOT(wires=[wires[0], wires[1]])\n",
    "    qml.U3(params[9], params[10], params[11], wires=wires[0])\n",
    "    qml.U3(params[12], params[13], params[14], wires=wires[1])\n",
    "\n",
    "# Quantum Circuits for Convolutional layers\n",
    "def conv_layer1(U, params):\n",
    "    U(params, wires=[0, 7])\n",
    "    for i in range(0, 8, 2):\n",
    "        U(params, wires=[i, i + 1])\n",
    "    for i in range(1, 7, 2):\n",
    "        U(params, wires=[i, i + 1])\n",
    "\n",
    "def conv_layer2(U, params):\n",
    "    U(params, wires=[0, 6])\n",
    "    U(params, wires=[0, 2])\n",
    "    U(params, wires=[4, 6])\n",
    "    U(params, wires=[2, 4])\n",
    "\n",
    "def conv_layer3(U, params):\n",
    "    U(params, wires=[0,4])"
   ]
  },
  {
   "cell_type": "markdown",
   "metadata": {
    "id": "nW_bNb0rGdqO"
   },
   "source": [
    "## Define Pooling Strategies\n",
    "Pooling layers reduce the size of the quantum data, similar to classical pooling in CNNs."
   ]
  },
  {
   "cell_type": "code",
   "execution_count": 21,
   "metadata": {
    "id": "I8Pvik0YGdqP"
   },
   "outputs": [],
   "source": [
    "# Pooling layers\n",
    "\n",
    "def Pooling_ansatz1(params, wires):\n",
    "    qml.CRZ(params[0], wires=[wires[0], wires[1]])\n",
    "    qml.PauliX(wires=wires[0])\n",
    "    qml.CRX(params[1], wires=[wires[0], wires[1]])\n",
    "\n",
    "def pooling_layer1(V, params):\n",
    "    for i in range(0, 8, 2):\n",
    "        V(params, wires=[i + 1, i])\n",
    "\n",
    "def pooling_layer2(V, params):\n",
    "    V(params, wires=[2,0])\n",
    "    V(params, wires=[6,4])\n",
    "\n",
    "def pooling_layer3(V, params):\n",
    "    V(params, wires=[0,4])"
   ]
  },
  {
   "cell_type": "markdown",
   "metadata": {
    "id": "BuDyNcLsGdqP"
   },
   "source": [
    "## QCNN Structure\n",
    "Defines the full QCNN architecture, including convolutional and pooling layers."
   ]
  },
  {
   "cell_type": "code",
   "execution_count": 22,
   "metadata": {
    "id": "CYwmGYKFGdqP"
   },
   "outputs": [],
   "source": [
    "def QCNN_structure(U, params, U_params):\n",
    "    param1 = params[0:U_params]\n",
    "    param2 = params[U_params: 2 * U_params]\n",
    "    param3 = params[2 * U_params: 3 * U_params]\n",
    "    param4 = params[3 * U_params: 3 * U_params + 2]\n",
    "    param5 = params[3 * U_params + 2: 3 * U_params + 4]\n",
    "    param6 = params[3 * U_params + 4: 3 * U_params + 6]\n",
    "\n",
    "    conv_layer1(U, param1)\n",
    "    pooling_layer1(Pooling_ansatz1, param4)\n",
    "    conv_layer2(U, param2)\n",
    "    pooling_layer2(Pooling_ansatz1, param5)\n",
    "    conv_layer3(U, param3)\n",
    "    pooling_layer3(Pooling_ansatz1, param6)\n",
    "\n",
    "def QCNN_structure_without_pooling(U, params, U_params):\n",
    "    param1 = params[0:U_params]\n",
    "    param2 = params[U_params: 2 * U_params]\n",
    "    param3 = params[2 * U_params: 3 * U_params]\n",
    "\n",
    "    conv_layer1(U, param1)\n",
    "    conv_layer2(U, param2)\n",
    "    conv_layer3(U, param3)\n",
    "\n",
    "def QCNN_1D_circuit(U, params, U_params):\n",
    "    param1 = params[0: U_params]\n",
    "    param2 = params[U_params: 2*U_params]\n",
    "    param3 = params[2*U_params: 3*U_params]\n",
    "\n",
    "    for i in range(0, 8, 2):\n",
    "        U(param1, wires=[i, i + 1])\n",
    "    for i in range(1, 7, 2):\n",
    "        U(param1, wires=[i, i + 1])\n",
    "\n",
    "    U(param2, wires=[2,3])\n",
    "    U(param2, wires=[4,5])\n",
    "    U(param3, wires=[3,4])"
   ]
  },
  {
   "cell_type": "markdown",
   "metadata": {
    "id": "BXM0EZmxGdqP"
   },
   "source": [
    "## QCNN Circuit\n",
    "Implements the QCNN with amplitude embedding and modular structure. The output is based on the cost function:\n",
    "- **Cross-entropy**: Returns probabilities.\n",
    "- **Mean-squared error**: Returns expectation value."
   ]
  },
  {
   "cell_type": "markdown",
   "metadata": {
    "id": "CApchJ8AGdqP"
   },
   "source": [
    "## The dev variable initializes a quantum device. In this example \"default.qubit\" with 8 wires is used."
   ]
  },
  {
   "cell_type": "code",
   "execution_count": 23,
   "metadata": {
    "id": "AU3Usb--GdqP"
   },
   "outputs": [],
   "source": [
    "import pennylane as qml\n",
    "import pennylane as qml\n",
    "from pennylane.templates.embeddings import AmplitudeEmbedding\n",
    "\n",
    "# Define the QCNN quantum node\n",
    "dev = qml.device('default.qubit', wires = 8)\n",
    "@qml.qnode(dev)\n",
    "def QCNN(X, params, U, U_params, cost_fn='cross_entropy'):\n",
    "\n",
    "    # Data Embedding - Consider Amplitude Embedding\n",
    "    AmplitudeEmbedding(X, wires=range(8), normalize=True)\n",
    "\n",
    "    # Quantum Convolutional Neural Network\n",
    "    if U == 'U_TTN':\n",
    "        QCNN_structure(U_TTN, params, U_params)\n",
    "    elif U == 'U_5':\n",
    "        QCNN_structure(U_5, params, U_params)\n",
    "    elif U == 'U_6':\n",
    "        QCNN_structure(U_6, params, U_params)\n",
    "    elif U == 'U_9':\n",
    "        QCNN_structure(U_9, params, U_params)\n",
    "    elif U == 'U_13':\n",
    "        QCNN_structure(U_13, params, U_params)\n",
    "    elif U == 'U_14':\n",
    "        QCNN_structure(U_14, params, U_params)\n",
    "    elif U == 'U_15':\n",
    "        QCNN_structure(U_15, params, U_params)\n",
    "    elif U == 'U_SO4':\n",
    "        QCNN_structure(U_SO4, params, U_params)\n",
    "    elif U == 'U_SU4':\n",
    "        QCNN_structure(U_SU4, params, U_params)\n",
    "    elif U == 'U_SU4_no_pooling':\n",
    "        QCNN_structure_without_pooling(U_SU4, params, U_params)\n",
    "    elif U == 'U_SU4_1D':\n",
    "        QCNN_1D_circuit(U_SU4, params, U_params)\n",
    "    elif U == 'U_9_1D':\n",
    "        QCNN_1D_circuit(U_9, params, U_params)\n",
    "    else:\n",
    "        print(\"Invalid Unitary Ansatze\")\n",
    "        return False\n",
    "\n",
    "    if cost_fn == 'mse':\n",
    "        result = qml.expval(qml.PauliZ(4))\n",
    "    elif cost_fn == 'cross_entropy':\n",
    "        result = qml.probs(wires=4)\n",
    "    return result"
   ]
  },
  {
   "cell_type": "markdown",
   "metadata": {
    "id": "WqpwuxWaGdqP"
   },
   "source": [
    "## QCNN Training\n",
    "Defines the training loop for QCNN using the Nesterov Momentum Optimizer.\n",
    "- **Input**: Training data, QCNN parameters.\n",
    "- **Output**: Loss history, trained parameters."
   ]
  },
  {
   "cell_type": "markdown",
   "metadata": {
    "id": "axooP3UbLWTJ"
   },
   "source": []
  },
  {
   "cell_type": "markdown",
   "metadata": {
    "id": "p-NZZ6WmGdqP"
   },
   "source": [
    "## This cell contains functions for computing loss, training the circuit, and tracking the loss history."
   ]
  },
  {
   "cell_type": "code",
   "execution_count": 24,
   "metadata": {
    "id": "Xz61p93lGdqQ"
   },
   "outputs": [],
   "source": [
    "# Implementation of Quantum circuit training procedure\n",
    "from pennylane import numpy as pnp\n",
    "import autograd.numpy as anp\n",
    "\n",
    "# Define loss functions\n",
    "def square_loss(labels, predictions):\n",
    "    loss = 0\n",
    "    for l, p in zip(labels, predictions):\n",
    "        loss = loss + (l - p) ** 2\n",
    "    loss = loss / len(labels)\n",
    "    return loss\n",
    "\n",
    "def cross_entropy(labels, predictions):\n",
    "    \"\"\"\n",
    "    Calculate cross-entropy loss between labels and predictions.\n",
    "\n",
    "    Args:\n",
    "        labels (list): True labels.\n",
    "        predictions (list): Predicted probabilities.\n",
    "\n",
    "    Returns:\n",
    "        float: Cross-entropy loss.\n",
    "    \"\"\"\n",
    "    loss = 0\n",
    "    for l, p in zip(labels, predictions):\n",
    "        # Ensure index access and valid probabilities\n",
    "        c_entropy = l * (anp.log(p[0])) + (1 - l) * anp.log(1 - p[1])\n",
    "        loss += c_entropy\n",
    "    return -1 * loss\n",
    "\n",
    "def cost(params, X, Y, U, U_params, cost_fn):\n",
    "    predictions = [QCNN(x, params, U, U_params, cost_fn) for x in X]\n",
    "    if cost_fn == 'mse':\n",
    "        return square_loss(Y, predictions)\n",
    "    elif cost_fn == 'cross_entropy':\n",
    "        return cross_entropy(Y, predictions)\n",
    "\n",
    "def circuit_training(X_train, Y_train, U, U_params, cost_fn):\n",
    "    params = pnp.random.randn(U_params * 3 + 6, requires_grad=True)\n",
    "    opt = qml.NesterovMomentumOptimizer(stepsize=0.01)\n",
    "    loss_history = []\n",
    "\n",
    "    for _ in range(200):\n",
    "        batch_index = pnp.random.randint(0, len(X_train), (25,))\n",
    "        X_batch = [X_train[i] for i in batch_index]\n",
    "        Y_batch = [Y_train[i] for i in batch_index]\n",
    "        params, cost_val = opt.step_and_cost(lambda v: cost(v, X_batch, Y_batch, U, U_params, cost_fn), params)\n",
    "        loss_history.append(cost_val)\n",
    "    return loss_history, params"
   ]
  },
  {
   "cell_type": "markdown",
   "metadata": {
    "id": "fwsvsQW7GdqQ"
   },
   "source": [
    "## QCNN Benchmarking\n",
    "Runs training and evaluation for different QCNN architectures (unitaries).\n",
    "- **Input**: List of unitary ansatze and cost functions.\n",
    "- **Output**: Training loss and accuracy."
   ]
  },
  {
   "cell_type": "code",
   "execution_count": 25,
   "metadata": {
    "id": "_Dc_6L0hGdqQ"
   },
   "outputs": [],
   "source": [
    "def accuracy_test(predictions, labels, cost_fn):\n",
    "    if cost_fn == 'mse':\n",
    "        acc = 0\n",
    "        for l, p in zip(labels, predictions):\n",
    "            if np.abs(l - p) < 0.5:\n",
    "                acc = acc + 1\n",
    "        return acc / len(labels)\n",
    "\n",
    "    elif cost_fn == 'cross_entropy':\n",
    "        acc = 0\n",
    "        for l,p in zip(labels, predictions):\n",
    "            if p[0] > p[1]:\n",
    "                P = 0\n",
    "            else:\n",
    "                P = 1\n",
    "            if P == l:\n",
    "                acc = acc + 1\n",
    "        return acc / len(labels)\n",
    "\n",
    "def Benchmarking(Unitaries, U_num_params, cost_fn):\n",
    "    for i, U in enumerate(Unitaries):\n",
    "        X_train, X_test, Y_train, Y_test = data_load_and_process(audio_files, labels)\n",
    "        loss_history, trained_params = circuit_training(X_train, Y_train, U, U_num_params[i], cost_fn)\n",
    "        predictions = [QCNN(x, trained_params, U, U_num_params[i], cost_fn) for x in X_test]\n",
    "        accuracy = accuracy_test(predictions, Y_test, cost_fn)\n",
    "        print(f\"Accuracy for {U}: {accuracy}\")"
   ]
  },
  {
   "cell_type": "markdown",
   "metadata": {
    "id": "yfW39ol1GdqQ"
   },
   "source": [
    "## Actual Training\n",
    "- Run the QCNN circuit with multiple unitary parametrized gates, evaluate the cross-entropy loss, and benchmark their performance on the provided dataset."
   ]
  },
  {
   "cell_type": "code",
   "execution_count": 26,
   "metadata": {
    "colab": {
     "base_uri": "https://localhost:8080/",
     "height": 0
    },
    "id": "gyu1dm_bGdqQ",
    "outputId": "ccf779b8-01c7-4740-9920-7ef9827ed3bf"
   },
   "outputs": [
    {
     "name": "stdout",
     "output_type": "stream",
     "text": [
      "=== QCNN Benchmarking ===\n",
      "\n",
      "--- Benchmarking for Unitary: U_SU4 ---\n"
     ]
    },
    {
     "name": "stderr",
     "output_type": "stream",
     "text": [
      "/opt/anaconda3/envs/conda_venv/lib/python3.11/site-packages/autograd/numpy/numpy_vjps.py:698: ComplexWarning: Casting complex values to real discards the imaginary part\n",
      "  onp.add.at(A, idx, x)\n"
     ]
    },
    {
     "name": "stdout",
     "output_type": "stream",
     "text": [
      "Final Accuracy for U_SU4: 0.00%\n",
      "Loss History for U_SU4: [0.33172906954286135, 0.3182812847535848, 0.3185349892833423, 0.32026193065996317, 0.30923631886188624] (last 5 iterations)\n",
      "--------------------------------------------------\n",
      "\n",
      "--- Benchmarking for Unitary: U_SU4_1D ---\n",
      "Final Accuracy for U_SU4_1D: 0.00%\n",
      "Loss History for U_SU4_1D: [0.24952500773848946, 0.2550710065015386, 0.24747127928052617, 0.24405425182600415, 0.25622442887407565] (last 5 iterations)\n",
      "--------------------------------------------------\n",
      "\n",
      "--- Benchmarking for Unitary: U_SU4_no_pooling ---\n",
      "Final Accuracy for U_SU4_no_pooling: 0.00%\n",
      "Loss History for U_SU4_no_pooling: [0.4941726813634798, 0.46734443049155916, 0.45525916878411893, 0.38561962564216634, 0.34519415659772956] (last 5 iterations)\n",
      "--------------------------------------------------\n",
      "\n",
      "--- Benchmarking for Unitary: U_9_1D ---\n",
      "Final Accuracy for U_9_1D: 14.29%\n",
      "Loss History for U_9_1D: [16.44859988039542, 16.35029396671171, 16.375614747943214, 16.390359182396235, 16.677221471587252] (last 5 iterations)\n",
      "--------------------------------------------------\n"
     ]
    }
   ],
   "source": [
    "def Benchmarking(Unitaries, U_num_params, cost_fn):\n",
    "    \"\"\"\n",
    "    Benchmark the QCNN performance for different unitary ansatze.\n",
    "\n",
    "    Args:\n",
    "        Unitaries (list): List of unitary ansatze names.\n",
    "        U_num_params (list): List of parameter counts corresponding to each unitary.\n",
    "        cost_fn (str): Loss function to use ('mse' or 'cross_entropy').\n",
    "\n",
    "    Returns:\n",
    "        None: Prints loss history and accuracy for each unitary ansatz.\n",
    "    \"\"\"\n",
    "    print(\"=== QCNN Benchmarking ===\")\n",
    "    for i, U in enumerate(Unitaries):\n",
    "        print(f\"\\n--- Benchmarking for Unitary: {U} ---\")\n",
    "\n",
    "        # Load and preprocess the dataset\n",
    "        X_train, X_test, Y_train, Y_test = data_load_and_process(audio_files, labels)\n",
    "\n",
    "        # Train the QCNN circuit\n",
    "        loss_history, trained_params = circuit_training(X_train, Y_train, U, U_num_params[i], cost_fn)\n",
    "\n",
    "        # Evaluate the model on the test set\n",
    "        predictions = [QCNN(x, trained_params, U, U_num_params[i], cost_fn) for x in X_test]\n",
    "        accuracy = accuracy_test(predictions, Y_test, cost_fn)\n",
    "\n",
    "        # Display results\n",
    "        print(f\"Final Accuracy for {U}: {accuracy * 100:.2f}%\")\n",
    "        print(f\"Loss History for {U}: {loss_history[-5:]} (last 5 iterations)\")\n",
    "        print(\"-\" * 50)\n",
    "\n",
    "# Define parameters for benchmarking\n",
    "Unitaries = ['U_SU4', 'U_SU4_1D', 'U_SU4_no_pooling', 'U_9_1D']\n",
    "U_num_params = [15, 15, 15, 2]\n",
    "cost_fn = 'cross_entropy'\n",
    "\n",
    "# Run benchmarking\n",
    "Benchmarking(Unitaries, U_num_params, cost_fn=cost_fn)"
   ]
  }
 ],
 "metadata": {
  "colab": {
   "provenance": []
  },
  "kernelspec": {
   "display_name": "conda_venv",
   "language": "python",
   "name": "python3"
  },
  "language_info": {
   "codemirror_mode": {
    "name": "ipython",
    "version": 3
   },
   "file_extension": ".py",
   "mimetype": "text/x-python",
   "name": "python",
   "nbconvert_exporter": "python",
   "pygments_lexer": "ipython3",
   "version": "3.11.11"
  }
 },
 "nbformat": 4,
 "nbformat_minor": 0
}
